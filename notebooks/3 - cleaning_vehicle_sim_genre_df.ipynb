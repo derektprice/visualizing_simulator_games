{
 "cells": [
  {
   "cell_type": "code",
   "execution_count": null,
   "id": "6ffae6b0",
   "metadata": {},
   "outputs": [],
   "source": [
    "import pandas as pd"
   ]
  },
  {
   "cell_type": "code",
   "execution_count": null,
   "id": "f39480dc",
   "metadata": {},
   "outputs": [],
   "source": [
    "df = pd.read_csv(\"../data/vehicle_sim_158_df_w_genre.csv\")"
   ]
  },
  {
   "cell_type": "code",
   "execution_count": null,
   "id": "9fc98192",
   "metadata": {
    "scrolled": true
   },
   "outputs": [],
   "source": [
    "df"
   ]
  },
  {
   "cell_type": "markdown",
   "id": "1cafd30a",
   "metadata": {},
   "source": [
    "### checking for duplicates (really should not be any)"
   ]
  },
  {
   "cell_type": "code",
   "execution_count": null,
   "id": "7763a7c5",
   "metadata": {},
   "outputs": [],
   "source": [
    "#from https://stackoverflow.com/questions/29836836/how-do-i-filter-a-pandas-dataframe-based-on-value-counts\n",
    "df_dupes = df[df['game_id'].map(df['game_id'].value_counts()) > 1]"
   ]
  },
  {
   "cell_type": "code",
   "execution_count": null,
   "id": "c32f9456",
   "metadata": {},
   "outputs": [],
   "source": [
    "#this shows no duplicates by game_id\n",
    "df_dupes"
   ]
  },
  {
   "cell_type": "markdown",
   "id": "ecae6dd4",
   "metadata": {},
   "source": [
    "### creating a \"all genres\" column"
   ]
  },
  {
   "cell_type": "code",
   "execution_count": null,
   "id": "59009d9d",
   "metadata": {
    "scrolled": true
   },
   "outputs": [],
   "source": [
    "df[\"title\"].astype(str)"
   ]
  },
  {
   "cell_type": "code",
   "execution_count": null,
   "id": "d6a4fab1",
   "metadata": {},
   "outputs": [],
   "source": [
    "df.info()"
   ]
  },
  {
   "cell_type": "code",
   "execution_count": null,
   "id": "c646057a",
   "metadata": {},
   "outputs": [],
   "source": [
    "df[\"all_genres\"] = df[\"genre_name1\"].map(str) + \" , \"+\tdf[\"genre_name2\"].map(str) + \" , \"+\tdf[\"genre_name3\"].map(str) + \" , \"+\tdf[\"genre_name4\"].map(str) + \" , \"+\tdf[\"genre_name5\"].map(str) + \" , \"+\tdf[\"genre_name6\"].map(str) + \" , \"+\tdf[\"genre_name7\"].map(str) + \" , \"+\tdf[\"genre_name8\"].map(str) + \" , \"+\tdf[\"genre_name9\"].map(str) + \" , \"+\tdf[\"genre_name10\"].map(str) + \" , \"+\tdf[\"genre_name11\"].map(str) + \" , \"+\tdf[\"genre_name12\"].map(str) + \" , \"+\tdf[\"genre_name13\"].map(str) + \" , \"+\tdf[\"genre_name14\"].map(str) + \" , \"+\tdf[\"genre_name15\"].map(str) + \" , \"+\tdf[\"genre_name16\"].map(str) + \" , \"+\tdf[\"genre_name17\"].map(str) + \" , \"+\tdf[\"genre_name18\"].map(str) + \" , \"+\tdf[\"genre_name19\"].map(str) + \" , \"+\tdf[\"genre_name20\"].map(str) + \" , \"+\tdf[\"genre_name21\"].map(str) + \" , \"+\tdf[\"genre_name22\"].map(str) + \" , \"+\tdf[\"genre_name23\"].map(str) + \" , \"+\tdf[\"genre_name24\"].map(str) + \" , \"+\tdf[\"genre_name25\"].map(str)\n"
   ]
  },
  {
   "cell_type": "code",
   "execution_count": null,
   "id": "bce0bd28",
   "metadata": {
    "scrolled": false
   },
   "outputs": [],
   "source": [
    "df[\"all_genres\"]"
   ]
  },
  {
   "cell_type": "code",
   "execution_count": null,
   "id": "b80b5561",
   "metadata": {},
   "outputs": [],
   "source": [
    "df"
   ]
  },
  {
   "cell_type": "code",
   "execution_count": null,
   "id": "1e78a277",
   "metadata": {},
   "outputs": [],
   "source": [
    "df.to_csv(\"../data/genre_158_with_allgenre_column_11Dec21.csv\")"
   ]
  },
  {
   "cell_type": "code",
   "execution_count": null,
   "id": "13311495",
   "metadata": {},
   "outputs": [],
   "source": [
    "# note: I'm not going to do much genre filtering - I'm just going with whatever is tagged, at least once, as \"vehicle simulator\""
   ]
  },
  {
   "cell_type": "markdown",
   "id": "5efb4f60",
   "metadata": {},
   "source": [
    "### finding earliest release date for each game"
   ]
  },
  {
   "cell_type": "code",
   "execution_count": null,
   "id": "300fb586",
   "metadata": {
    "scrolled": true
   },
   "outputs": [],
   "source": [
    "df1 = df.loc[:, df.columns.str.contains('release_date')].astype('datetime64[s]')"
   ]
  },
  {
   "cell_type": "code",
   "execution_count": null,
   "id": "05024498",
   "metadata": {
    "scrolled": true
   },
   "outputs": [],
   "source": [
    "df1"
   ]
  },
  {
   "cell_type": "code",
   "execution_count": null,
   "id": "6636f8b2",
   "metadata": {},
   "outputs": [],
   "source": [
    "#after discussing with teachers, going to use release_date1 only, instead of comparing - also it seems like release_date1 is actually the earliest one, almost every time, or its imprecise and there would be no real way to compare"
   ]
  },
  {
   "cell_type": "markdown",
   "id": "53cbbcdd",
   "metadata": {},
   "source": [
    "### changing release_date1 to datetime and creating new column of just the year"
   ]
  },
  {
   "cell_type": "code",
   "execution_count": null,
   "id": "6deedf72",
   "metadata": {
    "scrolled": true
   },
   "outputs": [],
   "source": [
    "df[\"release_date1\"] = df[\"release_date1\"].astype('datetime64[s]')"
   ]
  },
  {
   "cell_type": "code",
   "execution_count": null,
   "id": "3c003f13",
   "metadata": {},
   "outputs": [],
   "source": [
    "df[\"release_date1_year\"] = df[\"release_date1\"].dt.year"
   ]
  },
  {
   "cell_type": "code",
   "execution_count": null,
   "id": "ca6decb6",
   "metadata": {
    "scrolled": true
   },
   "outputs": [],
   "source": [
    "df"
   ]
  },
  {
   "cell_type": "code",
   "execution_count": null,
   "id": "5075f21c",
   "metadata": {},
   "outputs": [],
   "source": [
    "df.to_csv(\"../data/genre_158_release_year_11Dec21_2.csv\")"
   ]
  }
 ],
 "metadata": {
  "kernelspec": {
   "display_name": "Python 3",
   "language": "python",
   "name": "python3"
  },
  "language_info": {
   "codemirror_mode": {
    "name": "ipython",
    "version": 3
   },
   "file_extension": ".py",
   "mimetype": "text/x-python",
   "name": "python",
   "nbconvert_exporter": "python",
   "pygments_lexer": "ipython3",
   "version": "3.8.8"
  }
 },
 "nbformat": 4,
 "nbformat_minor": 5
}
