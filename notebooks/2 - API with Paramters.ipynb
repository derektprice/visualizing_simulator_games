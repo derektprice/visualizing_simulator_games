{
 "cells": [
  {
   "cell_type": "code",
   "execution_count": null,
   "id": "4aa21b99",
   "metadata": {},
   "outputs": [],
   "source": [
    "import requests\n",
    "from bs4 import BeautifulSoup\n",
    "from time import sleep"
   ]
  },
  {
   "cell_type": "code",
   "execution_count": null,
   "id": "113c6dbb",
   "metadata": {},
   "outputs": [],
   "source": [
    "base_url = 'https://api.mobygames.com/v1/'\n",
    "endpoint_var = 'games'\n",
    "api_key = open(\"../data/mobygames_api_key.txt\")\n",
    "endpoint= base_url + endpoint_var"
   ]
  },
  {
   "cell_type": "code",
   "execution_count": null,
   "id": "02d91911",
   "metadata": {},
   "outputs": [],
   "source": [
    "parameters = {\"format\":\"normal\", \n",
    "              \"api_key\": api_key, \n",
    "              \"genre\":158,\n",
    "              \"offset\":99\n",
    "#               \"id\":2\n",
    "             }"
   ]
  },
  {
   "cell_type": "code",
   "execution_count": null,
   "id": "4a87a0f5",
   "metadata": {
    "scrolled": true
   },
   "outputs": [],
   "source": [
    "response = requests.get(endpoint, params=parameters)\n",
    "response"
   ]
  },
  {
   "cell_type": "code",
   "execution_count": null,
   "id": "aa53c8d3",
   "metadata": {},
   "outputs": [],
   "source": [
    "res = response.json()"
   ]
  },
  {
   "cell_type": "code",
   "execution_count": null,
   "id": "1eee0bd5",
   "metadata": {},
   "outputs": [],
   "source": [
    "type(res)"
   ]
  },
  {
   "cell_type": "code",
   "execution_count": null,
   "id": "95995cc0",
   "metadata": {},
   "outputs": [],
   "source": [
    "len(res[\"games\"])"
   ]
  },
  {
   "cell_type": "code",
   "execution_count": null,
   "id": "3871ba8a",
   "metadata": {
    "scrolled": false
   },
   "outputs": [],
   "source": [
    "res[\"games\"][0].keys()"
   ]
  },
  {
   "cell_type": "code",
   "execution_count": null,
   "id": "a8fd4310",
   "metadata": {},
   "outputs": [],
   "source": [
    "print(res[\"games\"][0][\"moby_url\"])"
   ]
  },
  {
   "cell_type": "code",
   "execution_count": null,
   "id": "5b7b1f5d",
   "metadata": {
    "scrolled": true
   },
   "outputs": [],
   "source": [
    "#this returns one of the first release dates from one of the platforms - this is one way to get dates\n",
    "print(res[\"games\"][0][\"platforms\"][0][\"first_release_date\"])\n",
    "print(res[\"games\"][0][\"platforms\"][0][\"platform_id\"])"
   ]
  },
  {
   "cell_type": "code",
   "execution_count": null,
   "id": "ff4ded9f",
   "metadata": {},
   "outputs": [],
   "source": [
    "# this gets to a json file that actually has the companies and their roles \n",
    "# https://api.mobygames.com/v1/games/2/platforms/2?api_key=HNHLsy8e6RGr4updLtrw1g=="
   ]
  },
  {
   "cell_type": "markdown",
   "id": "dfe5b04e",
   "metadata": {},
   "source": [
    "### A function for looping through responses of 100, offset by 100, until it hits the end\n",
    "the goal of this funciton is to fill up the data dictionary with a bunch of other response dictionaries that contain all games for the given \"genre\" - in this case, 158, or \"vehicle simulator\""
   ]
  },
  {
   "cell_type": "code",
   "execution_count": null,
   "id": "66db0757",
   "metadata": {},
   "outputs": [],
   "source": [
    "y=100\n",
    "x=1\n",
    "data = {}"
   ]
  },
  {
   "cell_type": "code",
   "execution_count": null,
   "id": "cccf3c6f",
   "metadata": {
    "scrolled": true
   },
   "outputs": [],
   "source": [
    "#WARNING: THIS DOESN'T BREAK - RESPONSE WILL BE 200 EVEN IF OFFSET IS TOO HIGH, APPARENTLY - \n",
    "#NEED TO CHECK THE RES[\"GAMES\"] DICT TO SEE IF EMPTY, THATS THE WAY TO DO IT - use len like this:\n",
    "#len(data[\"games12\"])\n",
    "\n",
    "# while True:\n",
    "#         base_url = 'https://api.mobygames.com/v1/'\n",
    "#         endpoint_var = 'games'\n",
    "#         api_key = open(\"../data/mobygames_api_key.txt\")\n",
    "#         endpoint= base_url + endpoint_var\n",
    "#         parameters = {\"format\":\"normal\", \n",
    "#                   \"api_key\": api_key, \n",
    "#                   \"genre\":158,\n",
    "#                   \"offset\":y}\n",
    "#         response = requests.get(endpoint, params=parameters)\n",
    "#         print(response)\n",
    "#         response_string = str(response)\n",
    "#         if response_string == \"<Response [200]>\":\n",
    "#             res = response.json()\n",
    "#             res[\"games\"+str(x)] = res[\"games\"]\n",
    "#             del res[\"games\"]\n",
    "#             data = {**data, **res}\n",
    "#             y+=100\n",
    "#             x+=1\n",
    "#             sleep(10)\n",
    "#         else:\n",
    "#             break"
   ]
  },
  {
   "cell_type": "code",
   "execution_count": null,
   "id": "192f35b9",
   "metadata": {
    "scrolled": true
   },
   "outputs": [],
   "source": [
    "data.keys()"
   ]
  },
  {
   "cell_type": "code",
   "execution_count": null,
   "id": "b924f2ef",
   "metadata": {},
   "outputs": [],
   "source": [
    "# import pickle\n",
    "# f = open(\"file.pkl\",\"wb\")\n",
    "# pickle.dump(data,f)\n",
    "# f.close()\n",
    "#stopped at 693\n",
    "#lol program just keeps going because apparently it will get a blank list and return it - still gets a 200"
   ]
  },
  {
   "cell_type": "code",
   "execution_count": null,
   "id": "a4fdabf0",
   "metadata": {},
   "outputs": [],
   "source": [
    "len(data[\"games12\"])"
   ]
  },
  {
   "cell_type": "code",
   "execution_count": null,
   "id": "fa5bbe68",
   "metadata": {},
   "outputs": [],
   "source": []
  },
  {
   "cell_type": "code",
   "execution_count": null,
   "id": "8e9e429e",
   "metadata": {},
   "outputs": [],
   "source": []
  }
 ],
 "metadata": {
  "kernelspec": {
   "display_name": "Python 3",
   "language": "python",
   "name": "python3"
  },
  "language_info": {
   "codemirror_mode": {
    "name": "ipython",
    "version": 3
   },
   "file_extension": ".py",
   "mimetype": "text/x-python",
   "name": "python",
   "nbconvert_exporter": "python",
   "pygments_lexer": "ipython3",
   "version": "3.8.8"
  }
 },
 "nbformat": 4,
 "nbformat_minor": 5
}
