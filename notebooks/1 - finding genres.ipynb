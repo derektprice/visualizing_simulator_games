{
 "cells": [
  {
   "cell_type": "code",
   "execution_count": null,
   "id": "c40560c9",
   "metadata": {},
   "outputs": [],
   "source": [
    "import requests\n",
    "from bs4 import BeautifulSoup\n",
    "from time import sleep\n",
    "import json"
   ]
  },
  {
   "cell_type": "code",
   "execution_count": null,
   "id": "6082529b",
   "metadata": {},
   "outputs": [],
   "source": [
    "base_url = 'https://api.mobygames.com/v1/'\n",
    "endpoint_var = 'genres'\n",
    "api_key = open(\"../data/mobygames_api_key.txt\")\n",
    "endpoint= base_url + endpoint_var"
   ]
  },
  {
   "cell_type": "code",
   "execution_count": null,
   "id": "9964bffd",
   "metadata": {},
   "outputs": [],
   "source": [
    "parameters = {\"format\":\"normal\", \n",
    "              \"api_key\": api_key \n",
    "#               \"genre\":1, \n",
    "#               \"id\":2\n",
    "             }"
   ]
  },
  {
   "cell_type": "markdown",
   "id": "c63140da",
   "metadata": {},
   "source": [
    "### Endpoints\n",
    "\n",
    "We will be using the `requests` package to make a `GET` request to an API. Similar to webscraping, APIs require an endpoint to tell python where to send the request.\n"
   ]
  },
  {
   "cell_type": "code",
   "execution_count": null,
   "id": "a286eb14",
   "metadata": {},
   "outputs": [],
   "source": [
    "response = requests.get(endpoint, params=parameters)\n",
    "response"
   ]
  },
  {
   "cell_type": "code",
   "execution_count": null,
   "id": "23e3c56b",
   "metadata": {},
   "outputs": [],
   "source": [
    "## jsonify the response"
   ]
  },
  {
   "cell_type": "code",
   "execution_count": null,
   "id": "2c842209",
   "metadata": {},
   "outputs": [],
   "source": [
    "res = response.json()"
   ]
  },
  {
   "cell_type": "code",
   "execution_count": null,
   "id": "d5326af3",
   "metadata": {
    "scrolled": false
   },
   "outputs": [],
   "source": [
    "res"
   ]
  },
  {
   "cell_type": "code",
   "execution_count": null,
   "id": "77060431",
   "metadata": {},
   "outputs": [],
   "source": [
    "#this is a list\n",
    "type(res[\"genres\"])"
   ]
  },
  {
   "cell_type": "code",
   "execution_count": null,
   "id": "4a4e67d0",
   "metadata": {},
   "outputs": [],
   "source": [
    "#each list item is a dictionary\n",
    "type(res[\"genres\"][0])"
   ]
  },
  {
   "cell_type": "code",
   "execution_count": null,
   "id": "49e53eb7",
   "metadata": {
    "scrolled": true
   },
   "outputs": [],
   "source": [
    "res[\"genres\"][3]"
   ]
  },
  {
   "cell_type": "code",
   "execution_count": null,
   "id": "562371a9",
   "metadata": {},
   "outputs": [],
   "source": [
    "#initialize easier genre dict\n",
    "genre_Name = []\n",
    "genre_ID = []"
   ]
  },
  {
   "cell_type": "code",
   "execution_count": null,
   "id": "847b82b3",
   "metadata": {},
   "outputs": [],
   "source": [
    "## iterate through list and pull out genre names and genre ids\n",
    "for dictionary in res[\"genres\"]:\n",
    "    genre_Name.append(dictionary[\"genre_name\"])\n",
    "    genre_ID.append(dictionary[\"genre_id\"])\n",
    "    \n",
    "    "
   ]
  },
  {
   "cell_type": "code",
   "execution_count": null,
   "id": "44c62c73",
   "metadata": {},
   "outputs": [],
   "source": [
    "#list comprehension\n",
    "genre_Name = [name.lower() for name in genre_Name]"
   ]
  },
  {
   "cell_type": "code",
   "execution_count": null,
   "id": "d6a98c12",
   "metadata": {},
   "outputs": [],
   "source": [
    "genre_Name"
   ]
  },
  {
   "cell_type": "code",
   "execution_count": null,
   "id": "73cc1174",
   "metadata": {},
   "outputs": [],
   "source": [
    "## zipping lists together to create easier genre dict\n",
    "genre_dictionary = dict(zip(genre_Name, genre_ID))"
   ]
  },
  {
   "cell_type": "code",
   "execution_count": null,
   "id": "5e2bfb2c",
   "metadata": {
    "scrolled": true
   },
   "outputs": [],
   "source": [
    "genre_dictionary.keys()"
   ]
  },
  {
   "cell_type": "code",
   "execution_count": null,
   "id": "1e303965",
   "metadata": {},
   "outputs": [],
   "source": [
    "for (key, value) in genre_dictionary.items():\n",
    "    if \"simulation\" in key:\n",
    "        print(value)"
   ]
  },
  {
   "cell_type": "markdown",
   "id": "d78e159d",
   "metadata": {},
   "source": [
    "### use params"
   ]
  },
  {
   "cell_type": "code",
   "execution_count": null,
   "id": "38ad028c",
   "metadata": {},
   "outputs": [],
   "source": [
    "base_url = 'https://api.mobygames.com/v1/'\n",
    "endpoint_var = 'games'\n",
    "api_key = open(\"../data/mobygames_api_key.txt\")\n",
    "endpoint= base_url + endpoint_var"
   ]
  },
  {
   "cell_type": "code",
   "execution_count": null,
   "id": "e3e6d6fb",
   "metadata": {},
   "outputs": [],
   "source": [
    "parameters = {\"format\":\"normal\", \"api_key\": api_key, \"genre\":1, \"offset\":100}"
   ]
  },
  {
   "cell_type": "code",
   "execution_count": null,
   "id": "071d8555",
   "metadata": {},
   "outputs": [],
   "source": [
    "response = requests.get(endpoint, params=parameters)"
   ]
  },
  {
   "cell_type": "code",
   "execution_count": null,
   "id": "e4caf605",
   "metadata": {
    "scrolled": true
   },
   "outputs": [],
   "source": [
    "response"
   ]
  },
  {
   "cell_type": "code",
   "execution_count": null,
   "id": "b52f155f",
   "metadata": {},
   "outputs": [],
   "source": [
    "res2 = response.json()"
   ]
  },
  {
   "cell_type": "code",
   "execution_count": null,
   "id": "fdd0fb25",
   "metadata": {},
   "outputs": [],
   "source": [
    "len(res2[\"games\"])"
   ]
  },
  {
   "cell_type": "code",
   "execution_count": null,
   "id": "34396332",
   "metadata": {},
   "outputs": [],
   "source": [
    "res2[\"games\"][0].keys()"
   ]
  },
  {
   "cell_type": "code",
   "execution_count": null,
   "id": "384c206d",
   "metadata": {},
   "outputs": [],
   "source": [
    "with open('../data/json_test.json', 'w') as f:\n",
    "    json.dump(res2, f)"
   ]
  }
 ],
 "metadata": {
  "kernelspec": {
   "display_name": "Python 3",
   "language": "python",
   "name": "python3"
  },
  "language_info": {
   "codemirror_mode": {
    "name": "ipython",
    "version": 3
   },
   "file_extension": ".py",
   "mimetype": "text/x-python",
   "name": "python",
   "nbconvert_exporter": "python",
   "pygments_lexer": "ipython3",
   "version": "3.8.8"
  }
 },
 "nbformat": 4,
 "nbformat_minor": 5
}
