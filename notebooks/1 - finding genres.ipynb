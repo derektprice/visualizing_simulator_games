{
 "cells": [
  {
   "cell_type": "code",
   "execution_count": 9,
   "id": "c40560c9",
   "metadata": {},
   "outputs": [],
   "source": [
    "import requests\n",
    "from bs4 import BeautifulSoup\n",
    "from time import sleep\n",
    "import json"
   ]
  },
  {
   "cell_type": "code",
   "execution_count": 33,
   "id": "6082529b",
   "metadata": {},
   "outputs": [],
   "source": [
    "base_url = 'https://api.mobygames.com/v1/'\n",
    "endpoint_var = 'genres'\n",
    "api_key = open(\"../data/mobygames_api_key.txt\")\n",
    "endpoint= base_url + endpoint_var"
   ]
  },
  {
   "cell_type": "code",
   "execution_count": 34,
   "id": "9964bffd",
   "metadata": {},
   "outputs": [],
   "source": [
    "parameters = {\"format\":\"normal\", \n",
    "              \"api_key\": api_key \n",
    "#               \"genre\":1, \n",
    "#               \"id\":2\n",
    "             }"
   ]
  },
  {
   "cell_type": "markdown",
   "id": "c63140da",
   "metadata": {},
   "source": [
    "### Endpoints\n",
    "\n",
    "We will be using the `requests` package to make a `GET` request to an API. Similar to webscraping, APIs require an endpoint to tell python where to send the request.\n"
   ]
  },
  {
   "cell_type": "code",
   "execution_count": 35,
   "id": "a286eb14",
   "metadata": {},
   "outputs": [
    {
     "data": {
      "text/plain": [
       "<Response [200]>"
      ]
     },
     "execution_count": 35,
     "metadata": {},
     "output_type": "execute_result"
    }
   ],
   "source": [
    "response = requests.get(endpoint, params=parameters)\n",
    "response"
   ]
  },
  {
   "cell_type": "code",
   "execution_count": 27,
   "id": "23e3c56b",
   "metadata": {},
   "outputs": [],
   "source": [
    "## jsonify the response"
   ]
  },
  {
   "cell_type": "code",
   "execution_count": 36,
   "id": "2c842209",
   "metadata": {},
   "outputs": [],
   "source": [
    "res = response.json()"
   ]
  },
  {
   "cell_type": "code",
   "execution_count": 37,
   "id": "d5326af3",
   "metadata": {
    "scrolled": false
   },
   "outputs": [
    {
     "data": {
      "text/plain": [
       "dict_keys(['genres'])"
      ]
     },
     "execution_count": 37,
     "metadata": {},
     "output_type": "execute_result"
    }
   ],
   "source": [
    "res.keys()"
   ]
  },
  {
   "cell_type": "code",
   "execution_count": 22,
   "id": "77060431",
   "metadata": {},
   "outputs": [
    {
     "data": {
      "text/plain": [
       "list"
      ]
     },
     "execution_count": 22,
     "metadata": {},
     "output_type": "execute_result"
    }
   ],
   "source": [
    "#this is a list\n",
    "type(res[\"genres\"])"
   ]
  },
  {
   "cell_type": "code",
   "execution_count": 61,
   "id": "4a4e67d0",
   "metadata": {},
   "outputs": [
    {
     "data": {
      "text/plain": [
       "dict"
      ]
     },
     "execution_count": 61,
     "metadata": {},
     "output_type": "execute_result"
    }
   ],
   "source": [
    "#each list item is a dictionary\n",
    "type(res[\"genres\"][0])"
   ]
  },
  {
   "cell_type": "code",
   "execution_count": 38,
   "id": "49e53eb7",
   "metadata": {
    "scrolled": true
   },
   "outputs": [
    {
     "data": {
      "text/plain": [
       "{'genre_category': 'Basic Genres',\n",
       " 'genre_category_id': 1,\n",
       " 'genre_description': 'Strategy/Tactics games revolve around strategic and/or tactical usage of resources often in combat or managerial scenarios.',\n",
       " 'genre_id': 4,\n",
       " 'genre_name': 'Strategy / tactics'}"
      ]
     },
     "execution_count": 38,
     "metadata": {},
     "output_type": "execute_result"
    }
   ],
   "source": [
    "res[\"genres\"][3]"
   ]
  },
  {
   "cell_type": "code",
   "execution_count": 2,
   "id": "562371a9",
   "metadata": {},
   "outputs": [],
   "source": [
    "#initialize easier genre dict\n",
    "genre_Name = []\n",
    "genre_ID = []"
   ]
  },
  {
   "cell_type": "code",
   "execution_count": 40,
   "id": "847b82b3",
   "metadata": {},
   "outputs": [],
   "source": [
    "## iterate through list and pull out genre names and genre ids\n",
    "for dictionary in res[\"genres\"]:\n",
    "    genre_Name.append(dictionary[\"genre_name\"])\n",
    "    genre_ID.append(dictionary[\"genre_id\"])\n",
    "    \n",
    "    "
   ]
  },
  {
   "cell_type": "code",
   "execution_count": 41,
   "id": "44c62c73",
   "metadata": {},
   "outputs": [],
   "source": [
    "#list comprehension\n",
    "genre_Name = [name.lower() for name in genre_Name]"
   ]
  },
  {
   "cell_type": "code",
   "execution_count": 42,
   "id": "d6a98c12",
   "metadata": {},
   "outputs": [
    {
     "data": {
      "text/plain": [
       "['action',\n",
       " 'adventure',\n",
       " 'simulation',\n",
       " 'strategy / tactics',\n",
       " 'sports',\n",
       " 'racing / driving',\n",
       " '1st-person',\n",
       " 'sci-fi / futuristic',\n",
       " 'arcade',\n",
       " 'chess',\n",
       " 'educational',\n",
       " 'top-down',\n",
       " 'historical events',\n",
       " 'real-time',\n",
       " 'bus',\n",
       " 'side view',\n",
       " 'fishing',\n",
       " 'flight / aviation',\n",
       " 'motorcycle',\n",
       " 'platform',\n",
       " 'shooter',\n",
       " 'interactive fiction / text adventure',\n",
       " 'metroidvania',\n",
       " 'isometric',\n",
       " 'board game',\n",
       " 'cards / tiles',\n",
       " 'casino / gambling',\n",
       " 'game show / trivia / quiz',\n",
       " 'puzzle elements',\n",
       " 'football (american)',\n",
       " 'baseball',\n",
       " 'basketball',\n",
       " 'hockey',\n",
       " 'golf',\n",
       " 'boxing',\n",
       " 'tennis',\n",
       " 'olympiad / mixed sports',\n",
       " 'martial arts',\n",
       " 'managerial / business simulation',\n",
       " 'naval / watercraft',\n",
       " 'math / logic',\n",
       " 'reading / writing',\n",
       " 'typing',\n",
       " 'pre-school / toddler',\n",
       " 'fighting',\n",
       " 'football (european) / soccer',\n",
       " 'role-playing (rpg)',\n",
       " 'wrestling',\n",
       " 'skateboarding',\n",
       " 'pinball',\n",
       " 'detective / mystery',\n",
       " 'helicopter',\n",
       " 'anime / manga',\n",
       " 'off-roading',\n",
       " 'music',\n",
       " 'full motion video (fmv)',\n",
       " 'hunting',\n",
       " 'dlc / add-on',\n",
       " 'sailing / boating',\n",
       " 'paddle / pong',\n",
       " 'post-apocalyptic',\n",
       " 'cyberpunk / dark sci-fi',\n",
       " 'video backdrop',\n",
       " 'hack and slash',\n",
       " 'meditative / zen',\n",
       " 'geography',\n",
       " 'mecha / giant robot',\n",
       " 'cricket',\n",
       " 'history',\n",
       " 'rugby',\n",
       " 'compilation',\n",
       " 'volleyball',\n",
       " 'fantasy',\n",
       " 'graphics / art',\n",
       " 'tank',\n",
       " 'ecology / nature',\n",
       " 'licensed',\n",
       " 'horror',\n",
       " 'religion',\n",
       " 'foreign language',\n",
       " 'science',\n",
       " 'adult',\n",
       " 'bowling',\n",
       " 'pool / snooker',\n",
       " 'horse / derby',\n",
       " 'health / nutrition',\n",
       " 'spy / espionage',\n",
       " 'persistent',\n",
       " 'snowboarding / skiing',\n",
       " 'tricks / stunts',\n",
       " 'music / rhythm',\n",
       " 'sociology',\n",
       " 'stealth',\n",
       " 'survival horror',\n",
       " 'ping pong / table tennis',\n",
       " 'bike / bicycling',\n",
       " 'paintball',\n",
       " 'turn-based',\n",
       " 'mental training',\n",
       " 'train',\n",
       " 'surfing',\n",
       " 'wakeboarding',\n",
       " 'visual novel',\n",
       " 'hidden object',\n",
       " \"beat 'em up / brawler\",\n",
       " 'puzzle',\n",
       " 'darts / target shooting',\n",
       " 'comedy',\n",
       " 'crime',\n",
       " 'romance',\n",
       " 'thriller',\n",
       " 'war',\n",
       " 'dodgeball',\n",
       " '3rd-person (other)',\n",
       " 'audio game',\n",
       " 'behind view',\n",
       " \"bird's-eye view\",\n",
       " 'text-based / spreadsheet',\n",
       " '2d scrolling',\n",
       " 'cinematic camera',\n",
       " 'fixed / flip-screen',\n",
       " 'free-roaming camera',\n",
       " 'athletics',\n",
       " 'racquetball / squash',\n",
       " 'city building / construction simulation',\n",
       " 'dating simulation',\n",
       " 'life / social simulation',\n",
       " 'mini-games',\n",
       " 'healthcare',\n",
       " '4x',\n",
       " 'artillery',\n",
       " 'party game',\n",
       " 'falling block puzzle',\n",
       " 'graphic adventure',\n",
       " 'japanese-style rpg (jrpg)',\n",
       " 'rail shooter',\n",
       " 'roguelike',\n",
       " 'sandbox / open world',\n",
       " 'space flight',\n",
       " 'tactical rpg',\n",
       " 'tactical shooter',\n",
       " 'tile matching puzzle',\n",
       " 'time management',\n",
       " 'tower defense',\n",
       " 'trading / collectible card',\n",
       " 'vehicle simulator',\n",
       " 'vehicular combat',\n",
       " 'massively multiplayer',\n",
       " 'wargame',\n",
       " 'word construction',\n",
       " 'survival',\n",
       " 'japanese-style adventure',\n",
       " 'rpg elements',\n",
       " 'action rpg',\n",
       " 'point and select',\n",
       " 'direct control',\n",
       " 'motion control',\n",
       " 'voice control',\n",
       " 'text parser',\n",
       " 'menu structures',\n",
       " 'multiple units/characters control',\n",
       " 'currency',\n",
       " 'npc / enemy',\n",
       " 'extras',\n",
       " 'game mode',\n",
       " 'item',\n",
       " 'map / level',\n",
       " 'other',\n",
       " 'customization / outfit / skin',\n",
       " 'player unit',\n",
       " 'story / mission',\n",
       " 'digital extras',\n",
       " 'extra content / game',\n",
       " 'physical extras',\n",
       " 'special edition',\n",
       " 'automobile',\n",
       " 'hovercraft',\n",
       " 'prehistoric',\n",
       " 'street racing',\n",
       " 'track racing',\n",
       " 'transport',\n",
       " 'truck',\n",
       " 'interactive book',\n",
       " 'africa',\n",
       " 'asia',\n",
       " 'china (ancient / imperial)',\n",
       " 'cold war',\n",
       " 'contemporary',\n",
       " 'egypt (ancient)',\n",
       " 'europe',\n",
       " 'classical antiquity',\n",
       " 'industrial age',\n",
       " 'medieval',\n",
       " 'middle east',\n",
       " 'north america',\n",
       " 'oceania',\n",
       " 'pre-columbian americas',\n",
       " 'sea pirates / caribbean',\n",
       " 'south america',\n",
       " 'steampunk',\n",
       " 'western',\n",
       " 'world war i',\n",
       " 'world war ii',\n",
       " 'interwar',\n",
       " 'live action',\n",
       " 'timed input',\n",
       " 'quick time events (qtes)',\n",
       " 'japan (ancient/classical/medieval)',\n",
       " 'augmented reality',\n",
       " 'agricultural / industrial',\n",
       " 'regional differences',\n",
       " 'self-propelled artillery',\n",
       " 'real-time strategy',\n",
       " 'turn-based strategy',\n",
       " 'audio (music / sfx / voice)',\n",
       " 'snowmobile',\n",
       " 'japan (modern/futuristic)',\n",
       " 'upgrade (skill / boost)',\n",
       " 'fangame',\n",
       " 'edition upgrade',\n",
       " 'mechanics']"
      ]
     },
     "execution_count": 42,
     "metadata": {},
     "output_type": "execute_result"
    }
   ],
   "source": [
    "genre_Name"
   ]
  },
  {
   "cell_type": "code",
   "execution_count": 43,
   "id": "73cc1174",
   "metadata": {},
   "outputs": [],
   "source": [
    "## zipping lists together to create easier genre dict\n",
    "genre_dictionary = dict(zip(genre_Name, genre_ID))"
   ]
  },
  {
   "cell_type": "code",
   "execution_count": 44,
   "id": "5e2bfb2c",
   "metadata": {
    "scrolled": true
   },
   "outputs": [
    {
     "data": {
      "text/plain": [
       "dict_keys(['action', 'adventure', 'simulation', 'strategy / tactics', 'sports', 'racing / driving', '1st-person', 'sci-fi / futuristic', 'arcade', 'chess', 'educational', 'top-down', 'historical events', 'real-time', 'bus', 'side view', 'fishing', 'flight / aviation', 'motorcycle', 'platform', 'shooter', 'interactive fiction / text adventure', 'metroidvania', 'isometric', 'board game', 'cards / tiles', 'casino / gambling', 'game show / trivia / quiz', 'puzzle elements', 'football (american)', 'baseball', 'basketball', 'hockey', 'golf', 'boxing', 'tennis', 'olympiad / mixed sports', 'martial arts', 'managerial / business simulation', 'naval / watercraft', 'math / logic', 'reading / writing', 'typing', 'pre-school / toddler', 'fighting', 'football (european) / soccer', 'role-playing (rpg)', 'wrestling', 'skateboarding', 'pinball', 'detective / mystery', 'helicopter', 'anime / manga', 'off-roading', 'music', 'full motion video (fmv)', 'hunting', 'dlc / add-on', 'sailing / boating', 'paddle / pong', 'post-apocalyptic', 'cyberpunk / dark sci-fi', 'video backdrop', 'hack and slash', 'meditative / zen', 'geography', 'mecha / giant robot', 'cricket', 'history', 'rugby', 'compilation', 'volleyball', 'fantasy', 'graphics / art', 'tank', 'ecology / nature', 'licensed', 'horror', 'religion', 'foreign language', 'science', 'adult', 'bowling', 'pool / snooker', 'horse / derby', 'health / nutrition', 'spy / espionage', 'persistent', 'snowboarding / skiing', 'tricks / stunts', 'music / rhythm', 'sociology', 'stealth', 'survival horror', 'ping pong / table tennis', 'bike / bicycling', 'paintball', 'turn-based', 'mental training', 'train', 'surfing', 'wakeboarding', 'visual novel', 'hidden object', \"beat 'em up / brawler\", 'puzzle', 'darts / target shooting', 'comedy', 'crime', 'romance', 'thriller', 'war', 'dodgeball', '3rd-person (other)', 'audio game', 'behind view', \"bird's-eye view\", 'text-based / spreadsheet', '2d scrolling', 'cinematic camera', 'fixed / flip-screen', 'free-roaming camera', 'athletics', 'racquetball / squash', 'city building / construction simulation', 'dating simulation', 'life / social simulation', 'mini-games', 'healthcare', '4x', 'artillery', 'party game', 'falling block puzzle', 'graphic adventure', 'japanese-style rpg (jrpg)', 'rail shooter', 'roguelike', 'sandbox / open world', 'space flight', 'tactical rpg', 'tactical shooter', 'tile matching puzzle', 'time management', 'tower defense', 'trading / collectible card', 'vehicle simulator', 'vehicular combat', 'massively multiplayer', 'wargame', 'word construction', 'survival', 'japanese-style adventure', 'rpg elements', 'action rpg', 'point and select', 'direct control', 'motion control', 'voice control', 'text parser', 'menu structures', 'multiple units/characters control', 'currency', 'npc / enemy', 'extras', 'game mode', 'item', 'map / level', 'other', 'customization / outfit / skin', 'player unit', 'story / mission', 'digital extras', 'extra content / game', 'physical extras', 'special edition', 'automobile', 'hovercraft', 'prehistoric', 'street racing', 'track racing', 'transport', 'truck', 'interactive book', 'africa', 'asia', 'china (ancient / imperial)', 'cold war', 'contemporary', 'egypt (ancient)', 'europe', 'classical antiquity', 'industrial age', 'medieval', 'middle east', 'north america', 'oceania', 'pre-columbian americas', 'sea pirates / caribbean', 'south america', 'steampunk', 'western', 'world war i', 'world war ii', 'interwar', 'live action', 'timed input', 'quick time events (qtes)', 'japan (ancient/classical/medieval)', 'augmented reality', 'agricultural / industrial', 'regional differences', 'self-propelled artillery', 'real-time strategy', 'turn-based strategy', 'audio (music / sfx / voice)', 'snowmobile', 'japan (modern/futuristic)', 'upgrade (skill / boost)', 'fangame', 'edition upgrade', 'mechanics'])"
      ]
     },
     "execution_count": 44,
     "metadata": {},
     "output_type": "execute_result"
    }
   ],
   "source": [
    "genre_dictionary.keys()"
   ]
  },
  {
   "cell_type": "code",
   "execution_count": 1,
   "id": "1e303965",
   "metadata": {},
   "outputs": [
    {
     "ename": "NameError",
     "evalue": "name 'genre_dictionary' is not defined",
     "output_type": "error",
     "traceback": [
      "\u001b[1;31m---------------------------------------------------------------------------\u001b[0m",
      "\u001b[1;31mNameError\u001b[0m                                 Traceback (most recent call last)",
      "\u001b[1;32m<ipython-input-1-9389dd34499f>\u001b[0m in \u001b[0;36m<module>\u001b[1;34m\u001b[0m\n\u001b[1;32m----> 1\u001b[1;33m \u001b[1;32mfor\u001b[0m \u001b[1;33m(\u001b[0m\u001b[0mkey\u001b[0m\u001b[1;33m,\u001b[0m \u001b[0mvalue\u001b[0m\u001b[1;33m)\u001b[0m \u001b[1;32min\u001b[0m \u001b[0mgenre_dictionary\u001b[0m\u001b[1;33m.\u001b[0m\u001b[0mitems\u001b[0m\u001b[1;33m(\u001b[0m\u001b[1;33m)\u001b[0m\u001b[1;33m:\u001b[0m\u001b[1;33m\u001b[0m\u001b[1;33m\u001b[0m\u001b[0m\n\u001b[0m\u001b[0;32m      2\u001b[0m     \u001b[1;32mif\u001b[0m \u001b[1;34m\"simulation\"\u001b[0m \u001b[1;32min\u001b[0m \u001b[0mkey\u001b[0m\u001b[1;33m:\u001b[0m\u001b[1;33m\u001b[0m\u001b[1;33m\u001b[0m\u001b[0m\n\u001b[0;32m      3\u001b[0m         \u001b[0mprint\u001b[0m\u001b[1;33m(\u001b[0m\u001b[0mvalue\u001b[0m\u001b[1;33m)\u001b[0m\u001b[1;33m\u001b[0m\u001b[1;33m\u001b[0m\u001b[0m\n",
      "\u001b[1;31mNameError\u001b[0m: name 'genre_dictionary' is not defined"
     ]
    }
   ],
   "source": [
    "for (key, value) in genre_dictionary.items():\n",
    "    if \"simulation\" in key:\n",
    "        print(value)"
   ]
  },
  {
   "cell_type": "markdown",
   "id": "d78e159d",
   "metadata": {},
   "source": [
    "### use params"
   ]
  },
  {
   "cell_type": "code",
   "execution_count": 2,
   "id": "38ad028c",
   "metadata": {},
   "outputs": [],
   "source": [
    "base_url = 'https://api.mobygames.com/v1/'\n",
    "endpoint_var = 'games'\n",
    "api_key = open(\"../data/mobygames_api_key.txt\")\n",
    "endpoint= base_url + endpoint_var"
   ]
  },
  {
   "cell_type": "code",
   "execution_count": 3,
   "id": "e3e6d6fb",
   "metadata": {},
   "outputs": [],
   "source": [
    "parameters = {\"format\":\"normal\", \"api_key\": api_key, \"genre\":1, \"offset\":100}"
   ]
  },
  {
   "cell_type": "code",
   "execution_count": 4,
   "id": "071d8555",
   "metadata": {},
   "outputs": [],
   "source": [
    "response = requests.get(endpoint, params=parameters)"
   ]
  },
  {
   "cell_type": "code",
   "execution_count": 5,
   "id": "e4caf605",
   "metadata": {
    "scrolled": true
   },
   "outputs": [
    {
     "data": {
      "text/plain": [
       "<Response [200]>"
      ]
     },
     "execution_count": 5,
     "metadata": {},
     "output_type": "execute_result"
    }
   ],
   "source": [
    "response"
   ]
  },
  {
   "cell_type": "code",
   "execution_count": 6,
   "id": "b52f155f",
   "metadata": {},
   "outputs": [],
   "source": [
    "res2 = response.json()"
   ]
  },
  {
   "cell_type": "code",
   "execution_count": 7,
   "id": "fdd0fb25",
   "metadata": {},
   "outputs": [
    {
     "data": {
      "text/plain": [
       "100"
      ]
     },
     "execution_count": 7,
     "metadata": {},
     "output_type": "execute_result"
    }
   ],
   "source": [
    "len(res2[\"games\"])"
   ]
  },
  {
   "cell_type": "code",
   "execution_count": 148,
   "id": "34396332",
   "metadata": {},
   "outputs": [
    {
     "data": {
      "text/plain": [
       "dict_keys(['description', 'game_id', 'genres', 'moby_score', 'moby_url', 'num_votes', 'official_url', 'platforms', 'sample_cover', 'sample_screenshots', 'title'])"
      ]
     },
     "execution_count": 148,
     "metadata": {},
     "output_type": "execute_result"
    }
   ],
   "source": [
    "res2[\"games\"][0].keys()"
   ]
  },
  {
   "cell_type": "code",
   "execution_count": 10,
   "id": "384c206d",
   "metadata": {},
   "outputs": [],
   "source": [
    "with open('../data/json_test.json', 'w') as f:\n",
    "    json.dump(res2, f)"
   ]
  }
 ],
 "metadata": {
  "kernelspec": {
   "display_name": "Python 3",
   "language": "python",
   "name": "python3"
  },
  "language_info": {
   "codemirror_mode": {
    "name": "ipython",
    "version": 3
   },
   "file_extension": ".py",
   "mimetype": "text/x-python",
   "name": "python",
   "nbconvert_exporter": "python",
   "pygments_lexer": "ipython3",
   "version": "3.8.8"
  }
 },
 "nbformat": 4,
 "nbformat_minor": 5
}
