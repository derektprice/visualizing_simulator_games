{
 "cells": [
  {
   "cell_type": "code",
   "execution_count": 1,
   "id": "6ec49c58",
   "metadata": {},
   "outputs": [],
   "source": [
    "import requests\n",
    "from bs4 import BeautifulSoup\n",
    "from time import sleep\n",
    "import pandas as pd\n",
    "import json\n",
    "import pickle"
   ]
  },
  {
   "cell_type": "code",
   "execution_count": 3,
   "id": "b1a4b945",
   "metadata": {},
   "outputs": [],
   "source": [
    "df = pd.read_csv(\"../data/genre_158_only1releaseYear_NoGenre_11Dec21.csv\")"
   ]
  },
  {
   "cell_type": "code",
   "execution_count": 4,
   "id": "4b2cc917",
   "metadata": {
    "scrolled": false
   },
   "outputs": [
    {
     "data": {
      "text/html": [
       "<div>\n",
       "<style scoped>\n",
       "    .dataframe tbody tr th:only-of-type {\n",
       "        vertical-align: middle;\n",
       "    }\n",
       "\n",
       "    .dataframe tbody tr th {\n",
       "        vertical-align: top;\n",
       "    }\n",
       "\n",
       "    .dataframe thead th {\n",
       "        text-align: right;\n",
       "    }\n",
       "</style>\n",
       "<table border=\"1\" class=\"dataframe\">\n",
       "  <thead>\n",
       "    <tr style=\"text-align: right;\">\n",
       "      <th></th>\n",
       "      <th>index</th>\n",
       "      <th>title</th>\n",
       "      <th>game_id</th>\n",
       "      <th>description</th>\n",
       "      <th>moby_url</th>\n",
       "      <th>release_date1</th>\n",
       "      <th>release_date1_year</th>\n",
       "      <th>platform_id1</th>\n",
       "      <th>platform_name1</th>\n",
       "    </tr>\n",
       "  </thead>\n",
       "  <tbody>\n",
       "    <tr>\n",
       "      <th>0</th>\n",
       "      <td>0</td>\n",
       "      <td>Indianapolis 500: The Simulation</td>\n",
       "      <td>5</td>\n",
       "      <td>The famous Indianapolis 500 Mile race, held an...</td>\n",
       "      <td>http://www.mobygames.com/game/indianapolis-500...</td>\n",
       "      <td>01-12-89</td>\n",
       "      <td>1989</td>\n",
       "      <td>2</td>\n",
       "      <td>DOS</td>\n",
       "    </tr>\n",
       "    <tr>\n",
       "      <th>1</th>\n",
       "      <td>1</td>\n",
       "      <td>Test Drive</td>\n",
       "      <td>107</td>\n",
       "      <td>This mix of racing simulation and arcade game ...</td>\n",
       "      <td>http://www.mobygames.com/game/test-drive</td>\n",
       "      <td>01-01-87</td>\n",
       "      <td>1987</td>\n",
       "      <td>2</td>\n",
       "      <td>DOS</td>\n",
       "    </tr>\n",
       "    <tr>\n",
       "      <th>2</th>\n",
       "      <td>2</td>\n",
       "      <td>Moto Racer</td>\n",
       "      <td>127</td>\n",
       "      <td>An arcade motorcycle racer in which both super...</td>\n",
       "      <td>http://www.mobygames.com/game/moto-racer</td>\n",
       "      <td>01-01-97</td>\n",
       "      <td>1997</td>\n",
       "      <td>3</td>\n",
       "      <td>Windows</td>\n",
       "    </tr>\n",
       "    <tr>\n",
       "      <th>3</th>\n",
       "      <td>3</td>\n",
       "      <td>Test Drive III: The Passion</td>\n",
       "      <td>158</td>\n",
       "      <td>Drive exotic cars while fleeing police in this...</td>\n",
       "      <td>http://www.mobygames.com/game/test-drive-iii-t...</td>\n",
       "      <td>01-01-90</td>\n",
       "      <td>1990</td>\n",
       "      <td>2</td>\n",
       "      <td>DOS</td>\n",
       "    </tr>\n",
       "    <tr>\n",
       "      <th>4</th>\n",
       "      <td>4</td>\n",
       "      <td>Star Wars: Episode I - Racer</td>\n",
       "      <td>276</td>\n",
       "      <td>Based upon the Pod Racing scenes of Star Wars:...</td>\n",
       "      <td>http://www.mobygames.com/game/star-wars-episod...</td>\n",
       "      <td>01-01-99</td>\n",
       "      <td>1999</td>\n",
       "      <td>3</td>\n",
       "      <td>Windows</td>\n",
       "    </tr>\n",
       "    <tr>\n",
       "      <th>...</th>\n",
       "      <td>...</td>\n",
       "      <td>...</td>\n",
       "      <td>...</td>\n",
       "      <td>...</td>\n",
       "      <td>...</td>\n",
       "      <td>...</td>\n",
       "      <td>...</td>\n",
       "      <td>...</td>\n",
       "      <td>...</td>\n",
       "    </tr>\n",
       "    <tr>\n",
       "      <th>1245</th>\n",
       "      <td>1245</td>\n",
       "      <td>NASCAR Challenge</td>\n",
       "      <td>173715</td>\n",
       "      <td>NaN</td>\n",
       "      <td>http://www.mobygames.com/game/nascar-challenge</td>\n",
       "      <td>01-01-99</td>\n",
       "      <td>1999</td>\n",
       "      <td>11</td>\n",
       "      <td>Game Boy Color</td>\n",
       "    </tr>\n",
       "    <tr>\n",
       "      <th>1246</th>\n",
       "      <td>1246</td>\n",
       "      <td>NASCAR Heat: Ultimate Edition+</td>\n",
       "      <td>175740</td>\n",
       "      <td>NaN</td>\n",
       "      <td>http://www.mobygames.com/game/nascar-heat-ulti...</td>\n",
       "      <td>19-11-21</td>\n",
       "      <td>2021</td>\n",
       "      <td>203</td>\n",
       "      <td>Nintendo Switch</td>\n",
       "    </tr>\n",
       "    <tr>\n",
       "      <th>1247</th>\n",
       "      <td>1247</td>\n",
       "      <td>Farming Simulator 22</td>\n",
       "      <td>175746</td>\n",
       "      <td>NaN</td>\n",
       "      <td>http://www.mobygames.com/game/farming-simulato...</td>\n",
       "      <td>21-11-21</td>\n",
       "      <td>2021</td>\n",
       "      <td>142</td>\n",
       "      <td>Xbox One</td>\n",
       "    </tr>\n",
       "    <tr>\n",
       "      <th>1248</th>\n",
       "      <td>1248</td>\n",
       "      <td>Crash City: Heavy Traffic Drive</td>\n",
       "      <td>175750</td>\n",
       "      <td>NaN</td>\n",
       "      <td>http://www.mobygames.com/game/crash-city-heavy...</td>\n",
       "      <td>07-07-17</td>\n",
       "      <td>2017</td>\n",
       "      <td>86</td>\n",
       "      <td>iPhone</td>\n",
       "    </tr>\n",
       "    <tr>\n",
       "      <th>1249</th>\n",
       "      <td>1249</td>\n",
       "      <td>Coastline Flight Simulator</td>\n",
       "      <td>176043</td>\n",
       "      <td>NaN</td>\n",
       "      <td>http://www.mobygames.com/game/coastline-flight...</td>\n",
       "      <td>07-07-21</td>\n",
       "      <td>2021</td>\n",
       "      <td>3</td>\n",
       "      <td>Windows</td>\n",
       "    </tr>\n",
       "  </tbody>\n",
       "</table>\n",
       "<p>1250 rows × 9 columns</p>\n",
       "</div>"
      ],
      "text/plain": [
       "      index                             title  game_id  \\\n",
       "0         0  Indianapolis 500: The Simulation        5   \n",
       "1         1                        Test Drive      107   \n",
       "2         2                        Moto Racer      127   \n",
       "3         3       Test Drive III: The Passion      158   \n",
       "4         4      Star Wars: Episode I - Racer      276   \n",
       "...     ...                               ...      ...   \n",
       "1245   1245                  NASCAR Challenge   173715   \n",
       "1246   1246    NASCAR Heat: Ultimate Edition+   175740   \n",
       "1247   1247              Farming Simulator 22   175746   \n",
       "1248   1248   Crash City: Heavy Traffic Drive   175750   \n",
       "1249   1249        Coastline Flight Simulator   176043   \n",
       "\n",
       "                                            description  \\\n",
       "0     The famous Indianapolis 500 Mile race, held an...   \n",
       "1     This mix of racing simulation and arcade game ...   \n",
       "2     An arcade motorcycle racer in which both super...   \n",
       "3     Drive exotic cars while fleeing police in this...   \n",
       "4     Based upon the Pod Racing scenes of Star Wars:...   \n",
       "...                                                 ...   \n",
       "1245                                                NaN   \n",
       "1246                                                NaN   \n",
       "1247                                                NaN   \n",
       "1248                                                NaN   \n",
       "1249                                                NaN   \n",
       "\n",
       "                                               moby_url release_date1  \\\n",
       "0     http://www.mobygames.com/game/indianapolis-500...      01-12-89   \n",
       "1              http://www.mobygames.com/game/test-drive      01-01-87   \n",
       "2              http://www.mobygames.com/game/moto-racer      01-01-97   \n",
       "3     http://www.mobygames.com/game/test-drive-iii-t...      01-01-90   \n",
       "4     http://www.mobygames.com/game/star-wars-episod...      01-01-99   \n",
       "...                                                 ...           ...   \n",
       "1245     http://www.mobygames.com/game/nascar-challenge      01-01-99   \n",
       "1246  http://www.mobygames.com/game/nascar-heat-ulti...      19-11-21   \n",
       "1247  http://www.mobygames.com/game/farming-simulato...      21-11-21   \n",
       "1248  http://www.mobygames.com/game/crash-city-heavy...      07-07-17   \n",
       "1249  http://www.mobygames.com/game/coastline-flight...      07-07-21   \n",
       "\n",
       "      release_date1_year  platform_id1   platform_name1  \n",
       "0                   1989             2              DOS  \n",
       "1                   1987             2              DOS  \n",
       "2                   1997             3          Windows  \n",
       "3                   1990             2              DOS  \n",
       "4                   1999             3          Windows  \n",
       "...                  ...           ...              ...  \n",
       "1245                1999            11   Game Boy Color  \n",
       "1246                2021           203  Nintendo Switch  \n",
       "1247                2021           142         Xbox One  \n",
       "1248                2017            86           iPhone  \n",
       "1249                2021             3          Windows  \n",
       "\n",
       "[1250 rows x 9 columns]"
      ]
     },
     "execution_count": 4,
     "metadata": {},
     "output_type": "execute_result"
    }
   ],
   "source": [
    "df"
   ]
  },
  {
   "cell_type": "code",
   "execution_count": 30,
   "id": "f2d09fd5",
   "metadata": {},
   "outputs": [],
   "source": [
    "url=\"https://api.mobygames.com/v1/games/276/platforms/3\"\n",
    "api_key = open(\"../data/mobygames_api_key.txt\")\n",
    "parameters = {\"format\":\"normal\", \"api_key\": api_key}"
   ]
  },
  {
   "cell_type": "code",
   "execution_count": 31,
   "id": "cda0d604",
   "metadata": {},
   "outputs": [
    {
     "data": {
      "text/plain": [
       "<Response [200]>"
      ]
     },
     "execution_count": 31,
     "metadata": {},
     "output_type": "execute_result"
    }
   ],
   "source": [
    "response = requests.get(url, params=parameters)\n",
    "response"
   ]
  },
  {
   "cell_type": "code",
   "execution_count": 32,
   "id": "a6bd45eb",
   "metadata": {},
   "outputs": [],
   "source": [
    "res = response.json()"
   ]
  },
  {
   "cell_type": "code",
   "execution_count": 43,
   "id": "b500cd83",
   "metadata": {
    "scrolled": true
   },
   "outputs": [
    {
     "data": {
      "text/plain": [
       "list"
      ]
     },
     "execution_count": 43,
     "metadata": {},
     "output_type": "execute_result"
    }
   ],
   "source": [
    "len(res[\"releases\"])"
   ]
  },
  {
   "cell_type": "code",
   "execution_count": null,
   "id": "c93b328e",
   "metadata": {},
   "outputs": [],
   "source": []
  },
  {
   "cell_type": "code",
   "execution_count": 44,
   "id": "038c3a89",
   "metadata": {
    "scrolled": true
   },
   "outputs": [
    {
     "name": "stdout",
     "output_type": "stream",
     "text": [
      "1999\n",
      "1999-05\n",
      "1999-05-18\n",
      "1999-05-21\n",
      "2018-05-01\n",
      "2018-11-16\n"
     ]
    }
   ],
   "source": [
    "#shows all release dates for a response\n",
    "for item in res[\"releases\"]:\n",
    "    for key, value in item.items():\n",
    "        if key == \"release_date\":\n",
    "            print(value)"
   ]
  },
  {
   "cell_type": "code",
   "execution_count": null,
   "id": "0d863b02",
   "metadata": {},
   "outputs": [],
   "source": [
    "# note: res[\"releases\"] is a list. The list contains dictionaries. \n",
    "# Each dictionary contains info about a release for a particular date, which companies were involved in the release\n",
    "# and which countries it was released in\n",
    "# this is actually a very rich source of info\n",
    "# The list can be of variable length, depending on how many releases there were\n",
    "# I am choosing the first item in this list always, as it seems to often be the first release, period.\n",
    "# however, there is a lot one could do with all of the different releases - could look to see which countries appear\n",
    "# most often across all releases, regardless of time\n",
    "# or you could see if there is correlation between certain countries and certain time periods\n",
    "# I lack the time for such analysis, but wanted to make a note"
   ]
  },
  {
   "cell_type": "markdown",
   "id": "e13ea8e0",
   "metadata": {},
   "source": [
    "### creating the loop for scraping"
   ]
  },
  {
   "cell_type": "code",
   "execution_count": 52,
   "id": "70a7649b",
   "metadata": {},
   "outputs": [],
   "source": [
    "# DO HERE: TURN COLUMNS BACK INTO LISTS\n",
    "# ZIP THEM TOGETHER - https://www.delftstack.com/howto/python/how-to-loop-through-multiple-lists-in-python/\n",
    "#pandas stuff - to replace the 2 below\n",
    "game_id_list = df[\"game_id\"].tolist()\n",
    "platform_id_list = df[\"platform_id1\"].tolist()\n",
    "# game_id_list = [5, 107]\n",
    "# platform_id_list = [2,2]\n",
    "\n",
    "url_list = []"
   ]
  },
  {
   "cell_type": "code",
   "execution_count": 53,
   "id": "6679dd9c",
   "metadata": {},
   "outputs": [],
   "source": [
    "# lists containing game ids and platform ids for the loop, and list of final urls to submit\n",
    "for a,b in zip(game_id_list, platform_id_list):\n",
    "    url_list.append(\"https://api.mobygames.com/v1/games/\" + str(a) + \"/platforms/\" + str(b))"
   ]
  },
  {
   "cell_type": "code",
   "execution_count": 55,
   "id": "9175d89e",
   "metadata": {
    "scrolled": false
   },
   "outputs": [
    {
     "name": "stdout",
     "output_type": "stream",
     "text": [
      "['https://api.mobygames.com/v1/games/5/platforms/2', 'https://api.mobygames.com/v1/games/107/platforms/2', 'https://api.mobygames.com/v1/games/127/platforms/3', 'https://api.mobygames.com/v1/games/158/platforms/2', 'https://api.mobygames.com/v1/games/276/platforms/3', 'https://api.mobygames.com/v1/games/304/platforms/3', 'https://api.mobygames.com/v1/games/309/platforms/6', 'https://api.mobygames.com/v1/games/310/platforms/3', 'https://api.mobygames.com/v1/games/321/platforms/2', 'https://api.mobygames.com/v1/games/332/platforms/2', 'https://api.mobygames.com/v1/games/359/platforms/3', 'https://api.mobygames.com/v1/games/369/platforms/3', 'https://api.mobygames.com/v1/games/375/platforms/2', 'https://api.mobygames.com/v1/games/434/platforms/2', 'https://api.mobygames.com/v1/games/493/platforms/3', 'https://api.mobygames.com/v1/games/545/platforms/27', 'https://api.mobygames.com/v1/games/578/platforms/4', 'https://api.mobygames.com/v1/games/621/platforms/2', 'https://api.mobygames.com/v1/games/780/platforms/60', 'https://api.mobygames.com/v1/games/781/platforms/2', 'https://api.mobygames.com/v1/games/782/platforms/2', 'https://api.mobygames.com/v1/games/783/platforms/2', 'https://api.mobygames.com/v1/games/793/platforms/24', 'https://api.mobygames.com/v1/games/799/platforms/2', 'https://api.mobygames.com/v1/games/806/platforms/2', 'https://api.mobygames.com/v1/games/885/platforms/2', 'https://api.mobygames.com/v1/games/979/platforms/3', 'https://api.mobygames.com/v1/games/983/platforms/2', 'https://api.mobygames.com/v1/games/1073/platforms/2', 'https://api.mobygames.com/v1/games/1113/platforms/6', 'https://api.mobygames.com/v1/games/1235/platforms/3', 'https://api.mobygames.com/v1/games/1264/platforms/2', 'https://api.mobygames.com/v1/games/1298/platforms/2', 'https://api.mobygames.com/v1/games/1363/platforms/39', 'https://api.mobygames.com/v1/games/1394/platforms/19', 'https://api.mobygames.com/v1/games/1398/platforms/3', 'https://api.mobygames.com/v1/games/1432/platforms/2', 'https://api.mobygames.com/v1/games/1446/platforms/2', 'https://api.mobygames.com/v1/games/1467/platforms/31', 'https://api.mobygames.com/v1/games/1493/platforms/2', 'https://api.mobygames.com/v1/games/1571/platforms/2', 'https://api.mobygames.com/v1/games/1576/platforms/3', 'https://api.mobygames.com/v1/games/1606/platforms/2', 'https://api.mobygames.com/v1/games/1607/platforms/2', 'https://api.mobygames.com/v1/games/1614/platforms/3', 'https://api.mobygames.com/v1/games/1642/platforms/4', 'https://api.mobygames.com/v1/games/1668/platforms/3', 'https://api.mobygames.com/v1/games/1686/platforms/3', 'https://api.mobygames.com/v1/games/1708/platforms/23', 'https://api.mobygames.com/v1/games/1830/platforms/3', 'https://api.mobygames.com/v1/games/1956/platforms/3', 'https://api.mobygames.com/v1/games/2070/platforms/2', 'https://api.mobygames.com/v1/games/2071/platforms/19', 'https://api.mobygames.com/v1/games/2102/platforms/2', 'https://api.mobygames.com/v1/games/2103/platforms/2', 'https://api.mobygames.com/v1/games/2107/platforms/2', 'https://api.mobygames.com/v1/games/2138/platforms/2', 'https://api.mobygames.com/v1/games/2161/platforms/2', 'https://api.mobygames.com/v1/games/2230/platforms/23', 'https://api.mobygames.com/v1/games/2265/platforms/3', 'https://api.mobygames.com/v1/games/2266/platforms/3', 'https://api.mobygames.com/v1/games/2285/platforms/3', 'https://api.mobygames.com/v1/games/2288/platforms/3', 'https://api.mobygames.com/v1/games/2328/platforms/2', 'https://api.mobygames.com/v1/games/2437/platforms/3', 'https://api.mobygames.com/v1/games/2445/platforms/3', 'https://api.mobygames.com/v1/games/2460/platforms/3', 'https://api.mobygames.com/v1/games/2561/platforms/3', 'https://api.mobygames.com/v1/games/2563/platforms/2', 'https://api.mobygames.com/v1/games/2629/platforms/3', 'https://api.mobygames.com/v1/games/2670/platforms/3', 'https://api.mobygames.com/v1/games/2721/platforms/3', 'https://api.mobygames.com/v1/games/2768/platforms/3', 'https://api.mobygames.com/v1/games/2769/platforms/3', 'https://api.mobygames.com/v1/games/2805/platforms/2', 'https://api.mobygames.com/v1/games/2836/platforms/3', 'https://api.mobygames.com/v1/games/2882/platforms/3', 'https://api.mobygames.com/v1/games/2970/platforms/6', 'https://api.mobygames.com/v1/games/3057/platforms/3', 'https://api.mobygames.com/v1/games/3070/platforms/3', 'https://api.mobygames.com/v1/games/3071/platforms/2', 'https://api.mobygames.com/v1/games/3093/platforms/3', 'https://api.mobygames.com/v1/games/3178/platforms/3', 'https://api.mobygames.com/v1/games/3187/platforms/3', 'https://api.mobygames.com/v1/games/3188/platforms/6', 'https://api.mobygames.com/v1/games/3189/platforms/3', 'https://api.mobygames.com/v1/games/3222/platforms/3', 'https://api.mobygames.com/v1/games/3225/platforms/3', 'https://api.mobygames.com/v1/games/3226/platforms/3', 'https://api.mobygames.com/v1/games/3227/platforms/8', 'https://api.mobygames.com/v1/games/3272/platforms/2', 'https://api.mobygames.com/v1/games/3290/platforms/3', 'https://api.mobygames.com/v1/games/3331/platforms/3', 'https://api.mobygames.com/v1/games/3341/platforms/3', 'https://api.mobygames.com/v1/games/3378/platforms/3', 'https://api.mobygames.com/v1/games/3442/platforms/3', 'https://api.mobygames.com/v1/games/3456/platforms/19', 'https://api.mobygames.com/v1/games/3485/platforms/3', 'https://api.mobygames.com/v1/games/3524/platforms/6', 'https://api.mobygames.com/v1/games/3578/platforms/6', 'https://api.mobygames.com/v1/games/3582/platforms/9', 'https://api.mobygames.com/v1/games/3632/platforms/7', 'https://api.mobygames.com/v1/games/3692/platforms/6', 'https://api.mobygames.com/v1/games/3701/platforms/6', 'https://api.mobygames.com/v1/games/3791/platforms/6', 'https://api.mobygames.com/v1/games/3835/platforms/6', 'https://api.mobygames.com/v1/games/3857/platforms/3', 'https://api.mobygames.com/v1/games/3858/platforms/8', 'https://api.mobygames.com/v1/games/3926/platforms/7', 'https://api.mobygames.com/v1/games/3927/platforms/7', 'https://api.mobygames.com/v1/games/4003/platforms/4', 'https://api.mobygames.com/v1/games/4083/platforms/3', 'https://api.mobygames.com/v1/games/4100/platforms/6', 'https://api.mobygames.com/v1/games/4101/platforms/6', 'https://api.mobygames.com/v1/games/4130/platforms/2', 'https://api.mobygames.com/v1/games/4337/platforms/2', 'https://api.mobygames.com/v1/games/4500/platforms/3', 'https://api.mobygames.com/v1/games/4518/platforms/2', 'https://api.mobygames.com/v1/games/4534/platforms/2', 'https://api.mobygames.com/v1/games/4538/platforms/3', 'https://api.mobygames.com/v1/games/4539/platforms/3', 'https://api.mobygames.com/v1/games/4544/platforms/2', 'https://api.mobygames.com/v1/games/4549/platforms/2', 'https://api.mobygames.com/v1/games/4593/platforms/143', 'https://api.mobygames.com/v1/games/4603/platforms/8', 'https://api.mobygames.com/v1/games/4623/platforms/266', 'https://api.mobygames.com/v1/games/4643/platforms/3', 'https://api.mobygames.com/v1/games/4691/platforms/9', 'https://api.mobygames.com/v1/games/4695/platforms/3', 'https://api.mobygames.com/v1/games/4704/platforms/2', 'https://api.mobygames.com/v1/games/4812/platforms/2', 'https://api.mobygames.com/v1/games/4813/platforms/19', 'https://api.mobygames.com/v1/games/4839/platforms/9', 'https://api.mobygames.com/v1/games/4845/platforms/9', 'https://api.mobygames.com/v1/games/4880/platforms/6', 'https://api.mobygames.com/v1/games/4913/platforms/3', 'https://api.mobygames.com/v1/games/4958/platforms/2', 'https://api.mobygames.com/v1/games/5010/platforms/3', 'https://api.mobygames.com/v1/games/5312/platforms/12', 'https://api.mobygames.com/v1/games/5411/platforms/3', 'https://api.mobygames.com/v1/games/5419/platforms/3', 'https://api.mobygames.com/v1/games/5532/platforms/3', 'https://api.mobygames.com/v1/games/5620/platforms/2', 'https://api.mobygames.com/v1/games/5641/platforms/3', 'https://api.mobygames.com/v1/games/5642/platforms/3', 'https://api.mobygames.com/v1/games/5677/platforms/3', 'https://api.mobygames.com/v1/games/5729/platforms/3', 'https://api.mobygames.com/v1/games/5730/platforms/3', 'https://api.mobygames.com/v1/games/5745/platforms/3', 'https://api.mobygames.com/v1/games/5746/platforms/7', 'https://api.mobygames.com/v1/games/5755/platforms/143', 'https://api.mobygames.com/v1/games/5839/platforms/2', 'https://api.mobygames.com/v1/games/5872/platforms/3', 'https://api.mobygames.com/v1/games/5898/platforms/7', 'https://api.mobygames.com/v1/games/6000/platforms/3', 'https://api.mobygames.com/v1/games/6032/platforms/3', 'https://api.mobygames.com/v1/games/6048/platforms/12', 'https://api.mobygames.com/v1/games/6124/platforms/6', 'https://api.mobygames.com/v1/games/6185/platforms/6', 'https://api.mobygames.com/v1/games/6213/platforms/9', 'https://api.mobygames.com/v1/games/6264/platforms/7', 'https://api.mobygames.com/v1/games/6311/platforms/12', 'https://api.mobygames.com/v1/games/6348/platforms/143', 'https://api.mobygames.com/v1/games/6507/platforms/3', 'https://api.mobygames.com/v1/games/6519/platforms/3', 'https://api.mobygames.com/v1/games/6632/platforms/15', 'https://api.mobygames.com/v1/games/6656/platforms/143', 'https://api.mobygames.com/v1/games/6738/platforms/17', 'https://api.mobygames.com/v1/games/6769/platforms/19', 'https://api.mobygames.com/v1/games/6806/platforms/3', 'https://api.mobygames.com/v1/games/6824/platforms/7', 'https://api.mobygames.com/v1/games/6895/platforms/17', 'https://api.mobygames.com/v1/games/6903/platforms/2', 'https://api.mobygames.com/v1/games/7015/platforms/9', 'https://api.mobygames.com/v1/games/7016/platforms/6', 'https://api.mobygames.com/v1/games/7033/platforms/13', 'https://api.mobygames.com/v1/games/7034/platforms/7', 'https://api.mobygames.com/v1/games/7051/platforms/17', 'https://api.mobygames.com/v1/games/7053/platforms/7', 'https://api.mobygames.com/v1/games/7095/platforms/3', 'https://api.mobygames.com/v1/games/7136/platforms/15', 'https://api.mobygames.com/v1/games/7163/platforms/15', 'https://api.mobygames.com/v1/games/7190/platforms/3', 'https://api.mobygames.com/v1/games/7479/platforms/3', 'https://api.mobygames.com/v1/games/7705/platforms/21', 'https://api.mobygames.com/v1/games/7765/platforms/143', 'https://api.mobygames.com/v1/games/7791/platforms/3', 'https://api.mobygames.com/v1/games/7828/platforms/7', 'https://api.mobygames.com/v1/games/7916/platforms/3', 'https://api.mobygames.com/v1/games/7929/platforms/3', 'https://api.mobygames.com/v1/games/7976/platforms/3', 'https://api.mobygames.com/v1/games/8046/platforms/3', 'https://api.mobygames.com/v1/games/8093/platforms/12', 'https://api.mobygames.com/v1/games/8248/platforms/3', 'https://api.mobygames.com/v1/games/8252/platforms/3', 'https://api.mobygames.com/v1/games/8291/platforms/6', 'https://api.mobygames.com/v1/games/8298/platforms/3', 'https://api.mobygames.com/v1/games/8486/platforms/9', 'https://api.mobygames.com/v1/games/8495/platforms/3', 'https://api.mobygames.com/v1/games/8597/platforms/3', 'https://api.mobygames.com/v1/games/8684/platforms/7', 'https://api.mobygames.com/v1/games/8700/platforms/7', 'https://api.mobygames.com/v1/games/8719/platforms/13', 'https://api.mobygames.com/v1/games/8767/platforms/7', 'https://api.mobygames.com/v1/games/8854/platforms/6', 'https://api.mobygames.com/v1/games/8892/platforms/7', 'https://api.mobygames.com/v1/games/8894/platforms/12', 'https://api.mobygames.com/v1/games/8955/platforms/3', 'https://api.mobygames.com/v1/games/8963/platforms/3', 'https://api.mobygames.com/v1/games/8964/platforms/7', 'https://api.mobygames.com/v1/games/8966/platforms/3', 'https://api.mobygames.com/v1/games/8992/platforms/3', 'https://api.mobygames.com/v1/games/8993/platforms/3', 'https://api.mobygames.com/v1/games/9013/platforms/3', 'https://api.mobygames.com/v1/games/9021/platforms/3', 'https://api.mobygames.com/v1/games/9053/platforms/12', 'https://api.mobygames.com/v1/games/9054/platforms/12', 'https://api.mobygames.com/v1/games/9163/platforms/6', 'https://api.mobygames.com/v1/games/9196/platforms/9', 'https://api.mobygames.com/v1/games/9464/platforms/13', 'https://api.mobygames.com/v1/games/9500/platforms/3', 'https://api.mobygames.com/v1/games/9542/platforms/3', 'https://api.mobygames.com/v1/games/9629/platforms/2', 'https://api.mobygames.com/v1/games/9732/platforms/7', 'https://api.mobygames.com/v1/games/9886/platforms/3', 'https://api.mobygames.com/v1/games/9946/platforms/3', 'https://api.mobygames.com/v1/games/9967/platforms/2', 'https://api.mobygames.com/v1/games/9972/platforms/17', 'https://api.mobygames.com/v1/games/9982/platforms/2', 'https://api.mobygames.com/v1/games/10027/platforms/7', 'https://api.mobygames.com/v1/games/10030/platforms/143', 'https://api.mobygames.com/v1/games/10092/platforms/13', 'https://api.mobygames.com/v1/games/10163/platforms/7', 'https://api.mobygames.com/v1/games/10234/platforms/31', 'https://api.mobygames.com/v1/games/10293/platforms/29', 'https://api.mobygames.com/v1/games/10316/platforms/6', 'https://api.mobygames.com/v1/games/10362/platforms/143', 'https://api.mobygames.com/v1/games/10393/platforms/3', 'https://api.mobygames.com/v1/games/10395/platforms/3', 'https://api.mobygames.com/v1/games/10404/platforms/3', 'https://api.mobygames.com/v1/games/10423/platforms/7', 'https://api.mobygames.com/v1/games/10434/platforms/13', 'https://api.mobygames.com/v1/games/10447/platforms/3', 'https://api.mobygames.com/v1/games/10470/platforms/143', 'https://api.mobygames.com/v1/games/10505/platforms/8', 'https://api.mobygames.com/v1/games/10514/platforms/9', 'https://api.mobygames.com/v1/games/10685/platforms/7', 'https://api.mobygames.com/v1/games/10855/platforms/3', 'https://api.mobygames.com/v1/games/10877/platforms/7', 'https://api.mobygames.com/v1/games/11103/platforms/15', 'https://api.mobygames.com/v1/games/11175/platforms/3', 'https://api.mobygames.com/v1/games/11197/platforms/6', 'https://api.mobygames.com/v1/games/11240/platforms/28', 'https://api.mobygames.com/v1/games/11279/platforms/6', 'https://api.mobygames.com/v1/games/11422/platforms/6', 'https://api.mobygames.com/v1/games/11820/platforms/7', 'https://api.mobygames.com/v1/games/11991/platforms/28', 'https://api.mobygames.com/v1/games/12098/platforms/3', 'https://api.mobygames.com/v1/games/12222/platforms/13', 'https://api.mobygames.com/v1/games/12259/platforms/7', 'https://api.mobygames.com/v1/games/12412/platforms/8', 'https://api.mobygames.com/v1/games/12492/platforms/6', 'https://api.mobygames.com/v1/games/12554/platforms/3', 'https://api.mobygames.com/v1/games/12564/platforms/6', 'https://api.mobygames.com/v1/games/12612/platforms/20', 'https://api.mobygames.com/v1/games/12618/platforms/6', 'https://api.mobygames.com/v1/games/12681/platforms/14', 'https://api.mobygames.com/v1/games/12766/platforms/3', 'https://api.mobygames.com/v1/games/13001/platforms/12', 'https://api.mobygames.com/v1/games/13119/platforms/24', 'https://api.mobygames.com/v1/games/13139/platforms/7', 'https://api.mobygames.com/v1/games/13164/platforms/3', 'https://api.mobygames.com/v1/games/13240/platforms/19', 'https://api.mobygames.com/v1/games/13341/platforms/27', 'https://api.mobygames.com/v1/games/13360/platforms/6', 'https://api.mobygames.com/v1/games/13389/platforms/7', 'https://api.mobygames.com/v1/games/13918/platforms/19', 'https://api.mobygames.com/v1/games/13949/platforms/6', 'https://api.mobygames.com/v1/games/13962/platforms/3', 'https://api.mobygames.com/v1/games/13983/platforms/6', 'https://api.mobygames.com/v1/games/13996/platforms/3', 'https://api.mobygames.com/v1/games/14002/platforms/19', 'https://api.mobygames.com/v1/games/14071/platforms/9', 'https://api.mobygames.com/v1/games/14094/platforms/31', 'https://api.mobygames.com/v1/games/14121/platforms/3', 'https://api.mobygames.com/v1/games/14129/platforms/24', 'https://api.mobygames.com/v1/games/14258/platforms/2', 'https://api.mobygames.com/v1/games/14264/platforms/6', 'https://api.mobygames.com/v1/games/14367/platforms/2', 'https://api.mobygames.com/v1/games/14401/platforms/13', 'https://api.mobygames.com/v1/games/14526/platforms/3', 'https://api.mobygames.com/v1/games/14579/platforms/7', 'https://api.mobygames.com/v1/games/14676/platforms/15', 'https://api.mobygames.com/v1/games/14681/platforms/19', 'https://api.mobygames.com/v1/games/14683/platforms/41', 'https://api.mobygames.com/v1/games/14710/platforms/3', 'https://api.mobygames.com/v1/games/14712/platforms/7', 'https://api.mobygames.com/v1/games/14716/platforms/3', 'https://api.mobygames.com/v1/games/14735/platforms/27', 'https://api.mobygames.com/v1/games/14758/platforms/19', 'https://api.mobygames.com/v1/games/14808/platforms/7', 'https://api.mobygames.com/v1/games/14819/platforms/2', 'https://api.mobygames.com/v1/games/14959/platforms/6', 'https://api.mobygames.com/v1/games/15342/platforms/2', 'https://api.mobygames.com/v1/games/15389/platforms/7', 'https://api.mobygames.com/v1/games/15556/platforms/13', 'https://api.mobygames.com/v1/games/15575/platforms/7', 'https://api.mobygames.com/v1/games/15694/platforms/19', 'https://api.mobygames.com/v1/games/15699/platforms/3', 'https://api.mobygames.com/v1/games/15712/platforms/12', 'https://api.mobygames.com/v1/games/15851/platforms/27', 'https://api.mobygames.com/v1/games/15930/platforms/16', 'https://api.mobygames.com/v1/games/16054/platforms/44', 'https://api.mobygames.com/v1/games/16127/platforms/2', 'https://api.mobygames.com/v1/games/16135/platforms/41', 'https://api.mobygames.com/v1/games/16177/platforms/24', 'https://api.mobygames.com/v1/games/16256/platforms/60', 'https://api.mobygames.com/v1/games/16441/platforms/3', 'https://api.mobygames.com/v1/games/16476/platforms/32', 'https://api.mobygames.com/v1/games/16488/platforms/41', 'https://api.mobygames.com/v1/games/16580/platforms/143', 'https://api.mobygames.com/v1/games/16722/platforms/8', 'https://api.mobygames.com/v1/games/17128/platforms/19', 'https://api.mobygames.com/v1/games/17170/platforms/7', 'https://api.mobygames.com/v1/games/17403/platforms/11', 'https://api.mobygames.com/v1/games/17689/platforms/7', 'https://api.mobygames.com/v1/games/17699/platforms/16', 'https://api.mobygames.com/v1/games/17840/platforms/3', 'https://api.mobygames.com/v1/games/18002/platforms/15', 'https://api.mobygames.com/v1/games/18186/platforms/31', 'https://api.mobygames.com/v1/games/18249/platforms/13', 'https://api.mobygames.com/v1/games/18266/platforms/6', 'https://api.mobygames.com/v1/games/18283/platforms/22', 'https://api.mobygames.com/v1/games/18351/platforms/3', 'https://api.mobygames.com/v1/games/18416/platforms/6', 'https://api.mobygames.com/v1/games/18515/platforms/3', 'https://api.mobygames.com/v1/games/18543/platforms/7', 'https://api.mobygames.com/v1/games/18780/platforms/7', 'https://api.mobygames.com/v1/games/18792/platforms/60', 'https://api.mobygames.com/v1/games/18798/platforms/7', 'https://api.mobygames.com/v1/games/18937/platforms/7', 'https://api.mobygames.com/v1/games/18973/platforms/7', 'https://api.mobygames.com/v1/games/19069/platforms/3', 'https://api.mobygames.com/v1/games/19208/platforms/117', 'https://api.mobygames.com/v1/games/19269/platforms/3', 'https://api.mobygames.com/v1/games/19270/platforms/29', 'https://api.mobygames.com/v1/games/19282/platforms/27', 'https://api.mobygames.com/v1/games/19548/platforms/7', 'https://api.mobygames.com/v1/games/20034/platforms/41', 'https://api.mobygames.com/v1/games/20125/platforms/7', 'https://api.mobygames.com/v1/games/20202/platforms/27', 'https://api.mobygames.com/v1/games/20256/platforms/46', 'https://api.mobygames.com/v1/games/20500/platforms/16', 'https://api.mobygames.com/v1/games/20523/platforms/6', 'https://api.mobygames.com/v1/games/20599/platforms/2', 'https://api.mobygames.com/v1/games/20765/platforms/3', 'https://api.mobygames.com/v1/games/20843/platforms/68', 'https://api.mobygames.com/v1/games/20845/platforms/67', 'https://api.mobygames.com/v1/games/20847/platforms/66', 'https://api.mobygames.com/v1/games/20877/platforms/69', 'https://api.mobygames.com/v1/games/20909/platforms/3', 'https://api.mobygames.com/v1/games/20912/platforms/3', 'https://api.mobygames.com/v1/games/20914/platforms/3', 'https://api.mobygames.com/v1/games/20948/platforms/14', 'https://api.mobygames.com/v1/games/21052/platforms/3', 'https://api.mobygames.com/v1/games/21055/platforms/3', 'https://api.mobygames.com/v1/games/21210/platforms/16', 'https://api.mobygames.com/v1/games/21309/platforms/64', 'https://api.mobygames.com/v1/games/21327/platforms/46', 'https://api.mobygames.com/v1/games/21374/platforms/3', 'https://api.mobygames.com/v1/games/21376/platforms/41', 'https://api.mobygames.com/v1/games/21419/platforms/7', 'https://api.mobygames.com/v1/games/21495/platforms/9', 'https://api.mobygames.com/v1/games/21581/platforms/3', 'https://api.mobygames.com/v1/games/21604/platforms/9', 'https://api.mobygames.com/v1/games/21661/platforms/12', 'https://api.mobygames.com/v1/games/21829/platforms/27', 'https://api.mobygames.com/v1/games/22155/platforms/3', 'https://api.mobygames.com/v1/games/22243/platforms/8', 'https://api.mobygames.com/v1/games/22284/platforms/19', 'https://api.mobygames.com/v1/games/22308/platforms/63', 'https://api.mobygames.com/v1/games/22319/platforms/71', 'https://api.mobygames.com/v1/games/22378/platforms/63', 'https://api.mobygames.com/v1/games/22409/platforms/74', 'https://api.mobygames.com/v1/games/22440/platforms/19', 'https://api.mobygames.com/v1/games/22442/platforms/3', 'https://api.mobygames.com/v1/games/22600/platforms/3', 'https://api.mobygames.com/v1/games/22746/platforms/7', 'https://api.mobygames.com/v1/games/22835/platforms/27', 'https://api.mobygames.com/v1/games/22840/platforms/69', 'https://api.mobygames.com/v1/games/22884/platforms/12', 'https://api.mobygames.com/v1/games/22929/platforms/23', 'https://api.mobygames.com/v1/games/23021/platforms/19', 'https://api.mobygames.com/v1/games/23113/platforms/9', 'https://api.mobygames.com/v1/games/23157/platforms/3', 'https://api.mobygames.com/v1/games/23211/platforms/6', 'https://api.mobygames.com/v1/games/23302/platforms/3', 'https://api.mobygames.com/v1/games/23332/platforms/143', 'https://api.mobygames.com/v1/games/23413/platforms/7', 'https://api.mobygames.com/v1/games/23583/platforms/3', 'https://api.mobygames.com/v1/games/23669/platforms/3', 'https://api.mobygames.com/v1/games/23744/platforms/44', 'https://api.mobygames.com/v1/games/23873/platforms/28', 'https://api.mobygames.com/v1/games/23949/platforms/3', 'https://api.mobygames.com/v1/games/24069/platforms/1', 'https://api.mobygames.com/v1/games/24127/platforms/19', 'https://api.mobygames.com/v1/games/24221/platforms/3', 'https://api.mobygames.com/v1/games/24321/platforms/64', 'https://api.mobygames.com/v1/games/24331/platforms/2', 'https://api.mobygames.com/v1/games/24339/platforms/3', 'https://api.mobygames.com/v1/games/24400/platforms/7', 'https://api.mobygames.com/v1/games/24616/platforms/7', 'https://api.mobygames.com/v1/games/24726/platforms/7', 'https://api.mobygames.com/v1/games/24943/platforms/6', 'https://api.mobygames.com/v1/games/25122/platforms/82', 'https://api.mobygames.com/v1/games/25125/platforms/14', 'https://api.mobygames.com/v1/games/25179/platforms/46', 'https://api.mobygames.com/v1/games/25251/platforms/7', 'https://api.mobygames.com/v1/games/25292/platforms/3', 'https://api.mobygames.com/v1/games/25309/platforms/3', 'https://api.mobygames.com/v1/games/25333/platforms/64', 'https://api.mobygames.com/v1/games/25637/platforms/2', 'https://api.mobygames.com/v1/games/25662/platforms/46', 'https://api.mobygames.com/v1/games/25779/platforms/3', 'https://api.mobygames.com/v1/games/25820/platforms/32', 'https://api.mobygames.com/v1/games/26241/platforms/3', 'https://api.mobygames.com/v1/games/26298/platforms/3', 'https://api.mobygames.com/v1/games/26312/platforms/44', 'https://api.mobygames.com/v1/games/26483/platforms/64', 'https://api.mobygames.com/v1/games/26724/platforms/46', 'https://api.mobygames.com/v1/games/26746/platforms/44', 'https://api.mobygames.com/v1/games/26785/platforms/81', 'https://api.mobygames.com/v1/games/26791/platforms/19', 'https://api.mobygames.com/v1/games/26898/platforms/69', 'https://api.mobygames.com/v1/games/26992/platforms/13', 'https://api.mobygames.com/v1/games/26993/platforms/81', 'https://api.mobygames.com/v1/games/27076/platforms/2', 'https://api.mobygames.com/v1/games/27135/platforms/19', 'https://api.mobygames.com/v1/games/27154/platforms/3', 'https://api.mobygames.com/v1/games/27399/platforms/3', 'https://api.mobygames.com/v1/games/27496/platforms/82', 'https://api.mobygames.com/v1/games/27658/platforms/7', 'https://api.mobygames.com/v1/games/27695/platforms/14', 'https://api.mobygames.com/v1/games/27804/platforms/2', 'https://api.mobygames.com/v1/games/27880/platforms/64', 'https://api.mobygames.com/v1/games/27951/platforms/81', 'https://api.mobygames.com/v1/games/27973/platforms/64', 'https://api.mobygames.com/v1/games/28208/platforms/2', 'https://api.mobygames.com/v1/games/28304/platforms/7', 'https://api.mobygames.com/v1/games/28492/platforms/15', 'https://api.mobygames.com/v1/games/28556/platforms/2', 'https://api.mobygames.com/v1/games/28597/platforms/3', 'https://api.mobygames.com/v1/games/28890/platforms/143', 'https://api.mobygames.com/v1/games/30409/platforms/69', 'https://api.mobygames.com/v1/games/30449/platforms/3', 'https://api.mobygames.com/v1/games/30484/platforms/7', 'https://api.mobygames.com/v1/games/30819/platforms/3', 'https://api.mobygames.com/v1/games/30982/platforms/46', 'https://api.mobygames.com/v1/games/31242/platforms/3', 'https://api.mobygames.com/v1/games/31443/platforms/7', 'https://api.mobygames.com/v1/games/31503/platforms/44', 'https://api.mobygames.com/v1/games/31592/platforms/12', 'https://api.mobygames.com/v1/games/31595/platforms/41', 'https://api.mobygames.com/v1/games/31631/platforms/60', 'https://api.mobygames.com/v1/games/31737/platforms/3', 'https://api.mobygames.com/v1/games/31845/platforms/82', 'https://api.mobygames.com/v1/games/31864/platforms/10', 'https://api.mobygames.com/v1/games/31953/platforms/6', 'https://api.mobygames.com/v1/games/31969/platforms/24', 'https://api.mobygames.com/v1/games/32075/platforms/19', 'https://api.mobygames.com/v1/games/32272/platforms/7', 'https://api.mobygames.com/v1/games/32484/platforms/7', 'https://api.mobygames.com/v1/games/32941/platforms/27', 'https://api.mobygames.com/v1/games/33237/platforms/6', 'https://api.mobygames.com/v1/games/33241/platforms/30', 'https://api.mobygames.com/v1/games/33375/platforms/27', 'https://api.mobygames.com/v1/games/33403/platforms/6', 'https://api.mobygames.com/v1/games/33549/platforms/19', 'https://api.mobygames.com/v1/games/33711/platforms/3', 'https://api.mobygames.com/v1/games/33821/platforms/44', 'https://api.mobygames.com/v1/games/33958/platforms/81', 'https://api.mobygames.com/v1/games/34094/platforms/19', 'https://api.mobygames.com/v1/games/34234/platforms/46', 'https://api.mobygames.com/v1/games/34317/platforms/3', 'https://api.mobygames.com/v1/games/34369/platforms/81', 'https://api.mobygames.com/v1/games/34657/platforms/7', 'https://api.mobygames.com/v1/games/34806/platforms/7', 'https://api.mobygames.com/v1/games/34924/platforms/44', 'https://api.mobygames.com/v1/games/35053/platforms/46', 'https://api.mobygames.com/v1/games/35057/platforms/22', 'https://api.mobygames.com/v1/games/35094/platforms/62', 'https://api.mobygames.com/v1/games/35432/platforms/3', 'https://api.mobygames.com/v1/games/35466/platforms/27', 'https://api.mobygames.com/v1/games/35621/platforms/19', 'https://api.mobygames.com/v1/games/35656/platforms/25', 'https://api.mobygames.com/v1/games/35751/platforms/15', 'https://api.mobygames.com/v1/games/35802/platforms/6', 'https://api.mobygames.com/v1/games/35811/platforms/6', 'https://api.mobygames.com/v1/games/35813/platforms/6', 'https://api.mobygames.com/v1/games/35953/platforms/7', 'https://api.mobygames.com/v1/games/35958/platforms/3', 'https://api.mobygames.com/v1/games/35959/platforms/3', 'https://api.mobygames.com/v1/games/35960/platforms/3', 'https://api.mobygames.com/v1/games/35961/platforms/3', 'https://api.mobygames.com/v1/games/35962/platforms/3', 'https://api.mobygames.com/v1/games/35963/platforms/3', 'https://api.mobygames.com/v1/games/35964/platforms/6', 'https://api.mobygames.com/v1/games/36095/platforms/3', 'https://api.mobygames.com/v1/games/36097/platforms/3', 'https://api.mobygames.com/v1/games/36127/platforms/63', 'https://api.mobygames.com/v1/games/36182/platforms/7', 'https://api.mobygames.com/v1/games/36355/platforms/11', 'https://api.mobygames.com/v1/games/36555/platforms/3', 'https://api.mobygames.com/v1/games/36646/platforms/48', 'https://api.mobygames.com/v1/games/36849/platforms/8', 'https://api.mobygames.com/v1/games/36871/platforms/3', 'https://api.mobygames.com/v1/games/36875/platforms/3', 'https://api.mobygames.com/v1/games/37021/platforms/11', 'https://api.mobygames.com/v1/games/37101/platforms/3', 'https://api.mobygames.com/v1/games/37147/platforms/44', 'https://api.mobygames.com/v1/games/37589/platforms/81', 'https://api.mobygames.com/v1/games/37711/platforms/69', 'https://api.mobygames.com/v1/games/37756/platforms/11', 'https://api.mobygames.com/v1/games/37774/platforms/3', 'https://api.mobygames.com/v1/games/37938/platforms/7', 'https://api.mobygames.com/v1/games/37939/platforms/11', 'https://api.mobygames.com/v1/games/37975/platforms/3', 'https://api.mobygames.com/v1/games/38359/platforms/3', 'https://api.mobygames.com/v1/games/38433/platforms/9', 'https://api.mobygames.com/v1/games/38781/platforms/6', 'https://api.mobygames.com/v1/games/38960/platforms/3', 'https://api.mobygames.com/v1/games/39127/platforms/3', 'https://api.mobygames.com/v1/games/39166/platforms/130', 'https://api.mobygames.com/v1/games/39380/platforms/3', 'https://api.mobygames.com/v1/games/39386/platforms/3', 'https://api.mobygames.com/v1/games/39387/platforms/3', 'https://api.mobygames.com/v1/games/39399/platforms/3', 'https://api.mobygames.com/v1/games/39400/platforms/3', 'https://api.mobygames.com/v1/games/39487/platforms/3', 'https://api.mobygames.com/v1/games/39498/platforms/46', 'https://api.mobygames.com/v1/games/39501/platforms/7', 'https://api.mobygames.com/v1/games/39503/platforms/7', 'https://api.mobygames.com/v1/games/40036/platforms/3', 'https://api.mobygames.com/v1/games/40253/platforms/15', 'https://api.mobygames.com/v1/games/40556/platforms/3', 'https://api.mobygames.com/v1/games/40683/platforms/3', 'https://api.mobygames.com/v1/games/40787/platforms/3', 'https://api.mobygames.com/v1/games/40791/platforms/13', 'https://api.mobygames.com/v1/games/40955/platforms/2', 'https://api.mobygames.com/v1/games/41000/platforms/7', 'https://api.mobygames.com/v1/games/41014/platforms/3', 'https://api.mobygames.com/v1/games/41336/platforms/66', 'https://api.mobygames.com/v1/games/41492/platforms/46', 'https://api.mobygames.com/v1/games/41493/platforms/46', 'https://api.mobygames.com/v1/games/41672/platforms/3', 'https://api.mobygames.com/v1/games/41699/platforms/3', 'https://api.mobygames.com/v1/games/41832/platforms/2', 'https://api.mobygames.com/v1/games/41873/platforms/3', 'https://api.mobygames.com/v1/games/42275/platforms/3', 'https://api.mobygames.com/v1/games/42315/platforms/3', 'https://api.mobygames.com/v1/games/42342/platforms/3', 'https://api.mobygames.com/v1/games/42529/platforms/3', 'https://api.mobygames.com/v1/games/42771/platforms/3', 'https://api.mobygames.com/v1/games/42780/platforms/6', 'https://api.mobygames.com/v1/games/42835/platforms/3', 'https://api.mobygames.com/v1/games/42968/platforms/3', 'https://api.mobygames.com/v1/games/43073/platforms/3', 'https://api.mobygames.com/v1/games/43178/platforms/3', 'https://api.mobygames.com/v1/games/43455/platforms/11', 'https://api.mobygames.com/v1/games/43934/platforms/69', 'https://api.mobygames.com/v1/games/43936/platforms/3', 'https://api.mobygames.com/v1/games/44292/platforms/114', 'https://api.mobygames.com/v1/games/44301/platforms/44', 'https://api.mobygames.com/v1/games/44675/platforms/15', 'https://api.mobygames.com/v1/games/44678/platforms/3', 'https://api.mobygames.com/v1/games/44746/platforms/1', 'https://api.mobygames.com/v1/games/45002/platforms/3', 'https://api.mobygames.com/v1/games/45311/platforms/3', 'https://api.mobygames.com/v1/games/45409/platforms/2', 'https://api.mobygames.com/v1/games/45535/platforms/3', 'https://api.mobygames.com/v1/games/45913/platforms/69', 'https://api.mobygames.com/v1/games/46087/platforms/2', 'https://api.mobygames.com/v1/games/46235/platforms/46', 'https://api.mobygames.com/v1/games/46536/platforms/92', 'https://api.mobygames.com/v1/games/46537/platforms/92', 'https://api.mobygames.com/v1/games/46538/platforms/92', 'https://api.mobygames.com/v1/games/46575/platforms/3', 'https://api.mobygames.com/v1/games/46611/platforms/3', 'https://api.mobygames.com/v1/games/46626/platforms/3', 'https://api.mobygames.com/v1/games/46639/platforms/2', 'https://api.mobygames.com/v1/games/46681/platforms/7', 'https://api.mobygames.com/v1/games/46689/platforms/86', 'https://api.mobygames.com/v1/games/46704/platforms/3', 'https://api.mobygames.com/v1/games/46757/platforms/3', 'https://api.mobygames.com/v1/games/46758/platforms/3', 'https://api.mobygames.com/v1/games/46965/platforms/46', 'https://api.mobygames.com/v1/games/47078/platforms/3', 'https://api.mobygames.com/v1/games/47612/platforms/3', 'https://api.mobygames.com/v1/games/47675/platforms/46', 'https://api.mobygames.com/v1/games/47787/platforms/46', 'https://api.mobygames.com/v1/games/48101/platforms/6', 'https://api.mobygames.com/v1/games/48112/platforms/13', 'https://api.mobygames.com/v1/games/48249/platforms/13', 'https://api.mobygames.com/v1/games/48506/platforms/7', 'https://api.mobygames.com/v1/games/48922/platforms/6', 'https://api.mobygames.com/v1/games/49070/platforms/69', 'https://api.mobygames.com/v1/games/49157/platforms/87', 'https://api.mobygames.com/v1/games/49321/platforms/81', 'https://api.mobygames.com/v1/games/49338/platforms/81', 'https://api.mobygames.com/v1/games/49576/platforms/3', 'https://api.mobygames.com/v1/games/49580/platforms/6', 'https://api.mobygames.com/v1/games/49643/platforms/27', 'https://api.mobygames.com/v1/games/49646/platforms/3', 'https://api.mobygames.com/v1/games/49757/platforms/3', 'https://api.mobygames.com/v1/games/50239/platforms/3', 'https://api.mobygames.com/v1/games/50355/platforms/86', 'https://api.mobygames.com/v1/games/50902/platforms/3', 'https://api.mobygames.com/v1/games/50921/platforms/27', 'https://api.mobygames.com/v1/games/50998/platforms/101', 'https://api.mobygames.com/v1/games/51004/platforms/3', 'https://api.mobygames.com/v1/games/51030/platforms/35', 'https://api.mobygames.com/v1/games/51079/platforms/6', 'https://api.mobygames.com/v1/games/51185/platforms/82', 'https://api.mobygames.com/v1/games/51321/platforms/3', 'https://api.mobygames.com/v1/games/51530/platforms/3', 'https://api.mobygames.com/v1/games/51795/platforms/3', 'https://api.mobygames.com/v1/games/51796/platforms/3', 'https://api.mobygames.com/v1/games/51957/platforms/3', 'https://api.mobygames.com/v1/games/52056/platforms/3', 'https://api.mobygames.com/v1/games/52121/platforms/3', 'https://api.mobygames.com/v1/games/52245/platforms/86', 'https://api.mobygames.com/v1/games/52801/platforms/12', 'https://api.mobygames.com/v1/games/53180/platforms/44', 'https://api.mobygames.com/v1/games/53449/platforms/143', 'https://api.mobygames.com/v1/games/53466/platforms/69', 'https://api.mobygames.com/v1/games/53561/platforms/64', 'https://api.mobygames.com/v1/games/53576/platforms/3', 'https://api.mobygames.com/v1/games/53638/platforms/46', 'https://api.mobygames.com/v1/games/53641/platforms/81', 'https://api.mobygames.com/v1/games/53686/platforms/3', 'https://api.mobygames.com/v1/games/53927/platforms/3', 'https://api.mobygames.com/v1/games/54070/platforms/40', 'https://api.mobygames.com/v1/games/54093/platforms/86', 'https://api.mobygames.com/v1/games/54103/platforms/64', 'https://api.mobygames.com/v1/games/54249/platforms/3', 'https://api.mobygames.com/v1/games/54466/platforms/77', 'https://api.mobygames.com/v1/games/54714/platforms/63', 'https://api.mobygames.com/v1/games/54913/platforms/12', 'https://api.mobygames.com/v1/games/55098/platforms/3', 'https://api.mobygames.com/v1/games/55183/platforms/101', 'https://api.mobygames.com/v1/games/55487/platforms/3', 'https://api.mobygames.com/v1/games/55502/platforms/3', 'https://api.mobygames.com/v1/games/55588/platforms/19', 'https://api.mobygames.com/v1/games/55638/platforms/27', 'https://api.mobygames.com/v1/games/55771/platforms/79', 'https://api.mobygames.com/v1/games/55803/platforms/27', 'https://api.mobygames.com/v1/games/56087/platforms/12', 'https://api.mobygames.com/v1/games/56115/platforms/27', 'https://api.mobygames.com/v1/games/56444/platforms/77', 'https://api.mobygames.com/v1/games/56511/platforms/2', 'https://api.mobygames.com/v1/games/56797/platforms/3', 'https://api.mobygames.com/v1/games/56823/platforms/23', 'https://api.mobygames.com/v1/games/56905/platforms/119', 'https://api.mobygames.com/v1/games/56999/platforms/131', 'https://api.mobygames.com/v1/games/57195/platforms/3', 'https://api.mobygames.com/v1/games/57372/platforms/3', 'https://api.mobygames.com/v1/games/57392/platforms/3', 'https://api.mobygames.com/v1/games/57434/platforms/60', 'https://api.mobygames.com/v1/games/57435/platforms/27', 'https://api.mobygames.com/v1/games/57485/platforms/41', 'https://api.mobygames.com/v1/games/57533/platforms/16', 'https://api.mobygames.com/v1/games/57644/platforms/69', 'https://api.mobygames.com/v1/games/57696/platforms/31', 'https://api.mobygames.com/v1/games/58037/platforms/6', 'https://api.mobygames.com/v1/games/58072/platforms/3', 'https://api.mobygames.com/v1/games/58084/platforms/3', 'https://api.mobygames.com/v1/games/58130/platforms/3', 'https://api.mobygames.com/v1/games/58131/platforms/3', 'https://api.mobygames.com/v1/games/58159/platforms/101', 'https://api.mobygames.com/v1/games/58165/platforms/3', 'https://api.mobygames.com/v1/games/58166/platforms/3', 'https://api.mobygames.com/v1/games/58186/platforms/3', 'https://api.mobygames.com/v1/games/58267/platforms/3', 'https://api.mobygames.com/v1/games/58304/platforms/27', 'https://api.mobygames.com/v1/games/58529/platforms/3', 'https://api.mobygames.com/v1/games/58656/platforms/62', 'https://api.mobygames.com/v1/games/58677/platforms/3', 'https://api.mobygames.com/v1/games/59097/platforms/3', 'https://api.mobygames.com/v1/games/59214/platforms/2', 'https://api.mobygames.com/v1/games/59285/platforms/3', 'https://api.mobygames.com/v1/games/59344/platforms/50', 'https://api.mobygames.com/v1/games/59446/platforms/3', 'https://api.mobygames.com/v1/games/59554/platforms/69', 'https://api.mobygames.com/v1/games/59828/platforms/1', 'https://api.mobygames.com/v1/games/59840/platforms/19', 'https://api.mobygames.com/v1/games/59854/platforms/69', 'https://api.mobygames.com/v1/games/59935/platforms/3', 'https://api.mobygames.com/v1/games/60460/platforms/3', 'https://api.mobygames.com/v1/games/60600/platforms/1', 'https://api.mobygames.com/v1/games/60730/platforms/3', 'https://api.mobygames.com/v1/games/61286/platforms/20', 'https://api.mobygames.com/v1/games/61296/platforms/6', 'https://api.mobygames.com/v1/games/61436/platforms/12', 'https://api.mobygames.com/v1/games/61503/platforms/12', 'https://api.mobygames.com/v1/games/61742/platforms/2', 'https://api.mobygames.com/v1/games/62212/platforms/81', 'https://api.mobygames.com/v1/games/62541/platforms/1', 'https://api.mobygames.com/v1/games/62605/platforms/32', 'https://api.mobygames.com/v1/games/62682/platforms/141', 'https://api.mobygames.com/v1/games/62831/platforms/92', 'https://api.mobygames.com/v1/games/63247/platforms/27', 'https://api.mobygames.com/v1/games/63272/platforms/143', 'https://api.mobygames.com/v1/games/63342/platforms/86', 'https://api.mobygames.com/v1/games/63344/platforms/86', 'https://api.mobygames.com/v1/games/63406/platforms/10', 'https://api.mobygames.com/v1/games/63414/platforms/3', 'https://api.mobygames.com/v1/games/63575/platforms/23', 'https://api.mobygames.com/v1/games/63652/platforms/3', 'https://api.mobygames.com/v1/games/63756/platforms/7', 'https://api.mobygames.com/v1/games/63803/platforms/3', 'https://api.mobygames.com/v1/games/63855/platforms/27', 'https://api.mobygames.com/v1/games/63873/platforms/27', 'https://api.mobygames.com/v1/games/63874/platforms/4', 'https://api.mobygames.com/v1/games/64037/platforms/294', 'https://api.mobygames.com/v1/games/64284/platforms/31', 'https://api.mobygames.com/v1/games/64673/platforms/143', 'https://api.mobygames.com/v1/games/64695/platforms/82', 'https://api.mobygames.com/v1/games/64816/platforms/27', 'https://api.mobygames.com/v1/games/64818/platforms/27', 'https://api.mobygames.com/v1/games/65109/platforms/15', 'https://api.mobygames.com/v1/games/65137/platforms/15', 'https://api.mobygames.com/v1/games/65183/platforms/86', 'https://api.mobygames.com/v1/games/65348/platforms/3', 'https://api.mobygames.com/v1/games/65424/platforms/3', 'https://api.mobygames.com/v1/games/65537/platforms/143', 'https://api.mobygames.com/v1/games/65923/platforms/3', 'https://api.mobygames.com/v1/games/66044/platforms/3', 'https://api.mobygames.com/v1/games/66051/platforms/86', 'https://api.mobygames.com/v1/games/66267/platforms/2', 'https://api.mobygames.com/v1/games/66364/platforms/39', 'https://api.mobygames.com/v1/games/66564/platforms/81', 'https://api.mobygames.com/v1/games/66646/platforms/11', 'https://api.mobygames.com/v1/games/66699/platforms/143', 'https://api.mobygames.com/v1/games/67523/platforms/3', 'https://api.mobygames.com/v1/games/67598/platforms/3', 'https://api.mobygames.com/v1/games/68252/platforms/143', 'https://api.mobygames.com/v1/games/68329/platforms/74', 'https://api.mobygames.com/v1/games/68416/platforms/6', 'https://api.mobygames.com/v1/games/68679/platforms/12', 'https://api.mobygames.com/v1/games/68784/platforms/12', 'https://api.mobygames.com/v1/games/68879/platforms/141', 'https://api.mobygames.com/v1/games/69143/platforms/105', 'https://api.mobygames.com/v1/games/69271/platforms/46', 'https://api.mobygames.com/v1/games/69505/platforms/12', 'https://api.mobygames.com/v1/games/70057/platforms/3', 'https://api.mobygames.com/v1/games/70754/platforms/3', 'https://api.mobygames.com/v1/games/70796/platforms/91', 'https://api.mobygames.com/v1/games/70912/platforms/81', 'https://api.mobygames.com/v1/games/71134/platforms/84', 'https://api.mobygames.com/v1/games/72248/platforms/3', 'https://api.mobygames.com/v1/games/72322/platforms/3', 'https://api.mobygames.com/v1/games/72699/platforms/7', 'https://api.mobygames.com/v1/games/72719/platforms/3', 'https://api.mobygames.com/v1/games/72953/platforms/81', 'https://api.mobygames.com/v1/games/73518/platforms/3', 'https://api.mobygames.com/v1/games/73594/platforms/3', 'https://api.mobygames.com/v1/games/73673/platforms/3', 'https://api.mobygames.com/v1/games/73849/platforms/86', 'https://api.mobygames.com/v1/games/74239/platforms/7', 'https://api.mobygames.com/v1/games/74276/platforms/19', 'https://api.mobygames.com/v1/games/74560/platforms/3', 'https://api.mobygames.com/v1/games/74611/platforms/3', 'https://api.mobygames.com/v1/games/74656/platforms/46', 'https://api.mobygames.com/v1/games/74684/platforms/3', 'https://api.mobygames.com/v1/games/74858/platforms/101', 'https://api.mobygames.com/v1/games/74892/platforms/69', 'https://api.mobygames.com/v1/games/75075/platforms/69', 'https://api.mobygames.com/v1/games/75207/platforms/86', 'https://api.mobygames.com/v1/games/75628/platforms/8', 'https://api.mobygames.com/v1/games/75645/platforms/141', 'https://api.mobygames.com/v1/games/75655/platforms/41', 'https://api.mobygames.com/v1/games/75695/platforms/41', 'https://api.mobygames.com/v1/games/75785/platforms/91', 'https://api.mobygames.com/v1/games/75807/platforms/64', 'https://api.mobygames.com/v1/games/76125/platforms/3', 'https://api.mobygames.com/v1/games/76486/platforms/3', 'https://api.mobygames.com/v1/games/76523/platforms/3', 'https://api.mobygames.com/v1/games/76531/platforms/3', 'https://api.mobygames.com/v1/games/76602/platforms/7', 'https://api.mobygames.com/v1/games/76614/platforms/7', 'https://api.mobygames.com/v1/games/76626/platforms/3', 'https://api.mobygames.com/v1/games/76958/platforms/1', 'https://api.mobygames.com/v1/games/77286/platforms/63', 'https://api.mobygames.com/v1/games/77977/platforms/3', 'https://api.mobygames.com/v1/games/78081/platforms/3', 'https://api.mobygames.com/v1/games/78241/platforms/32', 'https://api.mobygames.com/v1/games/78264/platforms/3', 'https://api.mobygames.com/v1/games/78682/platforms/7', 'https://api.mobygames.com/v1/games/79328/platforms/3', 'https://api.mobygames.com/v1/games/79574/platforms/1', 'https://api.mobygames.com/v1/games/79618/platforms/3', 'https://api.mobygames.com/v1/games/79982/platforms/41', 'https://api.mobygames.com/v1/games/80199/platforms/3', 'https://api.mobygames.com/v1/games/80204/platforms/3', 'https://api.mobygames.com/v1/games/80458/platforms/18', 'https://api.mobygames.com/v1/games/81000/platforms/3', 'https://api.mobygames.com/v1/games/81232/platforms/6', 'https://api.mobygames.com/v1/games/81479/platforms/86', 'https://api.mobygames.com/v1/games/81700/platforms/3', 'https://api.mobygames.com/v1/games/82110/platforms/3', 'https://api.mobygames.com/v1/games/82136/platforms/7', 'https://api.mobygames.com/v1/games/82349/platforms/46', 'https://api.mobygames.com/v1/games/82498/platforms/3', 'https://api.mobygames.com/v1/games/82508/platforms/114', 'https://api.mobygames.com/v1/games/83325/platforms/3', 'https://api.mobygames.com/v1/games/83466/platforms/3', 'https://api.mobygames.com/v1/games/83680/platforms/3', 'https://api.mobygames.com/v1/games/83721/platforms/13', 'https://api.mobygames.com/v1/games/83755/platforms/86', 'https://api.mobygames.com/v1/games/83883/platforms/3', 'https://api.mobygames.com/v1/games/83996/platforms/141', 'https://api.mobygames.com/v1/games/83997/platforms/141', 'https://api.mobygames.com/v1/games/84072/platforms/86', 'https://api.mobygames.com/v1/games/84090/platforms/3', 'https://api.mobygames.com/v1/games/84106/platforms/92', 'https://api.mobygames.com/v1/games/84153/platforms/141', 'https://api.mobygames.com/v1/games/84166/platforms/3', 'https://api.mobygames.com/v1/games/84169/platforms/141', 'https://api.mobygames.com/v1/games/84412/platforms/3', 'https://api.mobygames.com/v1/games/84413/platforms/3', 'https://api.mobygames.com/v1/games/84414/platforms/142', 'https://api.mobygames.com/v1/games/84551/platforms/3', 'https://api.mobygames.com/v1/games/84617/platforms/82', 'https://api.mobygames.com/v1/games/84813/platforms/82', 'https://api.mobygames.com/v1/games/85302/platforms/44', 'https://api.mobygames.com/v1/games/85462/platforms/7', 'https://api.mobygames.com/v1/games/85914/platforms/3', 'https://api.mobygames.com/v1/games/85941/platforms/44', 'https://api.mobygames.com/v1/games/85950/platforms/3', 'https://api.mobygames.com/v1/games/85954/platforms/3', 'https://api.mobygames.com/v1/games/85957/platforms/3', 'https://api.mobygames.com/v1/games/85981/platforms/143', 'https://api.mobygames.com/v1/games/85994/platforms/3', 'https://api.mobygames.com/v1/games/85995/platforms/3', 'https://api.mobygames.com/v1/games/86281/platforms/1', 'https://api.mobygames.com/v1/games/87382/platforms/3', 'https://api.mobygames.com/v1/games/87383/platforms/3', 'https://api.mobygames.com/v1/games/87400/platforms/12', 'https://api.mobygames.com/v1/games/87451/platforms/3', 'https://api.mobygames.com/v1/games/87452/platforms/3', 'https://api.mobygames.com/v1/games/87512/platforms/3', 'https://api.mobygames.com/v1/games/87634/platforms/3', 'https://api.mobygames.com/v1/games/87760/platforms/46', 'https://api.mobygames.com/v1/games/87795/platforms/3', 'https://api.mobygames.com/v1/games/87805/platforms/44', 'https://api.mobygames.com/v1/games/88085/platforms/1', 'https://api.mobygames.com/v1/games/88459/platforms/132', 'https://api.mobygames.com/v1/games/88602/platforms/3', 'https://api.mobygames.com/v1/games/88671/platforms/3', 'https://api.mobygames.com/v1/games/88908/platforms/86', 'https://api.mobygames.com/v1/games/89650/platforms/3', 'https://api.mobygames.com/v1/games/89834/platforms/3', 'https://api.mobygames.com/v1/games/89874/platforms/208', 'https://api.mobygames.com/v1/games/89875/platforms/208', 'https://api.mobygames.com/v1/games/89878/platforms/208', 'https://api.mobygames.com/v1/games/89879/platforms/208', 'https://api.mobygames.com/v1/games/89984/platforms/86', 'https://api.mobygames.com/v1/games/90759/platforms/3', 'https://api.mobygames.com/v1/games/90803/platforms/3', 'https://api.mobygames.com/v1/games/90851/platforms/3', 'https://api.mobygames.com/v1/games/90852/platforms/3', 'https://api.mobygames.com/v1/games/90853/platforms/3', 'https://api.mobygames.com/v1/games/90924/platforms/3', 'https://api.mobygames.com/v1/games/91076/platforms/105', 'https://api.mobygames.com/v1/games/91307/platforms/3', 'https://api.mobygames.com/v1/games/91309/platforms/3', 'https://api.mobygames.com/v1/games/91310/platforms/3', 'https://api.mobygames.com/v1/games/91312/platforms/3', 'https://api.mobygames.com/v1/games/91347/platforms/3', 'https://api.mobygames.com/v1/games/91472/platforms/3', 'https://api.mobygames.com/v1/games/91507/platforms/101', 'https://api.mobygames.com/v1/games/91528/platforms/3', 'https://api.mobygames.com/v1/games/91566/platforms/3', 'https://api.mobygames.com/v1/games/91567/platforms/3', 'https://api.mobygames.com/v1/games/91675/platforms/3', 'https://api.mobygames.com/v1/games/91676/platforms/3', 'https://api.mobygames.com/v1/games/91679/platforms/3', 'https://api.mobygames.com/v1/games/91847/platforms/3', 'https://api.mobygames.com/v1/games/92430/platforms/143', 'https://api.mobygames.com/v1/games/92600/platforms/132', 'https://api.mobygames.com/v1/games/93023/platforms/3', 'https://api.mobygames.com/v1/games/93356/platforms/86', 'https://api.mobygames.com/v1/games/93717/platforms/3', 'https://api.mobygames.com/v1/games/93924/platforms/3', 'https://api.mobygames.com/v1/games/93925/platforms/3', 'https://api.mobygames.com/v1/games/93927/platforms/3', 'https://api.mobygames.com/v1/games/93973/platforms/3', 'https://api.mobygames.com/v1/games/94045/platforms/86', 'https://api.mobygames.com/v1/games/94046/platforms/98', 'https://api.mobygames.com/v1/games/94552/platforms/3', 'https://api.mobygames.com/v1/games/94591/platforms/74', 'https://api.mobygames.com/v1/games/94592/platforms/3', 'https://api.mobygames.com/v1/games/94593/platforms/3', 'https://api.mobygames.com/v1/games/94728/platforms/3', 'https://api.mobygames.com/v1/games/95552/platforms/3', 'https://api.mobygames.com/v1/games/95799/platforms/115', 'https://api.mobygames.com/v1/games/95846/platforms/3', 'https://api.mobygames.com/v1/games/96094/platforms/101', 'https://api.mobygames.com/v1/games/96096/platforms/101', 'https://api.mobygames.com/v1/games/96438/platforms/44', 'https://api.mobygames.com/v1/games/96439/platforms/44', 'https://api.mobygames.com/v1/games/96525/platforms/3', 'https://api.mobygames.com/v1/games/96534/platforms/3', 'https://api.mobygames.com/v1/games/96562/platforms/3', 'https://api.mobygames.com/v1/games/96722/platforms/141', 'https://api.mobygames.com/v1/games/96936/platforms/3', 'https://api.mobygames.com/v1/games/97059/platforms/3', 'https://api.mobygames.com/v1/games/97068/platforms/3', 'https://api.mobygames.com/v1/games/97258/platforms/3', 'https://api.mobygames.com/v1/games/97259/platforms/3', 'https://api.mobygames.com/v1/games/97314/platforms/3', 'https://api.mobygames.com/v1/games/97442/platforms/3', 'https://api.mobygames.com/v1/games/97953/platforms/189', 'https://api.mobygames.com/v1/games/98475/platforms/82', 'https://api.mobygames.com/v1/games/98655/platforms/3', 'https://api.mobygames.com/v1/games/98656/platforms/1', 'https://api.mobygames.com/v1/games/99336/platforms/82', 'https://api.mobygames.com/v1/games/99686/platforms/3', 'https://api.mobygames.com/v1/games/99941/platforms/3', 'https://api.mobygames.com/v1/games/99978/platforms/3', 'https://api.mobygames.com/v1/games/100010/platforms/209', 'https://api.mobygames.com/v1/games/100671/platforms/132', 'https://api.mobygames.com/v1/games/101058/platforms/95', 'https://api.mobygames.com/v1/games/102565/platforms/3', 'https://api.mobygames.com/v1/games/102626/platforms/3', 'https://api.mobygames.com/v1/games/102627/platforms/3', 'https://api.mobygames.com/v1/games/102628/platforms/3', 'https://api.mobygames.com/v1/games/102629/platforms/3', 'https://api.mobygames.com/v1/games/102706/platforms/3', 'https://api.mobygames.com/v1/games/103152/platforms/3', 'https://api.mobygames.com/v1/games/103153/platforms/3', 'https://api.mobygames.com/v1/games/103156/platforms/1', 'https://api.mobygames.com/v1/games/103159/platforms/3', 'https://api.mobygames.com/v1/games/103164/platforms/3', 'https://api.mobygames.com/v1/games/103623/platforms/3', 'https://api.mobygames.com/v1/games/104225/platforms/3', 'https://api.mobygames.com/v1/games/104744/platforms/86', 'https://api.mobygames.com/v1/games/104752/platforms/86', 'https://api.mobygames.com/v1/games/104853/platforms/91', 'https://api.mobygames.com/v1/games/105203/platforms/3', 'https://api.mobygames.com/v1/games/105413/platforms/3', 'https://api.mobygames.com/v1/games/105881/platforms/3', 'https://api.mobygames.com/v1/games/106018/platforms/3', 'https://api.mobygames.com/v1/games/106045/platforms/86', 'https://api.mobygames.com/v1/games/106173/platforms/3', 'https://api.mobygames.com/v1/games/106351/platforms/3', 'https://api.mobygames.com/v1/games/106352/platforms/3', 'https://api.mobygames.com/v1/games/106355/platforms/3', 'https://api.mobygames.com/v1/games/106357/platforms/3', 'https://api.mobygames.com/v1/games/106359/platforms/3', 'https://api.mobygames.com/v1/games/106360/platforms/3', 'https://api.mobygames.com/v1/games/106397/platforms/217', 'https://api.mobygames.com/v1/games/106407/platforms/3', 'https://api.mobygames.com/v1/games/107045/platforms/3', 'https://api.mobygames.com/v1/games/107098/platforms/3', 'https://api.mobygames.com/v1/games/107149/platforms/1', 'https://api.mobygames.com/v1/games/107342/platforms/3', 'https://api.mobygames.com/v1/games/107980/platforms/86', 'https://api.mobygames.com/v1/games/107982/platforms/86', 'https://api.mobygames.com/v1/games/108229/platforms/3', 'https://api.mobygames.com/v1/games/108509/platforms/199', 'https://api.mobygames.com/v1/games/108510/platforms/3', 'https://api.mobygames.com/v1/games/108523/platforms/3', 'https://api.mobygames.com/v1/games/109325/platforms/6', 'https://api.mobygames.com/v1/games/109424/platforms/3', 'https://api.mobygames.com/v1/games/109437/platforms/3', 'https://api.mobygames.com/v1/games/109468/platforms/3', 'https://api.mobygames.com/v1/games/109913/platforms/3', 'https://api.mobygames.com/v1/games/110113/platforms/3', 'https://api.mobygames.com/v1/games/110217/platforms/3', 'https://api.mobygames.com/v1/games/110260/platforms/3', 'https://api.mobygames.com/v1/games/110285/platforms/3', 'https://api.mobygames.com/v1/games/110301/platforms/3', 'https://api.mobygames.com/v1/games/110396/platforms/86', 'https://api.mobygames.com/v1/games/110397/platforms/86', 'https://api.mobygames.com/v1/games/110398/platforms/86', 'https://api.mobygames.com/v1/games/110399/platforms/86', 'https://api.mobygames.com/v1/games/110718/platforms/3', 'https://api.mobygames.com/v1/games/110770/platforms/223', 'https://api.mobygames.com/v1/games/110908/platforms/64', 'https://api.mobygames.com/v1/games/110950/platforms/222', 'https://api.mobygames.com/v1/games/110995/platforms/64', 'https://api.mobygames.com/v1/games/111071/platforms/234', 'https://api.mobygames.com/v1/games/111072/platforms/234', 'https://api.mobygames.com/v1/games/111092/platforms/64', 'https://api.mobygames.com/v1/games/111093/platforms/64', 'https://api.mobygames.com/v1/games/111204/platforms/222', 'https://api.mobygames.com/v1/games/111205/platforms/222', 'https://api.mobygames.com/v1/games/111208/platforms/222', 'https://api.mobygames.com/v1/games/111452/platforms/208', 'https://api.mobygames.com/v1/games/111458/platforms/208', 'https://api.mobygames.com/v1/games/111509/platforms/3', 'https://api.mobygames.com/v1/games/111599/platforms/3', 'https://api.mobygames.com/v1/games/111681/platforms/64', 'https://api.mobygames.com/v1/games/111785/platforms/203', 'https://api.mobygames.com/v1/games/111843/platforms/238', 'https://api.mobygames.com/v1/games/111844/platforms/238', 'https://api.mobygames.com/v1/games/112302/platforms/3', 'https://api.mobygames.com/v1/games/112388/platforms/1', 'https://api.mobygames.com/v1/games/112735/platforms/208', 'https://api.mobygames.com/v1/games/112776/platforms/226', 'https://api.mobygames.com/v1/games/112789/platforms/199', 'https://api.mobygames.com/v1/games/112874/platforms/3', 'https://api.mobygames.com/v1/games/113056/platforms/243', 'https://api.mobygames.com/v1/games/113185/platforms/141', 'https://api.mobygames.com/v1/games/113190/platforms/3', 'https://api.mobygames.com/v1/games/113272/platforms/3', 'https://api.mobygames.com/v1/games/113587/platforms/3', 'https://api.mobygames.com/v1/games/113750/platforms/228', 'https://api.mobygames.com/v1/games/114313/platforms/3', 'https://api.mobygames.com/v1/games/116466/platforms/6', 'https://api.mobygames.com/v1/games/116485/platforms/86', 'https://api.mobygames.com/v1/games/116742/platforms/3', 'https://api.mobygames.com/v1/games/117283/platforms/3', 'https://api.mobygames.com/v1/games/117365/platforms/3', 'https://api.mobygames.com/v1/games/117794/platforms/57', 'https://api.mobygames.com/v1/games/117921/platforms/216', 'https://api.mobygames.com/v1/games/117973/platforms/86', 'https://api.mobygames.com/v1/games/117974/platforms/86', 'https://api.mobygames.com/v1/games/118151/platforms/239', 'https://api.mobygames.com/v1/games/118330/platforms/106', 'https://api.mobygames.com/v1/games/118339/platforms/3', 'https://api.mobygames.com/v1/games/118485/platforms/3', 'https://api.mobygames.com/v1/games/119042/platforms/86', 'https://api.mobygames.com/v1/games/119142/platforms/3', 'https://api.mobygames.com/v1/games/120118/platforms/3', 'https://api.mobygames.com/v1/games/120288/platforms/91', 'https://api.mobygames.com/v1/games/120972/platforms/12', 'https://api.mobygames.com/v1/games/120981/platforms/86', 'https://api.mobygames.com/v1/games/121431/platforms/86', 'https://api.mobygames.com/v1/games/121553/platforms/91', 'https://api.mobygames.com/v1/games/121569/platforms/86', 'https://api.mobygames.com/v1/games/121573/platforms/86', 'https://api.mobygames.com/v1/games/121649/platforms/86', 'https://api.mobygames.com/v1/games/121650/platforms/86', 'https://api.mobygames.com/v1/games/121651/platforms/86', 'https://api.mobygames.com/v1/games/121652/platforms/86', 'https://api.mobygames.com/v1/games/121655/platforms/91', 'https://api.mobygames.com/v1/games/121681/platforms/228', 'https://api.mobygames.com/v1/games/122022/platforms/203', 'https://api.mobygames.com/v1/games/122101/platforms/239', 'https://api.mobygames.com/v1/games/122956/platforms/27', 'https://api.mobygames.com/v1/games/123056/platforms/3', 'https://api.mobygames.com/v1/games/123191/platforms/69', 'https://api.mobygames.com/v1/games/123655/platforms/249', 'https://api.mobygames.com/v1/games/124138/platforms/31', 'https://api.mobygames.com/v1/games/124507/platforms/11', 'https://api.mobygames.com/v1/games/124563/platforms/11', 'https://api.mobygames.com/v1/games/124687/platforms/143', 'https://api.mobygames.com/v1/games/125084/platforms/143', 'https://api.mobygames.com/v1/games/126394/platforms/6', 'https://api.mobygames.com/v1/games/127496/platforms/142', 'https://api.mobygames.com/v1/games/127721/platforms/58', 'https://api.mobygames.com/v1/games/127916/platforms/3', 'https://api.mobygames.com/v1/games/128221/platforms/249', 'https://api.mobygames.com/v1/games/128649/platforms/91', 'https://api.mobygames.com/v1/games/128688/platforms/86', 'https://api.mobygames.com/v1/games/128881/platforms/3', 'https://api.mobygames.com/v1/games/128886/platforms/91', 'https://api.mobygames.com/v1/games/129179/platforms/203', 'https://api.mobygames.com/v1/games/129276/platforms/31', 'https://api.mobygames.com/v1/games/129294/platforms/3', 'https://api.mobygames.com/v1/games/129814/platforms/3', 'https://api.mobygames.com/v1/games/129815/platforms/3', 'https://api.mobygames.com/v1/games/129816/platforms/3', 'https://api.mobygames.com/v1/games/129820/platforms/3', 'https://api.mobygames.com/v1/games/129821/platforms/203', 'https://api.mobygames.com/v1/games/130195/platforms/91', 'https://api.mobygames.com/v1/games/130203/platforms/91', 'https://api.mobygames.com/v1/games/131355/platforms/86', 'https://api.mobygames.com/v1/games/131522/platforms/3', 'https://api.mobygames.com/v1/games/131523/platforms/3', 'https://api.mobygames.com/v1/games/133319/platforms/143', 'https://api.mobygames.com/v1/games/133873/platforms/7', 'https://api.mobygames.com/v1/games/134262/platforms/3', 'https://api.mobygames.com/v1/games/134439/platforms/143', 'https://api.mobygames.com/v1/games/134441/platforms/143', 'https://api.mobygames.com/v1/games/134573/platforms/3', 'https://api.mobygames.com/v1/games/134624/platforms/3', 'https://api.mobygames.com/v1/games/136146/platforms/240', 'https://api.mobygames.com/v1/games/136196/platforms/3', 'https://api.mobygames.com/v1/games/136235/platforms/245', 'https://api.mobygames.com/v1/games/136313/platforms/131', 'https://api.mobygames.com/v1/games/136615/platforms/3', 'https://api.mobygames.com/v1/games/136739/platforms/86', 'https://api.mobygames.com/v1/games/137242/platforms/86', 'https://api.mobygames.com/v1/games/137414/platforms/91', 'https://api.mobygames.com/v1/games/137443/platforms/3', 'https://api.mobygames.com/v1/games/137801/platforms/143', 'https://api.mobygames.com/v1/games/137907/platforms/203', 'https://api.mobygames.com/v1/games/137936/platforms/2', 'https://api.mobygames.com/v1/games/137972/platforms/3', 'https://api.mobygames.com/v1/games/137974/platforms/3', 'https://api.mobygames.com/v1/games/138072/platforms/41', 'https://api.mobygames.com/v1/games/138293/platforms/253', 'https://api.mobygames.com/v1/games/138457/platforms/203', 'https://api.mobygames.com/v1/games/138479/platforms/101', 'https://api.mobygames.com/v1/games/138783/platforms/2', 'https://api.mobygames.com/v1/games/139969/platforms/239', 'https://api.mobygames.com/v1/games/140108/platforms/91', 'https://api.mobygames.com/v1/games/140158/platforms/58', 'https://api.mobygames.com/v1/games/140166/platforms/143', 'https://api.mobygames.com/v1/games/140167/platforms/143', 'https://api.mobygames.com/v1/games/140295/platforms/203', 'https://api.mobygames.com/v1/games/140519/platforms/3', 'https://api.mobygames.com/v1/games/140707/platforms/15', 'https://api.mobygames.com/v1/games/140813/platforms/16', 'https://api.mobygames.com/v1/games/140814/platforms/15', 'https://api.mobygames.com/v1/games/140880/platforms/58', 'https://api.mobygames.com/v1/games/140980/platforms/91', 'https://api.mobygames.com/v1/games/140982/platforms/3', 'https://api.mobygames.com/v1/games/141411/platforms/3', 'https://api.mobygames.com/v1/games/141430/platforms/3', 'https://api.mobygames.com/v1/games/142055/platforms/3', 'https://api.mobygames.com/v1/games/142118/platforms/3', 'https://api.mobygames.com/v1/games/142229/platforms/91', 'https://api.mobygames.com/v1/games/142232/platforms/86', 'https://api.mobygames.com/v1/games/142234/platforms/91', 'https://api.mobygames.com/v1/games/142284/platforms/91', 'https://api.mobygames.com/v1/games/142471/platforms/141', 'https://api.mobygames.com/v1/games/142601/platforms/91', 'https://api.mobygames.com/v1/games/142604/platforms/3', 'https://api.mobygames.com/v1/games/142941/platforms/86', 'https://api.mobygames.com/v1/games/143081/platforms/91', 'https://api.mobygames.com/v1/games/143237/platforms/143', 'https://api.mobygames.com/v1/games/143389/platforms/91', 'https://api.mobygames.com/v1/games/143534/platforms/91', 'https://api.mobygames.com/v1/games/143536/platforms/91', 'https://api.mobygames.com/v1/games/143742/platforms/86', 'https://api.mobygames.com/v1/games/143769/platforms/143', 'https://api.mobygames.com/v1/games/144440/platforms/23', 'https://api.mobygames.com/v1/games/144504/platforms/142', 'https://api.mobygames.com/v1/games/144585/platforms/203', 'https://api.mobygames.com/v1/games/144662/platforms/143', 'https://api.mobygames.com/v1/games/145044/platforms/142', 'https://api.mobygames.com/v1/games/145380/platforms/91', 'https://api.mobygames.com/v1/games/145398/platforms/86', 'https://api.mobygames.com/v1/games/145488/platforms/3', 'https://api.mobygames.com/v1/games/145528/platforms/3', 'https://api.mobygames.com/v1/games/145744/platforms/91', 'https://api.mobygames.com/v1/games/145971/platforms/203', 'https://api.mobygames.com/v1/games/146313/platforms/86', 'https://api.mobygames.com/v1/games/146399/platforms/91', 'https://api.mobygames.com/v1/games/146441/platforms/58', 'https://api.mobygames.com/v1/games/146594/platforms/31', 'https://api.mobygames.com/v1/games/146656/platforms/86', 'https://api.mobygames.com/v1/games/146921/platforms/143', 'https://api.mobygames.com/v1/games/146927/platforms/3', 'https://api.mobygames.com/v1/games/146960/platforms/69', 'https://api.mobygames.com/v1/games/147035/platforms/31', 'https://api.mobygames.com/v1/games/147069/platforms/3', 'https://api.mobygames.com/v1/games/147313/platforms/58', 'https://api.mobygames.com/v1/games/147417/platforms/86', 'https://api.mobygames.com/v1/games/147709/platforms/86', 'https://api.mobygames.com/v1/games/147761/platforms/143', 'https://api.mobygames.com/v1/games/148002/platforms/142', 'https://api.mobygames.com/v1/games/148060/platforms/143', 'https://api.mobygames.com/v1/games/148833/platforms/91', 'https://api.mobygames.com/v1/games/149407/platforms/3', 'https://api.mobygames.com/v1/games/150215/platforms/3', 'https://api.mobygames.com/v1/games/150626/platforms/3', 'https://api.mobygames.com/v1/games/150850/platforms/58', 'https://api.mobygames.com/v1/games/150902/platforms/3', 'https://api.mobygames.com/v1/games/151917/platforms/58', 'https://api.mobygames.com/v1/games/151962/platforms/86', 'https://api.mobygames.com/v1/games/151996/platforms/3', 'https://api.mobygames.com/v1/games/152030/platforms/74', 'https://api.mobygames.com/v1/games/153410/platforms/3', 'https://api.mobygames.com/v1/games/153540/platforms/203', 'https://api.mobygames.com/v1/games/154447/platforms/142', 'https://api.mobygames.com/v1/games/155427/platforms/3', 'https://api.mobygames.com/v1/games/156509/platforms/84', 'https://api.mobygames.com/v1/games/157444/platforms/3', 'https://api.mobygames.com/v1/games/158094/platforms/3', 'https://api.mobygames.com/v1/games/158188/platforms/86', 'https://api.mobygames.com/v1/games/158296/platforms/2', 'https://api.mobygames.com/v1/games/158326/platforms/3', 'https://api.mobygames.com/v1/games/160692/platforms/55', 'https://api.mobygames.com/v1/games/160707/platforms/91', 'https://api.mobygames.com/v1/games/160884/platforms/86', 'https://api.mobygames.com/v1/games/161467/platforms/58', 'https://api.mobygames.com/v1/games/161694/platforms/203', 'https://api.mobygames.com/v1/games/161872/platforms/3', 'https://api.mobygames.com/v1/games/161928/platforms/2', 'https://api.mobygames.com/v1/games/162065/platforms/58', 'https://api.mobygames.com/v1/games/162445/platforms/58', 'https://api.mobygames.com/v1/games/162513/platforms/3', 'https://api.mobygames.com/v1/games/162642/platforms/58', 'https://api.mobygames.com/v1/games/162674/platforms/6', 'https://api.mobygames.com/v1/games/162871/platforms/2', 'https://api.mobygames.com/v1/games/163219/platforms/58', 'https://api.mobygames.com/v1/games/163427/platforms/86', 'https://api.mobygames.com/v1/games/163598/platforms/58', 'https://api.mobygames.com/v1/games/163787/platforms/86', 'https://api.mobygames.com/v1/games/164593/platforms/141', 'https://api.mobygames.com/v1/games/164811/platforms/86', 'https://api.mobygames.com/v1/games/165315/platforms/58', 'https://api.mobygames.com/v1/games/165330/platforms/58', 'https://api.mobygames.com/v1/games/165644/platforms/58', 'https://api.mobygames.com/v1/games/165973/platforms/77', 'https://api.mobygames.com/v1/games/166077/platforms/77', 'https://api.mobygames.com/v1/games/166170/platforms/77', 'https://api.mobygames.com/v1/games/166174/platforms/77', 'https://api.mobygames.com/v1/games/166238/platforms/77', 'https://api.mobygames.com/v1/games/166274/platforms/86', 'https://api.mobygames.com/v1/games/166299/platforms/77', 'https://api.mobygames.com/v1/games/166315/platforms/77', 'https://api.mobygames.com/v1/games/166480/platforms/3', 'https://api.mobygames.com/v1/games/166570/platforms/3', 'https://api.mobygames.com/v1/games/166968/platforms/91', 'https://api.mobygames.com/v1/games/167008/platforms/77', 'https://api.mobygames.com/v1/games/167026/platforms/77', 'https://api.mobygames.com/v1/games/167066/platforms/77', 'https://api.mobygames.com/v1/games/167303/platforms/77', 'https://api.mobygames.com/v1/games/167449/platforms/3', 'https://api.mobygames.com/v1/games/167454/platforms/86', 'https://api.mobygames.com/v1/games/167634/platforms/25', 'https://api.mobygames.com/v1/games/167939/platforms/2', 'https://api.mobygames.com/v1/games/168010/platforms/234', 'https://api.mobygames.com/v1/games/168012/platforms/234', 'https://api.mobygames.com/v1/games/168092/platforms/91', 'https://api.mobygames.com/v1/games/168136/platforms/86', 'https://api.mobygames.com/v1/games/168189/platforms/91', 'https://api.mobygames.com/v1/games/168757/platforms/3', 'https://api.mobygames.com/v1/games/168947/platforms/86', 'https://api.mobygames.com/v1/games/169178/platforms/3', 'https://api.mobygames.com/v1/games/169649/platforms/3', 'https://api.mobygames.com/v1/games/169652/platforms/86', 'https://api.mobygames.com/v1/games/170882/platforms/3', 'https://api.mobygames.com/v1/games/171184/platforms/208', 'https://api.mobygames.com/v1/games/171185/platforms/208', 'https://api.mobygames.com/v1/games/171219/platforms/3', 'https://api.mobygames.com/v1/games/171352/platforms/3', 'https://api.mobygames.com/v1/games/171407/platforms/208', 'https://api.mobygames.com/v1/games/171826/platforms/301', 'https://api.mobygames.com/v1/games/173715/platforms/11', 'https://api.mobygames.com/v1/games/175740/platforms/203', 'https://api.mobygames.com/v1/games/175746/platforms/142', 'https://api.mobygames.com/v1/games/175750/platforms/86', 'https://api.mobygames.com/v1/games/176043/platforms/3']\n"
     ]
    }
   ],
   "source": [
    "print(url_list)"
   ]
  },
  {
   "cell_type": "code",
   "execution_count": null,
   "id": "dc0750ab",
   "metadata": {},
   "outputs": [],
   "source": [
    "# NEXT STEP - PUMP THIS LIST ABOVE THROUGH A LOOP FOR SCRAPING"
   ]
  },
  {
   "cell_type": "code",
   "execution_count": null,
   "id": "bdc39144",
   "metadata": {},
   "outputs": [],
   "source": [
    "# while True:\n",
    "#         base_url = 'https://api.mobygames.com/v1/'\n",
    "#         endpoint_var = 'games'\n",
    "#         api_key = open(\"../data/mobygames_api_key.txt\")\n",
    "#         endpoint= base_url + endpoint_var\n",
    "#         parameters = {\"format\":\"normal\", \n",
    "#                   \"api_key\": api_key, \n",
    "#                   \"game_id\":5,\n",
    "#                   \"offset\":y}\n",
    "#         response = requests.get(endpoint, params=parameters)\n",
    "#         print(response)\n",
    "#         res = response.json()\n",
    "#         print(len(res[\"games\"]))\n",
    "#         if len(res[\"games\"]) > 0:\n",
    "#             res[\"games\"+str(x)] = res[\"games\"]\n",
    "#             del res[\"games\"]\n",
    "#             data = {**data, **res}\n",
    "#             y+=100\n",
    "#             x+=1\n",
    "#             sleep(10.1)\n",
    "#         else:\n",
    "#             break"
   ]
  }
 ],
 "metadata": {
  "kernelspec": {
   "display_name": "Python 3",
   "language": "python",
   "name": "python3"
  },
  "language_info": {
   "codemirror_mode": {
    "name": "ipython",
    "version": 3
   },
   "file_extension": ".py",
   "mimetype": "text/x-python",
   "name": "python",
   "nbconvert_exporter": "python",
   "pygments_lexer": "ipython3",
   "version": "3.8.8"
  }
 },
 "nbformat": 4,
 "nbformat_minor": 5
}
