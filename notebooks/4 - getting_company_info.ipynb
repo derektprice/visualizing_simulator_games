{
 "cells": [
  {
   "cell_type": "code",
   "execution_count": 1,
   "id": "6ec49c58",
   "metadata": {},
   "outputs": [],
   "source": [
    "import requests\n",
    "from bs4 import BeautifulSoup\n",
    "from time import sleep\n",
    "import pandas as pd\n",
    "import json\n",
    "import pickle"
   ]
  },
  {
   "cell_type": "code",
   "execution_count": 2,
   "id": "b1a4b945",
   "metadata": {},
   "outputs": [],
   "source": [
    "df = pd.read_csv(\"../data/genre_158_only1releaseYear_NoGenre_11Dec21.csv\")"
   ]
  },
  {
   "cell_type": "code",
   "execution_count": 3,
   "id": "4b2cc917",
   "metadata": {
    "collapsed": true
   },
   "outputs": [
    {
     "data": {
      "text/html": [
       "<div>\n",
       "<style scoped>\n",
       "    .dataframe tbody tr th:only-of-type {\n",
       "        vertical-align: middle;\n",
       "    }\n",
       "\n",
       "    .dataframe tbody tr th {\n",
       "        vertical-align: top;\n",
       "    }\n",
       "\n",
       "    .dataframe thead th {\n",
       "        text-align: right;\n",
       "    }\n",
       "</style>\n",
       "<table border=\"1\" class=\"dataframe\">\n",
       "  <thead>\n",
       "    <tr style=\"text-align: right;\">\n",
       "      <th></th>\n",
       "      <th>index</th>\n",
       "      <th>title</th>\n",
       "      <th>game_id</th>\n",
       "      <th>description</th>\n",
       "      <th>moby_url</th>\n",
       "      <th>release_date1</th>\n",
       "      <th>release_date1_year</th>\n",
       "      <th>platform_id1</th>\n",
       "      <th>platform_name1</th>\n",
       "    </tr>\n",
       "  </thead>\n",
       "  <tbody>\n",
       "    <tr>\n",
       "      <th>0</th>\n",
       "      <td>0</td>\n",
       "      <td>Indianapolis 500: The Simulation</td>\n",
       "      <td>5</td>\n",
       "      <td>The famous Indianapolis 500 Mile race, held an...</td>\n",
       "      <td>http://www.mobygames.com/game/indianapolis-500...</td>\n",
       "      <td>01-12-89</td>\n",
       "      <td>1989</td>\n",
       "      <td>2</td>\n",
       "      <td>DOS</td>\n",
       "    </tr>\n",
       "    <tr>\n",
       "      <th>1</th>\n",
       "      <td>1</td>\n",
       "      <td>Test Drive</td>\n",
       "      <td>107</td>\n",
       "      <td>This mix of racing simulation and arcade game ...</td>\n",
       "      <td>http://www.mobygames.com/game/test-drive</td>\n",
       "      <td>01-01-87</td>\n",
       "      <td>1987</td>\n",
       "      <td>2</td>\n",
       "      <td>DOS</td>\n",
       "    </tr>\n",
       "    <tr>\n",
       "      <th>2</th>\n",
       "      <td>2</td>\n",
       "      <td>Moto Racer</td>\n",
       "      <td>127</td>\n",
       "      <td>An arcade motorcycle racer in which both super...</td>\n",
       "      <td>http://www.mobygames.com/game/moto-racer</td>\n",
       "      <td>01-01-97</td>\n",
       "      <td>1997</td>\n",
       "      <td>3</td>\n",
       "      <td>Windows</td>\n",
       "    </tr>\n",
       "    <tr>\n",
       "      <th>3</th>\n",
       "      <td>3</td>\n",
       "      <td>Test Drive III: The Passion</td>\n",
       "      <td>158</td>\n",
       "      <td>Drive exotic cars while fleeing police in this...</td>\n",
       "      <td>http://www.mobygames.com/game/test-drive-iii-t...</td>\n",
       "      <td>01-01-90</td>\n",
       "      <td>1990</td>\n",
       "      <td>2</td>\n",
       "      <td>DOS</td>\n",
       "    </tr>\n",
       "    <tr>\n",
       "      <th>4</th>\n",
       "      <td>4</td>\n",
       "      <td>Star Wars: Episode I - Racer</td>\n",
       "      <td>276</td>\n",
       "      <td>Based upon the Pod Racing scenes of Star Wars:...</td>\n",
       "      <td>http://www.mobygames.com/game/star-wars-episod...</td>\n",
       "      <td>01-01-99</td>\n",
       "      <td>1999</td>\n",
       "      <td>3</td>\n",
       "      <td>Windows</td>\n",
       "    </tr>\n",
       "    <tr>\n",
       "      <th>...</th>\n",
       "      <td>...</td>\n",
       "      <td>...</td>\n",
       "      <td>...</td>\n",
       "      <td>...</td>\n",
       "      <td>...</td>\n",
       "      <td>...</td>\n",
       "      <td>...</td>\n",
       "      <td>...</td>\n",
       "      <td>...</td>\n",
       "    </tr>\n",
       "    <tr>\n",
       "      <th>1245</th>\n",
       "      <td>1245</td>\n",
       "      <td>NASCAR Challenge</td>\n",
       "      <td>173715</td>\n",
       "      <td>NaN</td>\n",
       "      <td>http://www.mobygames.com/game/nascar-challenge</td>\n",
       "      <td>01-01-99</td>\n",
       "      <td>1999</td>\n",
       "      <td>11</td>\n",
       "      <td>Game Boy Color</td>\n",
       "    </tr>\n",
       "    <tr>\n",
       "      <th>1246</th>\n",
       "      <td>1246</td>\n",
       "      <td>NASCAR Heat: Ultimate Edition+</td>\n",
       "      <td>175740</td>\n",
       "      <td>NaN</td>\n",
       "      <td>http://www.mobygames.com/game/nascar-heat-ulti...</td>\n",
       "      <td>19-11-21</td>\n",
       "      <td>2021</td>\n",
       "      <td>203</td>\n",
       "      <td>Nintendo Switch</td>\n",
       "    </tr>\n",
       "    <tr>\n",
       "      <th>1247</th>\n",
       "      <td>1247</td>\n",
       "      <td>Farming Simulator 22</td>\n",
       "      <td>175746</td>\n",
       "      <td>NaN</td>\n",
       "      <td>http://www.mobygames.com/game/farming-simulato...</td>\n",
       "      <td>21-11-21</td>\n",
       "      <td>2021</td>\n",
       "      <td>142</td>\n",
       "      <td>Xbox One</td>\n",
       "    </tr>\n",
       "    <tr>\n",
       "      <th>1248</th>\n",
       "      <td>1248</td>\n",
       "      <td>Crash City: Heavy Traffic Drive</td>\n",
       "      <td>175750</td>\n",
       "      <td>NaN</td>\n",
       "      <td>http://www.mobygames.com/game/crash-city-heavy...</td>\n",
       "      <td>07-07-17</td>\n",
       "      <td>2017</td>\n",
       "      <td>86</td>\n",
       "      <td>iPhone</td>\n",
       "    </tr>\n",
       "    <tr>\n",
       "      <th>1249</th>\n",
       "      <td>1249</td>\n",
       "      <td>Coastline Flight Simulator</td>\n",
       "      <td>176043</td>\n",
       "      <td>NaN</td>\n",
       "      <td>http://www.mobygames.com/game/coastline-flight...</td>\n",
       "      <td>07-07-21</td>\n",
       "      <td>2021</td>\n",
       "      <td>3</td>\n",
       "      <td>Windows</td>\n",
       "    </tr>\n",
       "  </tbody>\n",
       "</table>\n",
       "<p>1250 rows × 9 columns</p>\n",
       "</div>"
      ],
      "text/plain": [
       "      index                             title  game_id  \\\n",
       "0         0  Indianapolis 500: The Simulation        5   \n",
       "1         1                        Test Drive      107   \n",
       "2         2                        Moto Racer      127   \n",
       "3         3       Test Drive III: The Passion      158   \n",
       "4         4      Star Wars: Episode I - Racer      276   \n",
       "...     ...                               ...      ...   \n",
       "1245   1245                  NASCAR Challenge   173715   \n",
       "1246   1246    NASCAR Heat: Ultimate Edition+   175740   \n",
       "1247   1247              Farming Simulator 22   175746   \n",
       "1248   1248   Crash City: Heavy Traffic Drive   175750   \n",
       "1249   1249        Coastline Flight Simulator   176043   \n",
       "\n",
       "                                            description  \\\n",
       "0     The famous Indianapolis 500 Mile race, held an...   \n",
       "1     This mix of racing simulation and arcade game ...   \n",
       "2     An arcade motorcycle racer in which both super...   \n",
       "3     Drive exotic cars while fleeing police in this...   \n",
       "4     Based upon the Pod Racing scenes of Star Wars:...   \n",
       "...                                                 ...   \n",
       "1245                                                NaN   \n",
       "1246                                                NaN   \n",
       "1247                                                NaN   \n",
       "1248                                                NaN   \n",
       "1249                                                NaN   \n",
       "\n",
       "                                               moby_url release_date1  \\\n",
       "0     http://www.mobygames.com/game/indianapolis-500...      01-12-89   \n",
       "1              http://www.mobygames.com/game/test-drive      01-01-87   \n",
       "2              http://www.mobygames.com/game/moto-racer      01-01-97   \n",
       "3     http://www.mobygames.com/game/test-drive-iii-t...      01-01-90   \n",
       "4     http://www.mobygames.com/game/star-wars-episod...      01-01-99   \n",
       "...                                                 ...           ...   \n",
       "1245     http://www.mobygames.com/game/nascar-challenge      01-01-99   \n",
       "1246  http://www.mobygames.com/game/nascar-heat-ulti...      19-11-21   \n",
       "1247  http://www.mobygames.com/game/farming-simulato...      21-11-21   \n",
       "1248  http://www.mobygames.com/game/crash-city-heavy...      07-07-17   \n",
       "1249  http://www.mobygames.com/game/coastline-flight...      07-07-21   \n",
       "\n",
       "      release_date1_year  platform_id1   platform_name1  \n",
       "0                   1989             2              DOS  \n",
       "1                   1987             2              DOS  \n",
       "2                   1997             3          Windows  \n",
       "3                   1990             2              DOS  \n",
       "4                   1999             3          Windows  \n",
       "...                  ...           ...              ...  \n",
       "1245                1999            11   Game Boy Color  \n",
       "1246                2021           203  Nintendo Switch  \n",
       "1247                2021           142         Xbox One  \n",
       "1248                2017            86           iPhone  \n",
       "1249                2021             3          Windows  \n",
       "\n",
       "[1250 rows x 9 columns]"
      ]
     },
     "execution_count": 3,
     "metadata": {},
     "output_type": "execute_result"
    }
   ],
   "source": [
    "df"
   ]
  },
  {
   "cell_type": "markdown",
   "id": "e7bb02e3",
   "metadata": {},
   "source": [
    "### testing and experimentation"
   ]
  },
  {
   "cell_type": "code",
   "execution_count": 30,
   "id": "f2d09fd5",
   "metadata": {},
   "outputs": [],
   "source": [
    "url=\"https://api.mobygames.com/v1/games/276/platforms/3\"\n",
    "api_key = open(\"../data/mobygames_api_key.txt\")\n",
    "parameters = {\"format\":\"normal\", \"api_key\": api_key}"
   ]
  },
  {
   "cell_type": "code",
   "execution_count": 31,
   "id": "cda0d604",
   "metadata": {},
   "outputs": [
    {
     "data": {
      "text/plain": [
       "<Response [200]>"
      ]
     },
     "execution_count": 31,
     "metadata": {},
     "output_type": "execute_result"
    }
   ],
   "source": [
    "response = requests.get(url, params=parameters)\n",
    "response"
   ]
  },
  {
   "cell_type": "code",
   "execution_count": 32,
   "id": "a6bd45eb",
   "metadata": {},
   "outputs": [],
   "source": [
    "res = response.json()"
   ]
  },
  {
   "cell_type": "code",
   "execution_count": 43,
   "id": "b500cd83",
   "metadata": {
    "scrolled": true
   },
   "outputs": [
    {
     "data": {
      "text/plain": [
       "list"
      ]
     },
     "execution_count": 43,
     "metadata": {},
     "output_type": "execute_result"
    }
   ],
   "source": [
    "len(res[\"releases\"])"
   ]
  },
  {
   "cell_type": "code",
   "execution_count": null,
   "id": "c93b328e",
   "metadata": {},
   "outputs": [],
   "source": []
  },
  {
   "cell_type": "code",
   "execution_count": 44,
   "id": "038c3a89",
   "metadata": {
    "scrolled": true
   },
   "outputs": [
    {
     "name": "stdout",
     "output_type": "stream",
     "text": [
      "1999\n",
      "1999-05\n",
      "1999-05-18\n",
      "1999-05-21\n",
      "2018-05-01\n",
      "2018-11-16\n"
     ]
    }
   ],
   "source": [
    "#shows all release dates for a response\n",
    "for item in res[\"releases\"]:\n",
    "    for key, value in item.items():\n",
    "        if key == \"release_date\":\n",
    "            print(value)"
   ]
  },
  {
   "cell_type": "code",
   "execution_count": null,
   "id": "0d863b02",
   "metadata": {},
   "outputs": [],
   "source": [
    "# note: res[\"releases\"] is a list. The list contains dictionaries. \n",
    "# Each dictionary contains info about a release for a particular date, which companies were involved in the release\n",
    "# and which countries it was released in\n",
    "# this is actually a very rich source of info\n",
    "# The list can be of variable length, depending on how many releases there were\n",
    "# I am choosing the first item in this list always, as it seems to often be the first release, period.\n",
    "# however, there is a lot one could do with all of the different releases - could look to see which countries appear\n",
    "# most often across all releases, regardless of time\n",
    "# or you could see if there is correlation between certain countries and certain time periods\n",
    "# I lack the time for such analysis, but wanted to make a note"
   ]
  },
  {
   "cell_type": "markdown",
   "id": "e13ea8e0",
   "metadata": {},
   "source": [
    "### creating the loop for scraping"
   ]
  },
  {
   "cell_type": "code",
   "execution_count": 25,
   "id": "70a7649b",
   "metadata": {},
   "outputs": [],
   "source": [
    "# DO HERE: TURN COLUMNS BACK INTO LISTS\n",
    "# ZIP THEM TOGETHER - https://www.delftstack.com/howto/python/how-to-loop-through-multiple-lists-in-python/\n",
    "#pandas stuff - to replace the 2 below\n",
    "game_id_list = df[\"game_id\"].tolist()\n",
    "platform_id_list = df[\"platform_id1\"].tolist()\n",
    "# game_id_list = [5, 107]\n",
    "# platform_id_list = [2,2]\n",
    "\n",
    "\n",
    "url_list = []\n",
    "results_list = []"
   ]
  },
  {
   "cell_type": "code",
   "execution_count": 26,
   "id": "6679dd9c",
   "metadata": {},
   "outputs": [],
   "source": [
    "# lists containing game ids and platform ids for the loop, and list of final urls to submit\n",
    "for a,b in zip(game_id_list, platform_id_list):\n",
    "    url_list.append(\"https://api.mobygames.com/v1/games/\" + str(a) + \"/platforms/\" + str(b))"
   ]
  },
  {
   "cell_type": "code",
   "execution_count": 28,
   "id": "9175d89e",
   "metadata": {
    "scrolled": true
   },
   "outputs": [
    {
     "name": "stdout",
     "output_type": "stream",
     "text": [
      "1250\n"
     ]
    }
   ],
   "source": [
    "print(len(url_list))\n",
    "# print(url_list)"
   ]
  },
  {
   "cell_type": "code",
   "execution_count": 62,
   "id": "f5492bff",
   "metadata": {},
   "outputs": [],
   "source": [
    "results_list = []"
   ]
  },
  {
   "cell_type": "code",
   "execution_count": 66,
   "id": "dc0750ab",
   "metadata": {
    "scrolled": true
   },
   "outputs": [
    {
     "name": "stdout",
     "output_type": "stream",
     "text": [
      "<Response [200]>\n",
      "<Response [200]>\n",
      "<Response [200]>\n",
      "<Response [200]>\n",
      "<Response [200]>\n",
      "<Response [200]>\n",
      "<Response [200]>\n",
      "<Response [200]>\n",
      "<Response [200]>\n",
      "<Response [200]>\n",
      "<Response [200]>\n",
      "<Response [200]>\n",
      "<Response [200]>\n",
      "<Response [200]>\n",
      "<Response [200]>\n",
      "<Response [200]>\n",
      "<Response [200]>\n",
      "<Response [200]>\n",
      "<Response [200]>\n",
      "<Response [200]>\n",
      "<Response [200]>\n",
      "<Response [200]>\n",
      "<Response [200]>\n",
      "<Response [200]>\n",
      "<Response [200]>\n",
      "<Response [200]>\n",
      "<Response [200]>\n",
      "<Response [200]>\n",
      "<Response [200]>\n",
      "<Response [200]>\n",
      "<Response [200]>\n",
      "<Response [200]>\n",
      "<Response [200]>\n",
      "<Response [200]>\n",
      "<Response [200]>\n",
      "<Response [200]>\n",
      "<Response [200]>\n",
      "<Response [200]>\n",
      "<Response [200]>\n",
      "<Response [200]>\n",
      "<Response [200]>\n",
      "<Response [200]>\n",
      "<Response [200]>\n",
      "<Response [200]>\n",
      "<Response [200]>\n",
      "<Response [200]>\n",
      "<Response [200]>\n",
      "<Response [200]>\n",
      "<Response [200]>\n",
      "<Response [200]>\n",
      "<Response [200]>\n",
      "<Response [200]>\n",
      "<Response [200]>\n",
      "<Response [200]>\n",
      "<Response [200]>\n",
      "<Response [200]>\n",
      "<Response [200]>\n",
      "<Response [200]>\n",
      "<Response [200]>\n",
      "<Response [200]>\n",
      "<Response [200]>\n",
      "<Response [200]>\n",
      "<Response [200]>\n",
      "<Response [200]>\n",
      "<Response [200]>\n",
      "<Response [200]>\n",
      "<Response [200]>\n",
      "<Response [200]>\n",
      "<Response [200]>\n",
      "<Response [200]>\n",
      "<Response [200]>\n",
      "<Response [200]>\n",
      "<Response [200]>\n",
      "<Response [200]>\n",
      "<Response [200]>\n",
      "<Response [200]>\n",
      "<Response [200]>\n",
      "<Response [200]>\n",
      "<Response [200]>\n",
      "<Response [200]>\n",
      "<Response [200]>\n",
      "<Response [200]>\n",
      "<Response [200]>\n",
      "<Response [200]>\n",
      "<Response [200]>\n",
      "<Response [200]>\n",
      "<Response [200]>\n",
      "<Response [200]>\n",
      "<Response [200]>\n",
      "<Response [200]>\n",
      "<Response [200]>\n",
      "<Response [200]>\n",
      "<Response [200]>\n",
      "<Response [200]>\n",
      "<Response [200]>\n",
      "<Response [200]>\n",
      "<Response [200]>\n",
      "<Response [200]>\n",
      "<Response [200]>\n",
      "<Response [200]>\n",
      "<Response [200]>\n",
      "<Response [200]>\n",
      "<Response [200]>\n",
      "<Response [200]>\n",
      "<Response [200]>\n",
      "<Response [200]>\n",
      "<Response [200]>\n",
      "<Response [200]>\n",
      "<Response [200]>\n",
      "<Response [200]>\n",
      "<Response [200]>\n",
      "<Response [200]>\n",
      "<Response [200]>\n",
      "<Response [200]>\n",
      "<Response [200]>\n",
      "<Response [200]>\n",
      "<Response [200]>\n",
      "<Response [200]>\n",
      "<Response [200]>\n",
      "<Response [200]>\n",
      "<Response [200]>\n",
      "<Response [200]>\n",
      "<Response [200]>\n",
      "<Response [200]>\n",
      "<Response [200]>\n",
      "<Response [200]>\n",
      "<Response [200]>\n",
      "<Response [200]>\n",
      "<Response [200]>\n",
      "<Response [200]>\n",
      "<Response [200]>\n"
     ]
    }
   ],
   "source": [
    "# NEXT STEP - PUMP THIS LIST ABOVE THROUGH A LOOP FOR SCRAPING\n",
    "for url in unfinished_url_list:\n",
    "    api_key = open(\"../data/mobygames_api_key.txt\")\n",
    "    parameters = {\"format\":\"normal\", \n",
    "                  \"api_key\": api_key}\n",
    "    response = requests.get(url, params=parameters)\n",
    "    print(response)\n",
    "    res = response.json()\n",
    "    results_list.append(res)\n",
    "    sleep(10.03)"
   ]
  },
  {
   "cell_type": "code",
   "execution_count": 68,
   "id": "3dbb89d3",
   "metadata": {},
   "outputs": [
    {
     "data": {
      "text/plain": [
       "{'attributes': [{'attribute_category_id': 6,\n",
       "   'attribute_category_name': 'Input Devices Supported',\n",
       "   'attribute_id': 23,\n",
       "   'attribute_name': 'Keyboard'},\n",
       "  {'attribute_category_id': 6,\n",
       "   'attribute_category_name': 'Input Devices Supported',\n",
       "   'attribute_id': 24,\n",
       "   'attribute_name': 'Mouse'},\n",
       "  {'attribute_category_id': 6,\n",
       "   'attribute_category_name': 'Input Devices Supported',\n",
       "   'attribute_id': 2371,\n",
       "   'attribute_name': 'Gamepad'},\n",
       "  {'attribute_category_id': 10,\n",
       "   'attribute_category_name': 'Minimum OS Class Required',\n",
       "   'attribute_id': 2422,\n",
       "   'attribute_name': 'Windows 10'},\n",
       "  {'attribute_category_id': 15,\n",
       "   'attribute_category_name': 'Minimum RAM Required',\n",
       "   'attribute_id': 2209,\n",
       "   'attribute_name': '8 GB'},\n",
       "  {'attribute_category_id': 16,\n",
       "   'attribute_category_name': 'Business Model',\n",
       "   'attribute_id': 124,\n",
       "   'attribute_name': 'Commercial'},\n",
       "  {'attribute_category_id': 21,\n",
       "   'attribute_category_name': 'Media Type',\n",
       "   'attribute_id': 524,\n",
       "   'attribute_name': 'Download'},\n",
       "  {'attribute_category_id': 40,\n",
       "   'attribute_category_name': 'Number of Offline Players',\n",
       "   'attribute_id': 489,\n",
       "   'attribute_name': '1 Player'},\n",
       "  {'attribute_category_id': 69,\n",
       "   'attribute_category_name': 'Supported Systems/Models',\n",
       "   'attribute_id': 2274,\n",
       "   'attribute_name': 'x64 (64-bit)'},\n",
       "  {'attribute_category_id': 104,\n",
       "   'attribute_category_name': 'Steam',\n",
       "   'attribute_id': 2079,\n",
       "   'attribute_name': 'Achievements'}],\n",
       " 'first_release_date': '2021-07-07',\n",
       " 'game_id': 176043,\n",
       " 'patches': [],\n",
       " 'platform_id': 3,\n",
       " 'platform_name': 'Windows',\n",
       " 'ratings': [],\n",
       " 'releases': [{'companies': [{'company_id': 126,\n",
       "     'company_name': 'Valve Corporation',\n",
       "     'role': 'Distributed by'},\n",
       "    {'company_id': 12975,\n",
       "     'company_name': 'Caipirinha Games GmbH',\n",
       "     'role': 'Developed by'},\n",
       "    {'company_id': 12975,\n",
       "     'company_name': 'Caipirinha Games GmbH',\n",
       "     'role': 'Published by'},\n",
       "    {'company_id': 20551,\n",
       "     'company_name': 'Unity Technologies, Inc.',\n",
       "     'role': 'Game Engine by'},\n",
       "    {'company_id': 47675,\n",
       "     'company_name': 'Federal Ministry of Transport and Digital Infrastructure',\n",
       "     'role': 'Funded by'}],\n",
       "   'countries': ['Worldwide'],\n",
       "   'description': 'Steam release',\n",
       "   'product_codes': [],\n",
       "   'release_date': '2021-07-07'}]}"
      ]
     },
     "execution_count": 68,
     "metadata": {},
     "output_type": "execute_result"
    }
   ],
   "source": [
    "results_list[-1]"
   ]
  },
  {
   "cell_type": "markdown",
   "id": "4768445f",
   "metadata": {},
   "source": [
    "# WHEN YOU RETURN, RUN CELL BELOW THIS!!\n"
   ]
  },
  {
   "cell_type": "code",
   "execution_count": 69,
   "id": "d159223f",
   "metadata": {},
   "outputs": [],
   "source": [
    "f = open(\"../data/platform_1119_to_end.pkl\",\"wb\")\n",
    "pickle.dump(results_list,f)\n",
    "f.close()"
   ]
  },
  {
   "cell_type": "code",
   "execution_count": 60,
   "id": "d5ce67fd",
   "metadata": {},
   "outputs": [
    {
     "data": {
      "text/plain": [
       "{'attributes': [],\n",
       " 'first_release_date': '1981',\n",
       " 'game_id': 140880,\n",
       " 'patches': [],\n",
       " 'platform_id': 58,\n",
       " 'platform_name': 'TRS-80',\n",
       " 'ratings': [],\n",
       " 'releases': [{'companies': [{'company_id': 2067,\n",
       "     'company_name': 'Instant Software, Inc.',\n",
       "     'role': 'Published by'}],\n",
       "   'countries': ['United States'],\n",
       "   'description': None,\n",
       "   'product_codes': [],\n",
       "   'release_date': '1981'}]}"
      ]
     },
     "execution_count": 60,
     "metadata": {},
     "output_type": "execute_result"
    }
   ],
   "source": [
    "#the final one that got through\n",
    "results_list[-1]"
   ]
  },
  {
   "cell_type": "code",
   "execution_count": 39,
   "id": "22288c90",
   "metadata": {},
   "outputs": [
    {
     "data": {
      "text/plain": [
       "'https://api.mobygames.com/v1/games/91307/platforms/3'"
      ]
     },
     "execution_count": 39,
     "metadata": {},
     "output_type": "execute_result"
    }
   ],
   "source": [
    "url_list[874]"
   ]
  },
  {
   "cell_type": "code",
   "execution_count": 53,
   "id": "db4be344",
   "metadata": {},
   "outputs": [],
   "source": [
    "unfinished_url_list = unfinished_url_list[244:]"
   ]
  },
  {
   "cell_type": "code",
   "execution_count": 64,
   "id": "c8fe8ded",
   "metadata": {
    "scrolled": true
   },
   "outputs": [
    {
     "data": {
      "text/plain": [
       "['https://api.mobygames.com/v1/games/140980/platforms/91',\n",
       " 'https://api.mobygames.com/v1/games/140982/platforms/3',\n",
       " 'https://api.mobygames.com/v1/games/141411/platforms/3',\n",
       " 'https://api.mobygames.com/v1/games/141430/platforms/3',\n",
       " 'https://api.mobygames.com/v1/games/142055/platforms/3']"
      ]
     },
     "execution_count": 64,
     "metadata": {},
     "output_type": "execute_result"
    }
   ],
   "source": [
    "unfinished_url_list[0:5]"
   ]
  },
  {
   "cell_type": "markdown",
   "id": "c60987dd",
   "metadata": {},
   "source": [
    "### Next step: actually extra info you want from the local files"
   ]
  },
  {
   "cell_type": "code",
   "execution_count": null,
   "id": "90a06c2d",
   "metadata": {},
   "outputs": [],
   "source": [
    "# starting point - you will have to adjust\n",
    "# LOAD LOCAL FILES, ADD THEM TOGETHER INTO ONE LIST\n",
    "\n",
    "\n",
    "#shows all release dates for a response\n",
    "for item in res[\"releases\"]:\n",
    "    for key, value in item.items():\n",
    "        if key == \"release_date\":\n",
    "            print(value)"
   ]
  }
 ],
 "metadata": {
  "kernelspec": {
   "display_name": "Python 3",
   "language": "python",
   "name": "python3"
  },
  "language_info": {
   "codemirror_mode": {
    "name": "ipython",
    "version": 3
   },
   "file_extension": ".py",
   "mimetype": "text/x-python",
   "name": "python",
   "nbconvert_exporter": "python",
   "pygments_lexer": "ipython3",
   "version": "3.8.8"
  }
 },
 "nbformat": 4,
 "nbformat_minor": 5
}
