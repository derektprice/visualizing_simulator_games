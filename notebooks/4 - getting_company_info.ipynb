{
 "cells": [
  {
   "cell_type": "code",
   "execution_count": null,
   "id": "6ec49c58",
   "metadata": {},
   "outputs": [],
   "source": [
    "import requests\n",
    "from bs4 import BeautifulSoup\n",
    "from time import sleep\n",
    "import pandas as pd\n",
    "import json\n",
    "import pickle"
   ]
  },
  {
   "cell_type": "code",
   "execution_count": null,
   "id": "b1a4b945",
   "metadata": {},
   "outputs": [],
   "source": [
    "df = pd.read_csv(\"../data/genre_158_only1releaseYear_NoGenre_11Dec21.csv\")"
   ]
  },
  {
   "cell_type": "code",
   "execution_count": null,
   "id": "4b2cc917",
   "metadata": {},
   "outputs": [],
   "source": [
    "df"
   ]
  },
  {
   "cell_type": "markdown",
   "id": "e7bb02e3",
   "metadata": {},
   "source": [
    "### testing and experimentation"
   ]
  },
  {
   "cell_type": "code",
   "execution_count": null,
   "id": "f2d09fd5",
   "metadata": {},
   "outputs": [],
   "source": [
    "url=\"https://api.mobygames.com/v1/games/276/platforms/3\"\n",
    "api_key = open(\"../data/mobygames_api_key.txt\")\n",
    "parameters = {\"format\":\"normal\", \"api_key\": api_key}"
   ]
  },
  {
   "cell_type": "code",
   "execution_count": null,
   "id": "cda0d604",
   "metadata": {},
   "outputs": [],
   "source": [
    "response = requests.get(url, params=parameters)\n",
    "response"
   ]
  },
  {
   "cell_type": "code",
   "execution_count": null,
   "id": "a6bd45eb",
   "metadata": {},
   "outputs": [],
   "source": [
    "res = response.json()"
   ]
  },
  {
   "cell_type": "code",
   "execution_count": null,
   "id": "b500cd83",
   "metadata": {
    "scrolled": true
   },
   "outputs": [],
   "source": [
    "len(res[\"releases\"])"
   ]
  },
  {
   "cell_type": "code",
   "execution_count": null,
   "id": "c93b328e",
   "metadata": {},
   "outputs": [],
   "source": []
  },
  {
   "cell_type": "code",
   "execution_count": null,
   "id": "038c3a89",
   "metadata": {
    "scrolled": true
   },
   "outputs": [],
   "source": [
    "#shows all release dates for a response\n",
    "for item in res[\"releases\"]:\n",
    "    for key, value in item.items():\n",
    "        if key == \"release_date\":\n",
    "            print(value)"
   ]
  },
  {
   "cell_type": "code",
   "execution_count": null,
   "id": "0d863b02",
   "metadata": {},
   "outputs": [],
   "source": [
    "# note: res[\"releases\"] is a list. The list contains dictionaries. \n",
    "# Each dictionary contains info about a release for a particular date, which companies were involved in the release\n",
    "# and which countries it was released in\n",
    "# this is actually a very rich source of info\n",
    "# The list can be of variable length, depending on how many releases there were\n",
    "# I am choosing the first item in this list always, as it seems to often be the first release, period.\n",
    "# however, there is a lot one could do with all of the different releases - could look to see which countries appear\n",
    "# most often across all releases, regardless of time\n",
    "# or you could see if there is correlation between certain countries and certain time periods\n",
    "# I lack the time for such analysis, but wanted to make a note"
   ]
  },
  {
   "cell_type": "markdown",
   "id": "e13ea8e0",
   "metadata": {},
   "source": [
    "### creating the loop for scraping"
   ]
  },
  {
   "cell_type": "code",
   "execution_count": null,
   "id": "70a7649b",
   "metadata": {},
   "outputs": [],
   "source": [
    "# DO HERE: TURN COLUMNS BACK INTO LISTS\n",
    "# ZIP THEM TOGETHER - https://www.delftstack.com/howto/python/how-to-loop-through-multiple-lists-in-python/\n",
    "#pandas stuff - to replace the 2 below\n",
    "game_id_list = df[\"game_id\"].tolist()\n",
    "platform_id_list = df[\"platform_id1\"].tolist()\n",
    "# game_id_list = [5, 107]\n",
    "# platform_id_list = [2,2]\n",
    "\n",
    "\n",
    "url_list = []\n",
    "results_list = []"
   ]
  },
  {
   "cell_type": "code",
   "execution_count": null,
   "id": "6679dd9c",
   "metadata": {},
   "outputs": [],
   "source": [
    "# lists containing game ids and platform ids for the loop, and list of final urls to submit\n",
    "for a,b in zip(game_id_list, platform_id_list):\n",
    "    url_list.append(\"https://api.mobygames.com/v1/games/\" + str(a) + \"/platforms/\" + str(b))"
   ]
  },
  {
   "cell_type": "code",
   "execution_count": null,
   "id": "9175d89e",
   "metadata": {
    "scrolled": true
   },
   "outputs": [],
   "source": [
    "print(len(url_list))\n",
    "# print(url_list)"
   ]
  },
  {
   "cell_type": "code",
   "execution_count": null,
   "id": "f5492bff",
   "metadata": {},
   "outputs": [],
   "source": [
    "results_list = []"
   ]
  },
  {
   "cell_type": "code",
   "execution_count": null,
   "id": "dc0750ab",
   "metadata": {
    "scrolled": true
   },
   "outputs": [],
   "source": [
    "# NEXT STEP - PUMP THIS LIST ABOVE THROUGH A LOOP FOR SCRAPING\n",
    "for url in unfinished_url_list:\n",
    "    api_key = open(\"../data/mobygames_api_key.txt\")\n",
    "    parameters = {\"format\":\"normal\", \n",
    "                  \"api_key\": api_key}\n",
    "    response = requests.get(url, params=parameters)\n",
    "    print(response)\n",
    "    res = response.json()\n",
    "    results_list.append(res)\n",
    "    sleep(10.03)"
   ]
  },
  {
   "cell_type": "code",
   "execution_count": null,
   "id": "3dbb89d3",
   "metadata": {},
   "outputs": [],
   "source": [
    "results_list[-1]"
   ]
  },
  {
   "cell_type": "markdown",
   "id": "4768445f",
   "metadata": {},
   "source": [
    "# WHEN YOU RETURN, RUN CELL BELOW THIS!!\n"
   ]
  },
  {
   "cell_type": "code",
   "execution_count": null,
   "id": "d159223f",
   "metadata": {},
   "outputs": [],
   "source": [
    "f = open(\"../data/platform_1119_to_end.pkl\",\"wb\")\n",
    "pickle.dump(results_list,f)\n",
    "f.close()"
   ]
  },
  {
   "cell_type": "code",
   "execution_count": null,
   "id": "d5ce67fd",
   "metadata": {},
   "outputs": [],
   "source": [
    "#the final one that got through\n",
    "results_list[-1]"
   ]
  },
  {
   "cell_type": "code",
   "execution_count": null,
   "id": "22288c90",
   "metadata": {},
   "outputs": [],
   "source": [
    "url_list[874]"
   ]
  },
  {
   "cell_type": "code",
   "execution_count": null,
   "id": "db4be344",
   "metadata": {},
   "outputs": [],
   "source": [
    "unfinished_url_list = unfinished_url_list[244:]"
   ]
  },
  {
   "cell_type": "code",
   "execution_count": null,
   "id": "c8fe8ded",
   "metadata": {
    "scrolled": true
   },
   "outputs": [],
   "source": [
    "unfinished_url_list[0:5]"
   ]
  },
  {
   "cell_type": "markdown",
   "id": "c60987dd",
   "metadata": {},
   "source": [
    "### Next step: actually extra info you want from the local files"
   ]
  },
  {
   "cell_type": "code",
   "execution_count": null,
   "id": "90a06c2d",
   "metadata": {},
   "outputs": [],
   "source": [
    "# starting point - you will have to adjust\n",
    "# LOAD LOCAL FILES, ADD THEM TOGETHER INTO ONE LIST\n",
    "\n",
    "\n",
    "#shows all release dates for a response\n",
    "for item in res[\"releases\"]:\n",
    "    for key, value in item.items():\n",
    "        if key == \"release_date\":\n",
    "            print(value)"
   ]
  }
 ],
 "metadata": {
  "kernelspec": {
   "display_name": "Python 3",
   "language": "python",
   "name": "python3"
  },
  "language_info": {
   "codemirror_mode": {
    "name": "ipython",
    "version": 3
   },
   "file_extension": ".py",
   "mimetype": "text/x-python",
   "name": "python",
   "nbconvert_exporter": "python",
   "pygments_lexer": "ipython3",
   "version": "3.8.8"
  }
 },
 "nbformat": 4,
 "nbformat_minor": 5
}
