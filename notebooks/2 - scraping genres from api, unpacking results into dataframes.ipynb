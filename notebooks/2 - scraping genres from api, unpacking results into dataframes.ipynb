{
 "cells": [
  {
   "cell_type": "code",
   "execution_count": 55,
   "id": "4aa21b99",
   "metadata": {},
   "outputs": [],
   "source": [
    "import requests\n",
    "from bs4 import BeautifulSoup\n",
    "from time import sleep\n",
    "import pandas as pd"
   ]
  },
  {
   "cell_type": "code",
   "execution_count": null,
   "id": "113c6dbb",
   "metadata": {},
   "outputs": [],
   "source": [
    "base_url = 'https://api.mobygames.com/v1/'\n",
    "endpoint_var = 'games'\n",
    "api_key = open(\"../data/mobygames_api_key.txt\")\n",
    "endpoint= base_url + endpoint_var"
   ]
  },
  {
   "cell_type": "code",
   "execution_count": null,
   "id": "02d91911",
   "metadata": {},
   "outputs": [],
   "source": [
    "parameters = {\"format\":\"normal\", \n",
    "              \"api_key\": api_key, \n",
    "              \"genre\":158,\n",
    "              \"offset\":99\n",
    "#               \"id\":2\n",
    "             }"
   ]
  },
  {
   "cell_type": "code",
   "execution_count": null,
   "id": "4a87a0f5",
   "metadata": {
    "scrolled": true
   },
   "outputs": [],
   "source": [
    "response = requests.get(endpoint, params=parameters)\n",
    "response"
   ]
  },
  {
   "cell_type": "code",
   "execution_count": null,
   "id": "aa53c8d3",
   "metadata": {},
   "outputs": [],
   "source": [
    "res = response.json()"
   ]
  },
  {
   "cell_type": "code",
   "execution_count": null,
   "id": "1eee0bd5",
   "metadata": {},
   "outputs": [],
   "source": [
    "type(res)"
   ]
  },
  {
   "cell_type": "code",
   "execution_count": null,
   "id": "95995cc0",
   "metadata": {},
   "outputs": [],
   "source": [
    "len(res[\"games\"])"
   ]
  },
  {
   "cell_type": "code",
   "execution_count": null,
   "id": "3871ba8a",
   "metadata": {
    "scrolled": false
   },
   "outputs": [],
   "source": [
    "res[\"games\"][0].keys()"
   ]
  },
  {
   "cell_type": "code",
   "execution_count": null,
   "id": "a8fd4310",
   "metadata": {},
   "outputs": [],
   "source": [
    "print(res[\"games\"][0][\"moby_url\"])"
   ]
  },
  {
   "cell_type": "code",
   "execution_count": null,
   "id": "5b7b1f5d",
   "metadata": {
    "scrolled": true
   },
   "outputs": [],
   "source": [
    "#this returns one of the first release dates from one of the platforms - this is one way to get dates\n",
    "print(res[\"games\"][0][\"platforms\"][0][\"first_release_date\"])\n",
    "print(res[\"games\"][0][\"platforms\"][0][\"platform_id\"])"
   ]
  },
  {
   "cell_type": "code",
   "execution_count": null,
   "id": "ff4ded9f",
   "metadata": {},
   "outputs": [],
   "source": [
    "# this gets to a json file that actually has the companies and their roles \n",
    "# https://api.mobygames.com/v1/games/2/platforms/2?api_key=MYKEY"
   ]
  },
  {
   "cell_type": "markdown",
   "id": "dfe5b04e",
   "metadata": {},
   "source": [
    "### A function for looping through responses of 100, offset by 100, until it hits the end\n",
    "the goal of this funciton is to fill up the data dictionary with a bunch of other response dictionaries that contain all games for the given \"genre\" - in this case, 158, or \"vehicle simulator\""
   ]
  },
  {
   "cell_type": "code",
   "execution_count": 19,
   "id": "66db0757",
   "metadata": {},
   "outputs": [],
   "source": [
    "y=100\n",
    "x=1\n",
    "data = {}"
   ]
  },
  {
   "cell_type": "code",
   "execution_count": 20,
   "id": "cccf3c6f",
   "metadata": {
    "scrolled": true
   },
   "outputs": [
    {
     "name": "stdout",
     "output_type": "stream",
     "text": [
      "<Response [200]>\n",
      "<Response [200]>\n",
      "<Response [200]>\n",
      "<Response [200]>\n",
      "<Response [200]>\n",
      "<Response [200]>\n",
      "<Response [200]>\n",
      "<Response [200]>\n",
      "<Response [200]>\n",
      "<Response [200]>\n",
      "<Response [200]>\n",
      "<Response [200]>\n",
      "<Response [200]>\n"
     ]
    }
   ],
   "source": [
    "# WARNING: THIS DOESN'T BREAK - RESPONSE WILL BE 200 EVEN IF OFFSET IS TOO HIGH, APPARENTLY - \n",
    "# NEED TO CHECK THE RES[\"GAMES\"] DICT TO SEE IF EMPTY, THATS THE WAY TO DO IT - use len like this:\n",
    "# len(data[\"games12\"])\n",
    "\n",
    "while True:\n",
    "        base_url = 'https://api.mobygames.com/v1/'\n",
    "        endpoint_var = 'games'\n",
    "        api_key = open(\"../data/mobygames_api_key.txt\")\n",
    "        endpoint= base_url + endpoint_var\n",
    "        parameters = {\"format\":\"normal\", \n",
    "                  \"api_key\": api_key, \n",
    "                  \"genre\":158,\n",
    "                  \"offset\":y}\n",
    "        response = requests.get(endpoint, params=parameters)\n",
    "        print(response)\n",
    "        res = response.json()\n",
    "        print(len(res[\"games\"]))\n",
    "        if len(res[\"games\"]) > 0:\n",
    "            res[\"games\"+str(x)] = res[\"games\"]\n",
    "            del res[\"games\"]\n",
    "            data = {**data, **res}\n",
    "            y+=100\n",
    "            x+=1\n",
    "            sleep(10.1)\n",
    "        else:\n",
    "            break"
   ]
  },
  {
   "cell_type": "code",
   "execution_count": 21,
   "id": "192f35b9",
   "metadata": {
    "scrolled": true
   },
   "outputs": [
    {
     "data": {
      "text/plain": [
       "12"
      ]
     },
     "execution_count": 21,
     "metadata": {},
     "output_type": "execute_result"
    }
   ],
   "source": [
    "len(data.keys())"
   ]
  },
  {
   "cell_type": "code",
   "execution_count": 27,
   "id": "b924f2ef",
   "metadata": {},
   "outputs": [],
   "source": [
    "import pickle\n",
    "f = open(\"../data/vehicle_simulator_genre_158.pkl\",\"wb\")\n",
    "pickle.dump(data,f)\n",
    "f.close()\n"
   ]
  },
  {
   "cell_type": "code",
   "execution_count": 24,
   "id": "a4fdabf0",
   "metadata": {},
   "outputs": [
    {
     "data": {
      "text/plain": [
       "50"
      ]
     },
     "execution_count": 24,
     "metadata": {},
     "output_type": "execute_result"
    }
   ],
   "source": [
    "len(data[\"games12\"])"
   ]
  },
  {
   "cell_type": "code",
   "execution_count": 26,
   "id": "fa5bbe68",
   "metadata": {},
   "outputs": [
    {
     "data": {
      "text/plain": [
       "dict_keys(['games1', 'games2', 'games3', 'games4', 'games5', 'games6', 'games7', 'games8', 'games9', 'games10', 'games11', 'games12'])"
      ]
     },
     "execution_count": 26,
     "metadata": {},
     "output_type": "execute_result"
    }
   ],
   "source": [
    "data.keys()"
   ]
  },
  {
   "cell_type": "markdown",
   "id": "5031beaf",
   "metadata": {},
   "source": [
    "### create a function that takes the data variable and outputs everything into a dataframe"
   ]
  },
  {
   "cell_type": "code",
   "execution_count": 97,
   "id": "410a135f",
   "metadata": {},
   "outputs": [],
   "source": [
    "vehicle_sim_158 = pd.DataFrame()"
   ]
  },
  {
   "cell_type": "code",
   "execution_count": 108,
   "id": "44c4151e",
   "metadata": {},
   "outputs": [
    {
     "ename": "TypeError",
     "evalue": "cannot concatenate object of type '<class 'str'>'; only Series and DataFrame objs are valid",
     "output_type": "error",
     "traceback": [
      "\u001b[1;31m---------------------------------------------------------------------------\u001b[0m",
      "\u001b[1;31mTypeError\u001b[0m                                 Traceback (most recent call last)",
      "\u001b[1;32m<ipython-input-108-9742dbea86d1>\u001b[0m in \u001b[0;36m<module>\u001b[1;34m\u001b[0m\n\u001b[0;32m      7\u001b[0m                 \u001b[0mprint\u001b[0m\u001b[1;33m(\u001b[0m\u001b[0mtype\u001b[0m\u001b[1;33m(\u001b[0m\u001b[0mvalues\u001b[0m\u001b[1;33m)\u001b[0m\u001b[1;33m)\u001b[0m\u001b[1;33m\u001b[0m\u001b[1;33m\u001b[0m\u001b[0m\n\u001b[0;32m      8\u001b[0m             \u001b[1;32melif\u001b[0m \u001b[0mheaders\u001b[0m \u001b[1;33m==\u001b[0m \u001b[1;34m\"description\"\u001b[0m\u001b[1;33m:\u001b[0m\u001b[1;33m\u001b[0m\u001b[1;33m\u001b[0m\u001b[0m\n\u001b[1;32m----> 9\u001b[1;33m                 \u001b[0mvehicle_sim_158\u001b[0m\u001b[1;33m[\u001b[0m\u001b[1;34m\"description\"\u001b[0m\u001b[1;33m]\u001b[0m\u001b[1;33m.\u001b[0m\u001b[0mappend\u001b[0m\u001b[1;33m(\u001b[0m\u001b[0mvalues\u001b[0m\u001b[1;33m)\u001b[0m\u001b[1;33m\u001b[0m\u001b[1;33m\u001b[0m\u001b[0m\n\u001b[0m\u001b[0;32m     10\u001b[0m             \u001b[1;32melif\u001b[0m \u001b[0mheaders\u001b[0m \u001b[1;33m==\u001b[0m \u001b[1;34m\"title\"\u001b[0m\u001b[1;33m:\u001b[0m\u001b[1;33m\u001b[0m\u001b[1;33m\u001b[0m\u001b[0m\n\u001b[0;32m     11\u001b[0m                 \u001b[0mvehicle_sim_158\u001b[0m\u001b[1;33m[\u001b[0m\u001b[1;34m\"title\"\u001b[0m\u001b[1;33m]\u001b[0m \u001b[1;33m=\u001b[0m \u001b[0mvalues\u001b[0m\u001b[1;33m\u001b[0m\u001b[1;33m\u001b[0m\u001b[0m\n",
      "\u001b[1;32m~\\anaconda3\\lib\\site-packages\\pandas\\core\\series.py\u001b[0m in \u001b[0;36mappend\u001b[1;34m(self, to_append, ignore_index, verify_integrity)\u001b[0m\n\u001b[0;32m   2692\u001b[0m             \u001b[0mmsg\u001b[0m \u001b[1;33m=\u001b[0m \u001b[1;34m\"to_append should be a Series or list/tuple of Series, got DataFrame\"\u001b[0m\u001b[1;33m\u001b[0m\u001b[1;33m\u001b[0m\u001b[0m\n\u001b[0;32m   2693\u001b[0m             \u001b[1;32mraise\u001b[0m \u001b[0mTypeError\u001b[0m\u001b[1;33m(\u001b[0m\u001b[0mmsg\u001b[0m\u001b[1;33m)\u001b[0m\u001b[1;33m\u001b[0m\u001b[1;33m\u001b[0m\u001b[0m\n\u001b[1;32m-> 2694\u001b[1;33m         return concat(\n\u001b[0m\u001b[0;32m   2695\u001b[0m             \u001b[0mto_concat\u001b[0m\u001b[1;33m,\u001b[0m \u001b[0mignore_index\u001b[0m\u001b[1;33m=\u001b[0m\u001b[0mignore_index\u001b[0m\u001b[1;33m,\u001b[0m \u001b[0mverify_integrity\u001b[0m\u001b[1;33m=\u001b[0m\u001b[0mverify_integrity\u001b[0m\u001b[1;33m\u001b[0m\u001b[1;33m\u001b[0m\u001b[0m\n\u001b[0;32m   2696\u001b[0m         )\n",
      "\u001b[1;32m~\\anaconda3\\lib\\site-packages\\pandas\\core\\reshape\\concat.py\u001b[0m in \u001b[0;36mconcat\u001b[1;34m(objs, axis, join, ignore_index, keys, levels, names, verify_integrity, sort, copy)\u001b[0m\n\u001b[0;32m    283\u001b[0m     \u001b[0mValueError\u001b[0m\u001b[1;33m:\u001b[0m \u001b[0mIndexes\u001b[0m \u001b[0mhave\u001b[0m \u001b[0moverlapping\u001b[0m \u001b[0mvalues\u001b[0m\u001b[1;33m:\u001b[0m \u001b[1;33m[\u001b[0m\u001b[1;34m'a'\u001b[0m\u001b[1;33m]\u001b[0m\u001b[1;33m\u001b[0m\u001b[1;33m\u001b[0m\u001b[0m\n\u001b[0;32m    284\u001b[0m     \"\"\"\n\u001b[1;32m--> 285\u001b[1;33m     op = _Concatenator(\n\u001b[0m\u001b[0;32m    286\u001b[0m         \u001b[0mobjs\u001b[0m\u001b[1;33m,\u001b[0m\u001b[1;33m\u001b[0m\u001b[1;33m\u001b[0m\u001b[0m\n\u001b[0;32m    287\u001b[0m         \u001b[0maxis\u001b[0m\u001b[1;33m=\u001b[0m\u001b[0maxis\u001b[0m\u001b[1;33m,\u001b[0m\u001b[1;33m\u001b[0m\u001b[1;33m\u001b[0m\u001b[0m\n",
      "\u001b[1;32m~\\anaconda3\\lib\\site-packages\\pandas\\core\\reshape\\concat.py\u001b[0m in \u001b[0;36m__init__\u001b[1;34m(self, objs, axis, join, keys, levels, names, ignore_index, verify_integrity, copy, sort)\u001b[0m\n\u001b[0;32m    368\u001b[0m                     \u001b[1;34m\"only Series and DataFrame objs are valid\"\u001b[0m\u001b[1;33m\u001b[0m\u001b[1;33m\u001b[0m\u001b[0m\n\u001b[0;32m    369\u001b[0m                 )\n\u001b[1;32m--> 370\u001b[1;33m                 \u001b[1;32mraise\u001b[0m \u001b[0mTypeError\u001b[0m\u001b[1;33m(\u001b[0m\u001b[0mmsg\u001b[0m\u001b[1;33m)\u001b[0m\u001b[1;33m\u001b[0m\u001b[1;33m\u001b[0m\u001b[0m\n\u001b[0m\u001b[0;32m    371\u001b[0m \u001b[1;33m\u001b[0m\u001b[0m\n\u001b[0;32m    372\u001b[0m             \u001b[1;31m# consolidate\u001b[0m\u001b[1;33m\u001b[0m\u001b[1;33m\u001b[0m\u001b[1;33m\u001b[0m\u001b[0m\n",
      "\u001b[1;31mTypeError\u001b[0m: cannot concatenate object of type '<class 'str'>'; only Series and DataFrame objs are valid"
     ]
    }
   ],
   "source": [
    "for key, values_list in data.items():\n",
    "    for vals_dicts in values_list:\n",
    "        for headers, values in vals_dicts.items():\n",
    "            # get first release date, platform id, and platform name\n",
    "            if headers == \"platforms\":\n",
    "#                 print(values[0].keys()) #this has a dict with 'first_release_date', 'platform_id', 'platform_name'\n",
    "                print(type(values))\n",
    "            elif headers == \"description\":\n",
    "                vehicle_sim_158[\"description\"] = values\n",
    "            elif headers == \"title\":\n",
    "                vehicle_sim_158[\"title\"] = values\n",
    "            elif headers == \"moby_url\":\n",
    "                vehicle_sim_158[\"moby_url\"] = values\n",
    "            elif headers == \"game_id\":\n",
    "                vehicle_sim_158[\"game_id\"] = values"
   ]
  },
  {
   "cell_type": "code",
   "execution_count": 106,
   "id": "14a26188",
   "metadata": {},
   "outputs": [
    {
     "data": {
      "text/html": [
       "<div>\n",
       "<style scoped>\n",
       "    .dataframe tbody tr th:only-of-type {\n",
       "        vertical-align: middle;\n",
       "    }\n",
       "\n",
       "    .dataframe tbody tr th {\n",
       "        vertical-align: top;\n",
       "    }\n",
       "\n",
       "    .dataframe thead th {\n",
       "        text-align: right;\n",
       "    }\n",
       "</style>\n",
       "<table border=\"1\" class=\"dataframe\">\n",
       "  <thead>\n",
       "    <tr style=\"text-align: right;\">\n",
       "      <th></th>\n",
       "      <th>description</th>\n",
       "      <th>game_id</th>\n",
       "      <th>moby_url</th>\n",
       "      <th>title</th>\n",
       "    </tr>\n",
       "  </thead>\n",
       "  <tbody>\n",
       "  </tbody>\n",
       "</table>\n",
       "</div>"
      ],
      "text/plain": [
       "Empty DataFrame\n",
       "Columns: [description, game_id, moby_url, title]\n",
       "Index: []"
      ]
     },
     "execution_count": 106,
     "metadata": {},
     "output_type": "execute_result"
    }
   ],
   "source": [
    "vehicle_sim_158"
   ]
  },
  {
   "cell_type": "markdown",
   "id": "6ff6e039",
   "metadata": {},
   "source": [
    "### these are the column headers I want\n",
    "description\n",
    "\n",
    "game_id\n",
    "\n",
    "moby_url\n",
    "\n",
    "official_url\n",
    "\n",
    "platforms\n",
    "\n",
    "sample_cover\n",
    "\n",
    "sample_screenshots\n",
    "\n",
    "title\n"
   ]
  }
 ],
 "metadata": {
  "kernelspec": {
   "display_name": "Python 3",
   "language": "python",
   "name": "python3"
  },
  "language_info": {
   "codemirror_mode": {
    "name": "ipython",
    "version": 3
   },
   "file_extension": ".py",
   "mimetype": "text/x-python",
   "name": "python",
   "nbconvert_exporter": "python",
   "pygments_lexer": "ipython3",
   "version": "3.8.8"
  }
 },
 "nbformat": 4,
 "nbformat_minor": 5
}
