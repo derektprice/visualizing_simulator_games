{
 "cells": [
  {
   "cell_type": "code",
   "execution_count": 10,
   "id": "4aa21b99",
   "metadata": {},
   "outputs": [],
   "source": [
    "import requests\n",
    "from bs4 import BeautifulSoup\n",
    "from time import sleep\n",
    "import pandas as pd\n",
    "import json\n",
    "import pickle"
   ]
  },
  {
   "cell_type": "code",
   "execution_count": null,
   "id": "113c6dbb",
   "metadata": {},
   "outputs": [],
   "source": [
    "base_url = 'https://api.mobygames.com/v1/'\n",
    "endpoint_var = 'games'\n",
    "api_key = open(\"../data/mobygames_api_key.txt\")\n",
    "endpoint= base_url + endpoint_var"
   ]
  },
  {
   "cell_type": "code",
   "execution_count": null,
   "id": "02d91911",
   "metadata": {},
   "outputs": [],
   "source": [
    "parameters = {\"format\":\"normal\", \n",
    "              \"api_key\": api_key, \n",
    "              \"genre\":158,\n",
    "              \"offset\":99\n",
    "#               \"id\":2\n",
    "             }"
   ]
  },
  {
   "cell_type": "code",
   "execution_count": null,
   "id": "4a87a0f5",
   "metadata": {
    "scrolled": true
   },
   "outputs": [],
   "source": [
    "response = requests.get(endpoint, params=parameters)\n",
    "response"
   ]
  },
  {
   "cell_type": "code",
   "execution_count": null,
   "id": "aa53c8d3",
   "metadata": {},
   "outputs": [],
   "source": [
    "res = response.json()"
   ]
  },
  {
   "cell_type": "code",
   "execution_count": null,
   "id": "1eee0bd5",
   "metadata": {},
   "outputs": [],
   "source": [
    "type(res)"
   ]
  },
  {
   "cell_type": "code",
   "execution_count": null,
   "id": "95995cc0",
   "metadata": {},
   "outputs": [],
   "source": [
    "len(res[\"games\"])"
   ]
  },
  {
   "cell_type": "code",
   "execution_count": null,
   "id": "3871ba8a",
   "metadata": {
    "scrolled": false
   },
   "outputs": [],
   "source": [
    "res[\"games\"][0].keys()"
   ]
  },
  {
   "cell_type": "code",
   "execution_count": null,
   "id": "a8fd4310",
   "metadata": {},
   "outputs": [],
   "source": [
    "print(res[\"games\"][0][\"moby_url\"])"
   ]
  },
  {
   "cell_type": "code",
   "execution_count": null,
   "id": "5b7b1f5d",
   "metadata": {
    "scrolled": true
   },
   "outputs": [],
   "source": [
    "#this returns one of the first release dates from one of the platforms - this is one way to get dates\n",
    "print(res[\"games\"][0][\"platforms\"][0][\"first_release_date\"])\n",
    "print(res[\"games\"][0][\"platforms\"][0][\"platform_id\"])"
   ]
  },
  {
   "cell_type": "code",
   "execution_count": null,
   "id": "ff4ded9f",
   "metadata": {},
   "outputs": [],
   "source": [
    "# this gets to a json file that actually has the companies and their roles \n",
    "# https://api.mobygames.com/v1/games/2/platforms/2?api_key=MYKEY"
   ]
  },
  {
   "cell_type": "markdown",
   "id": "dfe5b04e",
   "metadata": {},
   "source": [
    "### A function for looping through responses of 100, offset by 100, until it hits the end\n",
    "the goal of this funciton is to fill up the data dictionary with a bunch of other response dictionaries that contain all games for the given \"genre\" - in this case, 158, or \"vehicle simulator\""
   ]
  },
  {
   "cell_type": "code",
   "execution_count": 19,
   "id": "66db0757",
   "metadata": {},
   "outputs": [],
   "source": [
    "y=100\n",
    "x=1\n",
    "data = {}"
   ]
  },
  {
   "cell_type": "code",
   "execution_count": 20,
   "id": "cccf3c6f",
   "metadata": {
    "scrolled": true
   },
   "outputs": [
    {
     "name": "stdout",
     "output_type": "stream",
     "text": [
      "<Response [200]>\n",
      "<Response [200]>\n",
      "<Response [200]>\n",
      "<Response [200]>\n",
      "<Response [200]>\n",
      "<Response [200]>\n",
      "<Response [200]>\n",
      "<Response [200]>\n",
      "<Response [200]>\n",
      "<Response [200]>\n",
      "<Response [200]>\n",
      "<Response [200]>\n",
      "<Response [200]>\n"
     ]
    }
   ],
   "source": [
    "# WARNING: THIS DOESN'T BREAK - RESPONSE WILL BE 200 EVEN IF OFFSET IS TOO HIGH, APPARENTLY - \n",
    "# NEED TO CHECK THE RES[\"GAMES\"] DICT TO SEE IF EMPTY, THATS THE WAY TO DO IT - use len like this:\n",
    "# len(data[\"games12\"])\n",
    "\n",
    "while True:\n",
    "        base_url = 'https://api.mobygames.com/v1/'\n",
    "        endpoint_var = 'games'\n",
    "        api_key = open(\"../data/mobygames_api_key.txt\")\n",
    "        endpoint= base_url + endpoint_var\n",
    "        parameters = {\"format\":\"normal\", \n",
    "                  \"api_key\": api_key, \n",
    "                  \"genre\":158,\n",
    "                  \"offset\":y}\n",
    "        response = requests.get(endpoint, params=parameters)\n",
    "        print(response)\n",
    "        res = response.json()\n",
    "        print(len(res[\"games\"]))\n",
    "        if len(res[\"games\"]) > 0:\n",
    "            res[\"games\"+str(x)] = res[\"games\"]\n",
    "            del res[\"games\"]\n",
    "            data = {**data, **res}\n",
    "            y+=100\n",
    "            x+=1\n",
    "            sleep(10.1)\n",
    "        else:\n",
    "            break"
   ]
  },
  {
   "cell_type": "code",
   "execution_count": 21,
   "id": "192f35b9",
   "metadata": {
    "scrolled": true
   },
   "outputs": [
    {
     "data": {
      "text/plain": [
       "12"
      ]
     },
     "execution_count": 21,
     "metadata": {},
     "output_type": "execute_result"
    }
   ],
   "source": [
    "len(data.keys())"
   ]
  },
  {
   "cell_type": "code",
   "execution_count": 27,
   "id": "b924f2ef",
   "metadata": {},
   "outputs": [],
   "source": [
    "f = open(\"../data/vehicle_simulator_genre_158.pkl\",\"wb\")\n",
    "pickle.dump(data,f)\n",
    "f.close()\n"
   ]
  },
  {
   "cell_type": "code",
   "execution_count": 24,
   "id": "a4fdabf0",
   "metadata": {},
   "outputs": [
    {
     "data": {
      "text/plain": [
       "50"
      ]
     },
     "execution_count": 24,
     "metadata": {},
     "output_type": "execute_result"
    }
   ],
   "source": [
    "len(data[\"games12\"])"
   ]
  },
  {
   "cell_type": "code",
   "execution_count": 2,
   "id": "fa5bbe68",
   "metadata": {
    "scrolled": true
   },
   "outputs": [
    {
     "ename": "NameError",
     "evalue": "name 'data' is not defined",
     "output_type": "error",
     "traceback": [
      "\u001b[1;31m---------------------------------------------------------------------------\u001b[0m",
      "\u001b[1;31mNameError\u001b[0m                                 Traceback (most recent call last)",
      "\u001b[1;32m<ipython-input-2-43ebc71570da>\u001b[0m in \u001b[0;36m<module>\u001b[1;34m\u001b[0m\n\u001b[1;32m----> 1\u001b[1;33m \u001b[0mdata\u001b[0m\u001b[1;33m.\u001b[0m\u001b[0mkeys\u001b[0m\u001b[1;33m(\u001b[0m\u001b[1;33m)\u001b[0m\u001b[1;33m\u001b[0m\u001b[1;33m\u001b[0m\u001b[0m\n\u001b[0m",
      "\u001b[1;31mNameError\u001b[0m: name 'data' is not defined"
     ]
    }
   ],
   "source": [
    "data.keys()"
   ]
  },
  {
   "cell_type": "markdown",
   "id": "501a6dcc",
   "metadata": {},
   "source": [
    "### create a function that takes the data variable and outputs everything into a dataframe"
   ]
  },
  {
   "cell_type": "code",
   "execution_count": 11,
   "id": "edc67fcf",
   "metadata": {},
   "outputs": [],
   "source": [
    "with open('../data/vehicle_simulator_genre_158.pkl', 'rb') as f:\n",
    "    data = pickle.load(f)\n"
   ]
  },
  {
   "cell_type": "code",
   "execution_count": 53,
   "id": "46ff14ea",
   "metadata": {},
   "outputs": [],
   "source": [
    "title = []\n",
    "game_id = []\n",
    "description = []\n",
    "moby_url = []\n",
    "official_url = []\n",
    "# the big list for platform lists\n",
    "platform_primary = []\n",
    "#initializing all the  lists we need\n",
    "release_date1=[]\n",
    "platform_id1=[]\n",
    "platform_name1=[]\n",
    "release_date2=[]\n",
    "platform_id2=[]\n",
    "platform_name2=[]\n",
    "release_date3=[]\n",
    "platform_id3=[]\n",
    "platform_name3=[]\n",
    "release_date4=[]\n",
    "platform_id4=[]\n",
    "platform_name4=[]\n",
    "release_date5=[]\n",
    "platform_id5=[]\n",
    "platform_name5=[]\n",
    "release_date6=[]\n",
    "platform_id6=[]\n",
    "platform_name6=[]\n",
    "release_date7=[]\n",
    "platform_id7=[]\n",
    "platform_name7=[]\n",
    "release_date8=[]\n",
    "platform_id8=[]\n",
    "platform_name8=[]\n",
    "release_date9=[]\n",
    "platform_id9=[]\n",
    "platform_name9=[]\n",
    "release_date10=[]\n",
    "platform_id10=[]\n",
    "platform_name10=[]\n",
    "release_date11=[]\n",
    "platform_id11=[]\n",
    "platform_name11=[]\n",
    "release_date12=[]\n",
    "platform_id12=[]\n",
    "platform_name12=[]\n",
    "# release_date13=[]\n",
    "# platform_id13=[]\n",
    "# platform_name13=[]\n",
    "# release_date14=[]\n",
    "# platform_id14=[]\n",
    "# platform_name14=[]\n",
    "# release_date15=[]\n",
    "# platform_id15=[]\n",
    "# platform_name15=[]\n",
    "#create lists to contain info for each platform\n",
    "platform_secondary1=[]\n",
    "platform_secondary2=[]\n",
    "platform_secondary3=[]\n",
    "platform_secondary4=[]\n",
    "platform_secondary5=[]\n",
    "platform_secondary6=[]\n",
    "platform_secondary7=[]\n",
    "platform_secondary8=[]\n",
    "platform_secondary9=[]\n",
    "platform_secondary10=[]\n",
    "platform_secondary11=[]\n",
    "platform_secondary12=[]\n",
    "# platform_secondary13=[]\n",
    "# platform_secondary14=[]\n",
    "# platform_secondary15=[]\n",
    "\n",
    "#append each of 3 data points to secondaries\n",
    "platform_secondary1.append(release_date1)\n",
    "platform_secondary1.append(platform_id1)\n",
    "platform_secondary1.append(platform_name1)\n",
    "platform_secondary2.append(release_date2)\n",
    "platform_secondary2.append(platform_id2)\n",
    "platform_secondary2.append(platform_name2)\n",
    "platform_secondary3.append(release_date3)\n",
    "platform_secondary3.append(platform_id3)\n",
    "platform_secondary3.append(platform_name3)\n",
    "platform_secondary4.append(release_date4)\n",
    "platform_secondary4.append(platform_id4)\n",
    "platform_secondary4.append(platform_name4)\n",
    "platform_secondary5.append(release_date5)\n",
    "platform_secondary5.append(platform_id5)\n",
    "platform_secondary5.append(platform_name5)\n",
    "platform_secondary6.append(release_date6)\n",
    "platform_secondary6.append(platform_id6)\n",
    "platform_secondary6.append(platform_name6)\n",
    "platform_secondary7.append(release_date7)\n",
    "platform_secondary7.append(platform_id7)\n",
    "platform_secondary7.append(platform_name7)\n",
    "platform_secondary8.append(release_date8)\n",
    "platform_secondary8.append(platform_id8)\n",
    "platform_secondary8.append(platform_name8)\n",
    "platform_secondary9.append(release_date9)\n",
    "platform_secondary9.append(platform_id9)\n",
    "platform_secondary9.append(platform_name9)\n",
    "platform_secondary10.append(release_date10)\n",
    "platform_secondary10.append(platform_id10)\n",
    "platform_secondary10.append(platform_name10)\n",
    "platform_secondary11.append(release_date11)\n",
    "platform_secondary11.append(platform_id11)\n",
    "platform_secondary11.append(platform_name11)\n",
    "platform_secondary12.append(release_date12)\n",
    "platform_secondary12.append(platform_id12)\n",
    "platform_secondary12.append(platform_name12)\n",
    "\n",
    "#appending secondary lists to main platform list\n",
    "platform_primary.append(platform_secondary1)\n",
    "platform_primary.append(platform_secondary2)\n",
    "platform_primary.append(platform_secondary3)\n",
    "platform_primary.append(platform_secondary4)\n",
    "platform_primary.append(platform_secondary5)\n",
    "platform_primary.append(platform_secondary6)\n",
    "platform_primary.append(platform_secondary7)\n",
    "platform_primary.append(platform_secondary8)\n",
    "platform_primary.append(platform_secondary9)\n",
    "platform_primary.append(platform_secondary10)\n",
    "platform_primary.append(platform_secondary11)\n",
    "platform_primary.append(platform_secondary12)\n",
    "# platform_primary.append(platform_secondary13)\n",
    "# platform_primary.append(platform_secondary14)\n",
    "# platform_primary.append(platform_secondary15)\n",
    "\n"
   ]
  },
  {
   "cell_type": "code",
   "execution_count": 44,
   "id": "afab16fe",
   "metadata": {},
   "outputs": [
    {
     "name": "stdout",
     "output_type": "stream",
     "text": [
      "12\n"
     ]
    },
    {
     "ename": "IndexError",
     "evalue": "list index out of range",
     "output_type": "error",
     "traceback": [
      "\u001b[1;31m---------------------------------------------------------------------------\u001b[0m",
      "\u001b[1;31mIndexError\u001b[0m                                Traceback (most recent call last)",
      "\u001b[1;32m<ipython-input-44-e1f1e16d1876>\u001b[0m in \u001b[0;36m<module>\u001b[1;34m\u001b[0m\n\u001b[0;32m      1\u001b[0m \u001b[0mprint\u001b[0m\u001b[1;33m(\u001b[0m\u001b[0mlen\u001b[0m\u001b[1;33m(\u001b[0m\u001b[0mplatform_primary\u001b[0m\u001b[1;33m)\u001b[0m\u001b[1;33m)\u001b[0m\u001b[1;33m\u001b[0m\u001b[1;33m\u001b[0m\u001b[0m\n\u001b[1;32m----> 2\u001b[1;33m \u001b[0mprint\u001b[0m\u001b[1;33m(\u001b[0m\u001b[0mlen\u001b[0m\u001b[1;33m(\u001b[0m\u001b[0mplatform_primary\u001b[0m\u001b[1;33m[\u001b[0m\u001b[1;36m12\u001b[0m\u001b[1;33m]\u001b[0m\u001b[1;33m)\u001b[0m\u001b[1;33m)\u001b[0m\u001b[1;33m\u001b[0m\u001b[1;33m\u001b[0m\u001b[0m\n\u001b[0m",
      "\u001b[1;31mIndexError\u001b[0m: list index out of range"
     ]
    }
   ],
   "source": [
    "print(len(platform_primary))\n",
    "print(len(platform_primary[0]))"
   ]
  },
  {
   "cell_type": "code",
   "execution_count": null,
   "id": "2b2726b9",
   "metadata": {},
   "outputs": [],
   "source": [
    "for key, values_list in data.items():\n",
    "    for vals_dicts in values_list:\n",
    "        for headers, values in vals_dicts.items():\n",
    "            if headers == \"platforms\":\n",
    "                num_platforms = len(values)\n",
    "                range_num = list(range(0,12))\n",
    "                for num in range_num:\n",
    "                    try:\n",
    "                        platform_primary[num][0].append(values[num][\"first_release_date\"])\n",
    "                        platform_primary[num][1].append(values[num][\"platform_id\"])\n",
    "                        platform_primary[num][2].append(values[num][\"platform_name\"])\n",
    "                    except:\n",
    "                        platform_primary[num][0].append(\"\")\n",
    "                        platform_primary[num][1].append(\"\")\n",
    "                        platform_primary[num][2].append(\"\")\n",
    "            elif headers == \"description\":\n",
    "                description.append(values)\n",
    "            elif headers == \"title\":\n",
    "                title.append(values)\n",
    "            elif headers == \"moby_url\":\n",
    "                moby_url.append(values)\n",
    "            elif headers == \"game_id\":\n",
    "                game_id.append(values)\n",
    "            elif headers == \"official_url\":\n",
    "                official_url.append(values)"
   ]
  },
  {
   "cell_type": "code",
   "execution_count": 57,
   "id": "1e9bd163",
   "metadata": {},
   "outputs": [
    {
     "name": "stdout",
     "output_type": "stream",
     "text": [
      "1150\n"
     ]
    }
   ],
   "source": [
    "print(len(platform_primary[11][0]))"
   ]
  },
  {
   "cell_type": "code",
   "execution_count": 59,
   "id": "c3553298",
   "metadata": {},
   "outputs": [],
   "source": [
    "# ok, we got the stuff parsed correctly for platforms, and it shoulld append nicely to the main list.\n",
    "# just need to append correctly with correct slicing, and add column names goodly\n",
    "\n",
    "main_list = []\n",
    "main_list.append(title)\n",
    "main_list.append(game_id)\n",
    "main_list.append(description)\n",
    "main_list.append(moby_url)\n",
    "main_list.append(official_url)\n",
    "#you can use a for loop or 2 to automate the appending of lists to main list - just nest 'em, me thinks\n",
    "for secondaries in platform_primary:\n",
    "    for datalists in secondaries:\n",
    "        main_list.append(datalists)\n",
    "\n",
    "\n",
    "vehicle_sim_158 = pd.DataFrame(main_list).transpose()\n",
    "vehicle_sim_158.columns = [\"title\", \"game_id\", \"description\", \"moby_url\", \"official_url\", \"release_date1\",\n",
    "\"platform_id1\",\n",
    "\"platform_name1\",\n",
    "\"release_date2\",\n",
    "\"platform_id2\",\n",
    "\"platform_name2\",\n",
    "\"release_date3\",\n",
    "\"platform_id3\",\n",
    "\"platform_name3\",\n",
    "\"release_date4\",\n",
    "\"platform_id4\",\n",
    "\"platform_name4\",\n",
    "\"release_date5\",\n",
    "\"platform_id5\",\n",
    "\"platform_name5\",\n",
    "\"release_date6\",\n",
    "\"platform_id6\",\n",
    "\"platform_name6\",\n",
    "\"release_date7\",\n",
    "\"platform_id7\",\n",
    "\"platform_name7\",\n",
    "\"release_date8\",\n",
    "\"platform_id8\",\n",
    "\"platform_name8\",\n",
    "\"release_date9\",\n",
    "\"platform_id9\",\n",
    "\"platform_name9\",\n",
    "\"release_date10\",\n",
    "\"platform_id10\",\n",
    "\"platform_name10\",\n",
    "\"release_date11\",\n",
    "\"platform_id11\",\n",
    "\"platform_name11\",\n",
    "\"release_date12\",\n",
    "\"platform_id12\",\n",
    "\"platform_name12\"]\n"
   ]
  },
  {
   "cell_type": "code",
   "execution_count": 62,
   "id": "10fb9f3c",
   "metadata": {},
   "outputs": [],
   "source": [
    "vehicle_sim_158.to_csv(\"../data/vehicle_sim_158_df.csv\")"
   ]
  },
  {
   "cell_type": "code",
   "execution_count": null,
   "id": "bb337c7e",
   "metadata": {
    "scrolled": true
   },
   "outputs": [],
   "source": []
  }
 ],
 "metadata": {
  "kernelspec": {
   "display_name": "Python 3",
   "language": "python",
   "name": "python3"
  },
  "language_info": {
   "codemirror_mode": {
    "name": "ipython",
    "version": 3
   },
   "file_extension": ".py",
   "mimetype": "text/x-python",
   "name": "python",
   "nbconvert_exporter": "python",
   "pygments_lexer": "ipython3",
   "version": "3.8.8"
  }
 },
 "nbformat": 4,
 "nbformat_minor": 5
}
