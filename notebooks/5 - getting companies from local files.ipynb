{
 "cells": [
  {
   "cell_type": "code",
   "execution_count": null,
   "id": "305dce0e",
   "metadata": {},
   "outputs": [],
   "source": [
    "import pandas as pd\n",
    "import pickle\n",
    "import numpy as np"
   ]
  },
  {
   "cell_type": "code",
   "execution_count": null,
   "id": "ee6530ce",
   "metadata": {},
   "outputs": [],
   "source": [
    "with open('../data/platform_to_875.pkl', 'rb') as f1:\n",
    "    scrape1 = pickle.load(f1)\n",
    "with open('../data/platform_875_to_1119.pkl', 'rb') as f2:\n",
    "    scrape2 = pickle.load(f2)\n",
    "with open('../data/platform_1119_to_end.pkl', 'rb') as f3:\n",
    "    scrape3 = pickle.load(f3)"
   ]
  },
  {
   "cell_type": "code",
   "execution_count": null,
   "id": "643eac8d",
   "metadata": {},
   "outputs": [],
   "source": [
    "type(scrape1)"
   ]
  },
  {
   "cell_type": "code",
   "execution_count": null,
   "id": "fc0465c6",
   "metadata": {},
   "outputs": [],
   "source": [
    "len(scrape2)"
   ]
  },
  {
   "cell_type": "code",
   "execution_count": null,
   "id": "8e752842",
   "metadata": {},
   "outputs": [],
   "source": [
    "len(scrape3)"
   ]
  },
  {
   "cell_type": "code",
   "execution_count": null,
   "id": "6d1b5493",
   "metadata": {},
   "outputs": [],
   "source": [
    "data = []"
   ]
  },
  {
   "cell_type": "code",
   "execution_count": null,
   "id": "2660a009",
   "metadata": {},
   "outputs": [],
   "source": [
    "data.extend(scrape1)"
   ]
  },
  {
   "cell_type": "code",
   "execution_count": null,
   "id": "e464a036",
   "metadata": {},
   "outputs": [],
   "source": [
    "type(data[0])"
   ]
  },
  {
   "cell_type": "code",
   "execution_count": null,
   "id": "9255ae97",
   "metadata": {},
   "outputs": [],
   "source": [
    "data.extend(scrape2)"
   ]
  },
  {
   "cell_type": "code",
   "execution_count": null,
   "id": "1acc97e7",
   "metadata": {
    "scrolled": true
   },
   "outputs": [],
   "source": [
    "type(data[1])"
   ]
  },
  {
   "cell_type": "code",
   "execution_count": null,
   "id": "bd29fca7",
   "metadata": {},
   "outputs": [],
   "source": [
    "data.extend(scrape3)"
   ]
  },
  {
   "cell_type": "code",
   "execution_count": null,
   "id": "a8895fdb",
   "metadata": {},
   "outputs": [],
   "source": [
    "len(data)"
   ]
  },
  {
   "cell_type": "code",
   "execution_count": null,
   "id": "cfa3be44",
   "metadata": {},
   "outputs": [],
   "source": [
    "f = open(\"../data/full_company_scrape.pkl\",\"wb\")\n",
    "pickle.dump(data,f)\n",
    "f.close()"
   ]
  },
  {
   "cell_type": "markdown",
   "id": "869bf24b",
   "metadata": {},
   "source": [
    "### Ok, now we work with the full file (use full_company_scrape.pkl)"
   ]
  },
  {
   "cell_type": "code",
   "execution_count": null,
   "id": "ec2eb4c5",
   "metadata": {},
   "outputs": [],
   "source": [
    "with open('../data/full_company_scrape.pkl', 'rb') as f:\n",
    "    data = pickle.load(f)"
   ]
  },
  {
   "cell_type": "code",
   "execution_count": null,
   "id": "a22d85f0",
   "metadata": {
    "scrolled": false
   },
   "outputs": [],
   "source": [
    "# things to get\n",
    "data[0]\n",
    "\n",
    "#this can be multiple lengths, is a list\n",
    "data[0][\"releases\"]\n",
    "\n",
    "# for companies, list of dicts, each dict is a different company with a different role - need to check through this\n",
    "# this is probably variable in length, depending on how many companies are credited in different roles\n",
    "# data[0][\"releases\"][0][\"companies\"]\n",
    "\n",
    "# for one company with one role - company id, company name, and role\n",
    "# data[0][\"releases\"][0][\"companies\"][0]\n",
    "\n",
    "# this might be a logical condition to check, if the following equals \"Published by\", then put in published list\n",
    "# data[0][\"releases\"][0][\"companies\"][0][\"role\"]"
   ]
  },
  {
   "cell_type": "code",
   "execution_count": null,
   "id": "7111a1e7",
   "metadata": {},
   "outputs": [],
   "source": [
    "all_cos_for_game = []"
   ]
  },
  {
   "cell_type": "code",
   "execution_count": null,
   "id": "9a9a0e46",
   "metadata": {},
   "outputs": [],
   "source": [
    "# goal: print out all the different kinds of roles\n",
    "for dictionary in data:\n",
    "    all_cos_for_game.append(dictionary[\"releases\"][0][\"companies\"])\n",
    "#     for company in first_release_companies_list:\n",
    "#         print(type(company))\n",
    "#         print(company.keys())\n",
    "#         list_of_dicts.append(company)\n",
    "#         for key, value in company.items():\n",
    "#             print(value)\n",
    "#             if company[\"role\"] == \"Published by\":\n",
    "#                 publisher_name.append(company[\"company_name\"])\n",
    "#                 publisher_id.append(company[\"company_id\"])\n",
    "# #             else:\n",
    "# #                 publisher_name.append(\"\")\n",
    "# #                 publisher_id.append(\"\")\n",
    "#             print(type(company.values()))\n",
    "#             if company[key] == \"Published by\":\n",
    "#                 publisher_name.append(company[\"company_name\"])\n",
    "#                 publisher_id.append(company[\"company_id\"])\n",
    "#             else:\n",
    "#                 publisher_name.append(\"\")\n",
    "#                 publisher_id.append(\"\")\n"
   ]
  },
  {
   "cell_type": "code",
   "execution_count": null,
   "id": "31a9044d",
   "metadata": {
    "scrolled": false
   },
   "outputs": [],
   "source": [
    "len(all_cos_for_game)"
   ]
  },
  {
   "cell_type": "code",
   "execution_count": null,
   "id": "f2cb068a",
   "metadata": {},
   "outputs": [],
   "source": [
    "# df = pd.DataFrame()\n",
    "pub_results = []\n",
    "# publishers = []\n",
    "# developers = []\n",
    "# pub_and_dev={\"publisher_name\":np.nan, \"publisher_id\":np.nan, \"developer_name\":np.nan, \"developer_id\":np.nan}"
   ]
  },
  {
   "cell_type": "code",
   "execution_count": null,
   "id": "f1f81c01",
   "metadata": {},
   "outputs": [],
   "source": [
    "# def find_pub(dictionary):\n",
    "#     if \"Published by\" in dictionary.values():\n",
    "#         return dictionary\n",
    "# def find_dev(dictionary):\n",
    "#     if \"Developed by\" in dictionary.values():\n",
    "#         return dictionary"
   ]
  },
  {
   "cell_type": "code",
   "execution_count": null,
   "id": "9cbe3096",
   "metadata": {},
   "outputs": [],
   "source": [
    "# def get_data_from_dict(input_list):\n",
    "#     # check every dictionary in the list to find the one that has pub and the one that has dev\n",
    "#     for dictionary in input_list:\n",
    "#         if dictionary[\"role\"] == \"Published by\":\n",
    "#             publishers.append(dictionary)\n",
    "#     for dictionary in input_list:\n",
    "#         if dictionary[\"role\"] == \"Developed by\":\n",
    "#             developers.append(dictionary)\n",
    "        \n",
    "#         publisher_dict = find_pub(dictionary)\n",
    "#         developer_dict = find_dev(dictionary)\n",
    "#     return publisher_dict, developer_dict\n",
    "    \n",
    "#     if (publisher_dict != None) and (developer_dict != None): #both\n",
    "#         output_dict[\"publisher_name\"] = publisher_dict[\"company_name\"]\n",
    "#         output_dict[\"publisher_id\"] = publisher_dict[\"company_id\"]\n",
    "#         output_dict[\"developer_name\"] = developer_dict[\"company_name\"]\n",
    "#         output_dict[\"developer_id\"] = developer_dict[\"company_id\"]\n",
    "#         return output_dict\n",
    "#     elif (publisher_dict == None) and (developer_dict != None): #dev only\n",
    "#         output_dict[\"publisher_name\"] = np.nan\n",
    "#         output_dict[\"publisher_id\"] = np.nan\n",
    "#         output_dict[\"developer_name\"] = developer_dict[\"company_name\"]\n",
    "#         output_dict[\"developer_id\"] = developer_dict[\"company_id\"]\n",
    "#         return output_dict\n",
    "#     elif (publisher_dict != None) and (developer_dict == None): # pub only\n",
    "#         output_dict[\"publisher_name\"] = publisher_dict[\"company_name\"]\n",
    "#         output_dict[\"publisher_id\"] = publisher_dict[\"company_id\"]\n",
    "#         output_dict[\"developer_name\"] = np.nan\n",
    "#         output_dict[\"developer_id\"] = np.nan\n",
    "#         return output_dict\n",
    "#     elif (publisher_dict == None) and (developer_dict == None): #neither\n",
    "#         output_dict[\"publisher_name\"] = np.nan\n",
    "#         output_dict[\"publisher_id\"] = np.nan\n",
    "#         output_dict[\"developer_name\"] = np.nan\n",
    "#         output_dict[\"developer_id\"] = np.nan\n",
    "#         return output_dict\n"
   ]
  },
  {
   "cell_type": "code",
   "execution_count": null,
   "id": "fcc650b7",
   "metadata": {},
   "outputs": [],
   "source": [
    "#OMG I finally got it - this here works - 14 Dec 21\n",
    "for list_of_cos_for_each_game in all_cos_for_game:\n",
    "    values_list = []\n",
    "    publishers = []\n",
    "    for dictionary in list_of_cos_for_each_game:\n",
    "        for key, value in dictionary.items():\n",
    "            values_list.append(value)\n",
    "    if \"Published by\" in values_list:\n",
    "        for dictionary in list_of_cos_for_each_game:\n",
    "            if dictionary[\"role\"] == \"Published by\":\n",
    "                publishers.append(dictionary)\n",
    "                values_list=[]\n",
    "    pub_results.append(publishers)\n",
    "#     elif \"Published by\" not in values_list:\n",
    "#         print(\"elif\")\n",
    "#         publishers.append(\"\")\n",
    "        \n",
    "#         if dictionary[\"role\"] == \"Published by\":\n",
    "#             publishers.append(dictionary)\n",
    "#     for dictionary in list_of_cos_for_each_game:\n",
    "#         if dictionary[\"role\"] == \"Developed by\":\n",
    "#             developers.append(dictionary)\n",
    "\n",
    "#     if pubcheck == True:\n",
    "# #         haspub +=1\n",
    "#         for dictionary in item:\n",
    "#             for key, value in dictionary.items():\n",
    "#                 if value == \"Published by\":\n",
    "#                     publisher_name.append(dictionary[\"company_name\"])\n",
    "#                     publisher_id.append(dictionary[\"company_id\"])\n",
    "#     elif pubcheck == False:\n",
    "#         publisher_name.append(\"\")\n",
    "#         publisher_id.append(\"\")\n",
    "# #         nopub +=1"
   ]
  },
  {
   "cell_type": "code",
   "execution_count": null,
   "id": "420df89d",
   "metadata": {},
   "outputs": [],
   "source": [
    "len(pub_results)"
   ]
  },
  {
   "cell_type": "code",
   "execution_count": null,
   "id": "f8a7a620",
   "metadata": {
    "scrolled": true
   },
   "outputs": [],
   "source": [
    "#this level contains a list of 0, 1, 2, or more publishers\n",
    "pub_results[4]"
   ]
  },
  {
   "cell_type": "markdown",
   "id": "c1d38ce8",
   "metadata": {},
   "source": [
    "### this stuff just to see breakdown of no pub, 1 pub, and more than 1 pub"
   ]
  },
  {
   "cell_type": "code",
   "execution_count": null,
   "id": "623c5ab0",
   "metadata": {
    "scrolled": true
   },
   "outputs": [],
   "source": [
    "no_pub = []\n",
    "one_pub = []\n",
    "more_than_1_pub = []\n"
   ]
  },
  {
   "cell_type": "code",
   "execution_count": null,
   "id": "45c6669b",
   "metadata": {},
   "outputs": [],
   "source": [
    "for item in pub_results:\n",
    "    if len(item) == 0:\n",
    "        no_pub.append(item)\n",
    "    elif len(item) == 1:\n",
    "        one_pub.append(item)\n",
    "    elif len(item) > 1:\n",
    "        more_than_1_pub.append(item)"
   ]
  },
  {
   "cell_type": "code",
   "execution_count": null,
   "id": "0a9fc00e",
   "metadata": {
    "scrolled": false
   },
   "outputs": [],
   "source": [
    "print(len(no_pub))\n",
    "print(len(one_pub))\n",
    "print(len(more_than_1_pub))"
   ]
  },
  {
   "cell_type": "markdown",
   "id": "52a9b072",
   "metadata": {},
   "source": [
    "### getting data into dataframe"
   ]
  },
  {
   "cell_type": "code",
   "execution_count": null,
   "id": "a9418802",
   "metadata": {},
   "outputs": [],
   "source": [
    "#lists for columns\n",
    "publisher1_name = []\n",
    "publisher1_id = []\n",
    "publisher2_name = []\n",
    "publisher2_id = []"
   ]
  },
  {
   "cell_type": "code",
   "execution_count": null,
   "id": "f7e87775",
   "metadata": {},
   "outputs": [],
   "source": [
    "for item1 in pub_results:\n",
    "    if len(item1) == 0:\n",
    "        publisher1_name.append(\"\")\n",
    "        publisher1_id.append(\"\")\n",
    "        publisher2_name.append(\"\")\n",
    "        publisher2_id.append(\"\")\n",
    "    elif len(item1) == 1:\n",
    "        publisher1_name.append(item1[0][\"company_name\"])\n",
    "        publisher1_id.append(item1[0][\"company_id\"])\n",
    "        publisher2_name.append(\"\")\n",
    "        publisher2_id.append(\"\")\n",
    "    elif len(item1)== 2:\n",
    "        publisher1_name.append(item1[0][\"company_name\"])\n",
    "        publisher1_id.append(item1[0][\"company_id\"])\n",
    "        publisher2_name.append(item1[1][\"company_name\"])\n",
    "        publisher2_id.append(item1[1][\"company_id\"])"
   ]
  },
  {
   "cell_type": "code",
   "execution_count": null,
   "id": "063eff8e",
   "metadata": {
    "scrolled": true
   },
   "outputs": [],
   "source": [
    "print(len(publisher1_name))\n",
    "print(len(publisher1_id))\n",
    "print(len(publisher2_name))\n",
    "print(len(publisher2_id))"
   ]
  },
  {
   "cell_type": "code",
   "execution_count": null,
   "id": "21ad7949",
   "metadata": {},
   "outputs": [],
   "source": []
  },
  {
   "cell_type": "code",
   "execution_count": null,
   "id": "b0436388",
   "metadata": {},
   "outputs": [],
   "source": [
    "#section for getting column lists into df\n",
    "main_list = []\n",
    "main_list.append(publisher1_name)\n",
    "main_list.append(publisher1_id)\n",
    "main_list.append(publisher2_name)\n",
    "main_list.append(publisher2_id)"
   ]
  },
  {
   "cell_type": "code",
   "execution_count": null,
   "id": "2a40ff39",
   "metadata": {},
   "outputs": [],
   "source": [
    "publisher_df = pd.DataFrame(main_list).transpose()\n",
    "publisher_df.columns = [\"publisher1_name\", \"publisher1_id\", \"publisher2_name\", \"publisher2_id\"]"
   ]
  },
  {
   "cell_type": "code",
   "execution_count": null,
   "id": "8ece5c9f",
   "metadata": {},
   "outputs": [],
   "source": [
    "publisher_df.to_csv(\"../data/publisher_data_14Dec21.csv\")"
   ]
  },
  {
   "cell_type": "markdown",
   "id": "a23863fc",
   "metadata": {},
   "source": [
    "### doing it all again for developer"
   ]
  },
  {
   "cell_type": "code",
   "execution_count": null,
   "id": "42b5dd59",
   "metadata": {},
   "outputs": [],
   "source": [
    "dev_result = []"
   ]
  },
  {
   "cell_type": "code",
   "execution_count": null,
   "id": "9225ba64",
   "metadata": {},
   "outputs": [],
   "source": [
    "for list_of_cos_for_each_game in all_cos_for_game:\n",
    "    values_list = []\n",
    "    developers = []\n",
    "    for dictionary in list_of_cos_for_each_game:\n",
    "        for key, value in dictionary.items():\n",
    "            values_list.append(value)\n",
    "    if \"Developed by\" in values_list:\n",
    "        for dictionary in list_of_cos_for_each_game:\n",
    "            if dictionary[\"role\"] == \"Developed by\":\n",
    "                developers.append(dictionary)\n",
    "                values_list=[]\n",
    "    dev_result.append(developers)"
   ]
  },
  {
   "cell_type": "code",
   "execution_count": null,
   "id": "216e4bb6",
   "metadata": {
    "scrolled": true
   },
   "outputs": [],
   "source": [
    "len(dev_result)"
   ]
  },
  {
   "cell_type": "markdown",
   "id": "f2edc80f",
   "metadata": {},
   "source": [
    "### checking to see max num of devs"
   ]
  },
  {
   "cell_type": "code",
   "execution_count": null,
   "id": "b8708b3e",
   "metadata": {},
   "outputs": [],
   "source": [
    "no_pub = []\n",
    "one_pub = []\n",
    "more_than_1_pub = []"
   ]
  },
  {
   "cell_type": "code",
   "execution_count": null,
   "id": "45643e1d",
   "metadata": {},
   "outputs": [],
   "source": [
    "for item in dev_result:\n",
    "    if len(item) == 0:\n",
    "        no_pub.append(item)\n",
    "    elif len(item) == 1:\n",
    "        one_pub.append(item)\n",
    "    elif len(item) > 2:\n",
    "        more_than_1_pub.append(item)"
   ]
  },
  {
   "cell_type": "code",
   "execution_count": null,
   "id": "e34f4e79",
   "metadata": {
    "scrolled": true
   },
   "outputs": [],
   "source": [
    "print(len(no_pub))\n",
    "print(len(one_pub))\n",
    "print(len(more_than_1_pub))"
   ]
  },
  {
   "cell_type": "code",
   "execution_count": null,
   "id": "f564b4d2",
   "metadata": {
    "scrolled": true
   },
   "outputs": [],
   "source": [
    "print(len(more_than_1_pub[0]))"
   ]
  },
  {
   "cell_type": "code",
   "execution_count": null,
   "id": "c8d46346",
   "metadata": {},
   "outputs": [],
   "source": [
    "#result: max lenght is 3, but it is only one game, and I do not care (I think it is a sonic game)"
   ]
  },
  {
   "cell_type": "markdown",
   "id": "6f291e43",
   "metadata": {},
   "source": [
    "### getting data into dataframe"
   ]
  },
  {
   "cell_type": "code",
   "execution_count": null,
   "id": "ec8e2531",
   "metadata": {},
   "outputs": [],
   "source": [
    "#lists for columns\n",
    "publisher1_name = []\n",
    "publisher1_id = []\n",
    "publisher2_name = []\n",
    "publisher2_id = []"
   ]
  },
  {
   "cell_type": "code",
   "execution_count": null,
   "id": "f87a4027",
   "metadata": {},
   "outputs": [],
   "source": [
    "for item1 in dev_result:\n",
    "    if len(item1) == 0:\n",
    "        publisher1_name.append(\"\")\n",
    "        publisher1_id.append(\"\")\n",
    "        publisher2_name.append(\"\")\n",
    "        publisher2_id.append(\"\")\n",
    "    elif len(item1) == 1:\n",
    "        publisher1_name.append(item1[0][\"company_name\"])\n",
    "        publisher1_id.append(item1[0][\"company_id\"])\n",
    "        publisher2_name.append(\"\")\n",
    "        publisher2_id.append(\"\")\n",
    "    elif len(item1) == 2:\n",
    "        publisher1_name.append(item1[0][\"company_name\"])\n",
    "        publisher1_id.append(item1[0][\"company_id\"])\n",
    "        publisher2_name.append(item1[1][\"company_name\"])\n",
    "        publisher2_id.append(item1[1][\"company_id\"])\n",
    "    elif len(item1) == 3:\n",
    "        publisher1_name.append(item1[0][\"company_name\"])\n",
    "        publisher1_id.append(item1[0][\"company_id\"])\n",
    "        publisher2_name.append(item1[1][\"company_name\"])\n",
    "        publisher2_id.append(item1[1][\"company_id\"])"
   ]
  },
  {
   "cell_type": "code",
   "execution_count": null,
   "id": "2bfea1fa",
   "metadata": {
    "scrolled": true
   },
   "outputs": [],
   "source": [
    "print(len(publisher1_name))\n",
    "print(len(publisher1_id))\n",
    "print(len(publisher2_name))\n",
    "print(len(publisher2_id))"
   ]
  },
  {
   "cell_type": "code",
   "execution_count": null,
   "id": "439aba6e",
   "metadata": {},
   "outputs": [],
   "source": [
    "main_list = []\n",
    "main_list.append(publisher1_name)\n",
    "main_list.append(publisher1_id)\n",
    "main_list.append(publisher2_name)\n",
    "main_list.append(publisher2_id)"
   ]
  },
  {
   "cell_type": "code",
   "execution_count": null,
   "id": "02e29764",
   "metadata": {},
   "outputs": [],
   "source": [
    "dev_df = pd.DataFrame(main_list).transpose()\n"
   ]
  },
  {
   "cell_type": "code",
   "execution_count": null,
   "id": "128aba41",
   "metadata": {},
   "outputs": [],
   "source": [
    "dev_df.columns = [\"dev1_name\", \"dev1_id\", \"dev2_name\", \"dev2_id\"]"
   ]
  },
  {
   "cell_type": "code",
   "execution_count": null,
   "id": "0d0b3860",
   "metadata": {},
   "outputs": [],
   "source": [
    "dev_df.to_csv(\"../data/dev_data_14Dec21.csv\")"
   ]
  }
 ],
 "metadata": {
  "kernelspec": {
   "display_name": "Python 3",
   "language": "python",
   "name": "python3"
  },
  "language_info": {
   "codemirror_mode": {
    "name": "ipython",
    "version": 3
   },
   "file_extension": ".py",
   "mimetype": "text/x-python",
   "name": "python",
   "nbconvert_exporter": "python",
   "pygments_lexer": "ipython3",
   "version": "3.8.8"
  }
 },
 "nbformat": 4,
 "nbformat_minor": 5
}
