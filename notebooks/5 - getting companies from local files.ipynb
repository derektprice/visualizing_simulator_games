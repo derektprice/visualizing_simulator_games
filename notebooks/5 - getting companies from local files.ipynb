{
 "cells": [
  {
   "cell_type": "code",
   "execution_count": 1,
   "id": "305dce0e",
   "metadata": {},
   "outputs": [],
   "source": [
    "import pandas as pd\n",
    "import pickle"
   ]
  },
  {
   "cell_type": "code",
   "execution_count": 2,
   "id": "ee6530ce",
   "metadata": {},
   "outputs": [],
   "source": [
    "with open('../data/platform_to_875.pkl', 'rb') as f1:\n",
    "    scrape1 = pickle.load(f1)\n",
    "with open('../data/platform_875_to_1119.pkl', 'rb') as f2:\n",
    "    scrape2 = pickle.load(f2)\n",
    "with open('../data/platform_1119_to_end.pkl', 'rb') as f3:\n",
    "    scrape3 = pickle.load(f3)"
   ]
  },
  {
   "cell_type": "code",
   "execution_count": 7,
   "id": "643eac8d",
   "metadata": {},
   "outputs": [
    {
     "data": {
      "text/plain": [
       "list"
      ]
     },
     "execution_count": 7,
     "metadata": {},
     "output_type": "execute_result"
    }
   ],
   "source": [
    "type(scrape1)"
   ]
  },
  {
   "cell_type": "code",
   "execution_count": 5,
   "id": "fc0465c6",
   "metadata": {},
   "outputs": [
    {
     "data": {
      "text/plain": [
       "244"
      ]
     },
     "execution_count": 5,
     "metadata": {},
     "output_type": "execute_result"
    }
   ],
   "source": [
    "len(scrape2)"
   ]
  },
  {
   "cell_type": "code",
   "execution_count": 6,
   "id": "8e752842",
   "metadata": {},
   "outputs": [
    {
     "data": {
      "text/plain": [
       "131"
      ]
     },
     "execution_count": 6,
     "metadata": {},
     "output_type": "execute_result"
    }
   ],
   "source": [
    "len(scrape3)"
   ]
  },
  {
   "cell_type": "code",
   "execution_count": 8,
   "id": "6d1b5493",
   "metadata": {},
   "outputs": [],
   "source": [
    "data = []"
   ]
  },
  {
   "cell_type": "code",
   "execution_count": 9,
   "id": "2660a009",
   "metadata": {},
   "outputs": [],
   "source": [
    "data.extend(scrape1)"
   ]
  },
  {
   "cell_type": "code",
   "execution_count": 14,
   "id": "e464a036",
   "metadata": {},
   "outputs": [
    {
     "data": {
      "text/plain": [
       "dict"
      ]
     },
     "execution_count": 14,
     "metadata": {},
     "output_type": "execute_result"
    }
   ],
   "source": [
    "type(data[0])"
   ]
  },
  {
   "cell_type": "code",
   "execution_count": 15,
   "id": "9255ae97",
   "metadata": {},
   "outputs": [],
   "source": [
    "data.extend(scrape2)"
   ]
  },
  {
   "cell_type": "code",
   "execution_count": 18,
   "id": "1acc97e7",
   "metadata": {
    "scrolled": true
   },
   "outputs": [
    {
     "data": {
      "text/plain": [
       "dict"
      ]
     },
     "execution_count": 18,
     "metadata": {},
     "output_type": "execute_result"
    }
   ],
   "source": [
    "type(data[1])"
   ]
  },
  {
   "cell_type": "code",
   "execution_count": 19,
   "id": "bd29fca7",
   "metadata": {},
   "outputs": [],
   "source": [
    "data.extend(scrape3)"
   ]
  },
  {
   "cell_type": "code",
   "execution_count": 21,
   "id": "a8895fdb",
   "metadata": {},
   "outputs": [
    {
     "data": {
      "text/plain": [
       "1250"
      ]
     },
     "execution_count": 21,
     "metadata": {},
     "output_type": "execute_result"
    }
   ],
   "source": [
    "len(data)"
   ]
  },
  {
   "cell_type": "code",
   "execution_count": 22,
   "id": "cfa3be44",
   "metadata": {},
   "outputs": [],
   "source": [
    "f = open(\"../data/full_company_scrape.pkl\",\"wb\")\n",
    "pickle.dump(data,f)\n",
    "f.close()"
   ]
  },
  {
   "cell_type": "markdown",
   "id": "869bf24b",
   "metadata": {},
   "source": [
    "### Ok, now we work with the full file (use full_company_scrape.pkl)"
   ]
  },
  {
   "cell_type": "code",
   "execution_count": 2,
   "id": "ec2eb4c5",
   "metadata": {},
   "outputs": [],
   "source": [
    "with open('../data/full_company_scrape.pkl', 'rb') as f:\n",
    "    data = pickle.load(f)"
   ]
  },
  {
   "cell_type": "code",
   "execution_count": 49,
   "id": "a22d85f0",
   "metadata": {
    "scrolled": false
   },
   "outputs": [
    {
     "data": {
      "text/plain": [
       "[{'companies': [{'company_id': 2,\n",
       "    'company_name': 'Electronic Arts, Inc.',\n",
       "    'role': 'Published by'},\n",
       "   {'company_id': 6,\n",
       "    'company_name': 'Papyrus Design Group, Inc.',\n",
       "    'role': 'Developed by'},\n",
       "   {'company_id': 1450,\n",
       "    'company_name': 'Spiegelman & Associates',\n",
       "    'role': 'Package Design by'}],\n",
       "  'countries': ['United States'],\n",
       "  'description': None,\n",
       "  'product_codes': [{'product_code': '014633019469',\n",
       "    'product_code_type': 'UPC-A',\n",
       "    'product_code_type_id': 1},\n",
       "   {'product_code': '1555433650',\n",
       "    'product_code_type': 'ISBN-10',\n",
       "    'product_code_type_id': 3}],\n",
       "  'release_date': '1989-12'},\n",
       " {'companies': [{'company_id': 2,\n",
       "    'company_name': 'Electronic Arts, Inc.',\n",
       "    'role': 'Published by'},\n",
       "   {'company_id': 6,\n",
       "    'company_name': 'Papyrus Design Group, Inc.',\n",
       "    'role': 'Developed by'},\n",
       "   {'company_id': 8154,\n",
       "    'company_name': 'Brasoft Produtos de Informática Ltda.',\n",
       "    'role': 'Distributed by'}],\n",
       "  'countries': ['Brazil'],\n",
       "  'description': None,\n",
       "  'product_codes': [],\n",
       "  'release_date': '1990-12'}]"
      ]
     },
     "execution_count": 49,
     "metadata": {},
     "output_type": "execute_result"
    }
   ],
   "source": [
    "# things to get\n",
    "data[0]\n",
    "\n",
    "#this can be multiple lengths, is a list\n",
    "data[0][\"releases\"]\n",
    "\n",
    "# for companies, list of dicts, each dict is a different company with a different role - need to check through this\n",
    "# this is probably variable in length, depending on how many companies are credited in different roles\n",
    "# data[0][\"releases\"][0][\"companies\"]\n",
    "\n",
    "# for one company with one role - company id, company name, and role\n",
    "# data[0][\"releases\"][0][\"companies\"][0]\n",
    "\n",
    "# this might be a logical condition to check, if the following equals \"Published by\", then put in published list\n",
    "# data[0][\"releases\"][0][\"companies\"][0][\"role\"]"
   ]
  },
  {
   "cell_type": "code",
   "execution_count": 112,
   "id": "7111a1e7",
   "metadata": {},
   "outputs": [],
   "source": [
    "all_cos_for_game = []"
   ]
  },
  {
   "cell_type": "code",
   "execution_count": 125,
   "id": "9a9a0e46",
   "metadata": {},
   "outputs": [],
   "source": [
    "# goal: print out all the different kinds of roles\n",
    "for dictionary in data:\n",
    "    all_cos_for_game.append(dictionary[\"releases\"][0][\"companies\"])\n",
    "#     for company in first_release_companies_list:\n",
    "#         print(type(company))\n",
    "#         print(company.keys())\n",
    "#         list_of_dicts.append(company)\n",
    "#         for key, value in company.items():\n",
    "#             print(value)\n",
    "#             if company[\"role\"] == \"Published by\":\n",
    "#                 publisher_name.append(company[\"company_name\"])\n",
    "#                 publisher_id.append(company[\"company_id\"])\n",
    "# #             else:\n",
    "# #                 publisher_name.append(\"\")\n",
    "# #                 publisher_id.append(\"\")\n",
    "#             print(type(company.values()))\n",
    "#             if company[key] == \"Published by\":\n",
    "#                 publisher_name.append(company[\"company_name\"])\n",
    "#                 publisher_id.append(company[\"company_id\"])\n",
    "#             else:\n",
    "#                 publisher_name.append(\"\")\n",
    "#                 publisher_id.append(\"\")\n"
   ]
  },
  {
   "cell_type": "code",
   "execution_count": 126,
   "id": "31a9044d",
   "metadata": {
    "scrolled": false
   },
   "outputs": [
    {
     "data": {
      "text/plain": [
       "1250"
      ]
     },
     "execution_count": 126,
     "metadata": {},
     "output_type": "execute_result"
    }
   ],
   "source": [
    "len(all_cos_for_game)"
   ]
  },
  {
   "cell_type": "code",
   "execution_count": 157,
   "id": "f2cb068a",
   "metadata": {},
   "outputs": [],
   "source": [
    "df = pd.DataFrame()\n",
    "haspub = 0\n",
    "nopub = 0\n",
    "publisher_name = []\n",
    "publisher_id = []"
   ]
  },
  {
   "cell_type": "code",
   "execution_count": 159,
   "id": "fcc650b7",
   "metadata": {
    "scrolled": false
   },
   "outputs": [],
   "source": [
    "#this is the key - you must go down twice: once to see if publisher exists, and again to get the data.\n",
    "#but you must check first - so one for loop happens first, sets a variable, and then another logic gate\n",
    "#happens below, and does something, based on the result of the first check (in this case, reterieves data)\n",
    "\n",
    "for item in all_cos_for_game:\n",
    "    for dictionary in item:\n",
    "        if \"Published by\" in dictionary.values():\n",
    "            pubcheck = True\n",
    "        else:\n",
    "            pubcheck = False\n",
    "    if pubcheck == True:\n",
    "#         haspub +=1\n",
    "        for dictionary in item:\n",
    "            for key, value in dictionary.items():\n",
    "                if value == \"Published by\":\n",
    "                    publisher_name.append(dictionary[\"company_name\"])\n",
    "                    publisher_id.append(dictionary[\"company_id\"])\n",
    "    elif pubcheck == False:\n",
    "        publisher_name.append(\"\")\n",
    "        publisher_id.append(\"\")\n",
    "#         nopub +=1"
   ]
  },
  {
   "cell_type": "code",
   "execution_count": 162,
   "id": "623c5ab0",
   "metadata": {},
   "outputs": [
    {
     "name": "stdout",
     "output_type": "stream",
     "text": [
      "['', '', '', 23, '', '', '', '', 23, 13596, 247, '', '', '', 247, '', '', '', 141, 141, '', '', '', '', 240, '', '', 4050, '', '', 13596, '', '', 10, 2, '', '', '', '', '', 17, 51, '', 151, 17, '', 13596, '', 177, '', 1381, '', '', 4801, 13596, 13596, 7235, 32, 1512, '', '', '', 1518, '', 2, '', '', '', 17, 4050, 1652, '', '', 1518, '', 32, '', '', '', '', '', '', '', 171, '', '', '', '', 17, '', '', 32820, '', '', '', 17, '', 1247, 2495, 2482, '', 41151, 1043, 1043, 1043, '', '', 1472, '', 1772, 1043, 13596, '', '', 3955, 923, 2202, '', '', 17, '', '', 171, 1047, '', 3967, '', '', '', '', 8258, '', 141, '', '', 171, 4353, '', '', 1754, '', '', 7845, '', '', '', '', '', '', '', 32826, 6131, '', 1286, '', 2426, '', 5038, 6034, '', 2823, 1043, '', '', 1891, 12, 2927, '', '', '', '', '', 13363, '', 2747, '', '', '', 202, '', '', '', '', 2747, 6034, '', '', 3324, 3327, '', '', '', 1872, '', '', '', '', '', 1546, 13543, 177, 6026, '', '', '', '', '', '', '', '', '', '', 8857, '', '', '', '', 32820, 1940, '', 1543, 17, '', '', '', '', '', 3946, '', '', '', '', '', '', 3600, '', '', '', '', '', 2482, '', '', 4706, 2247, '', 2334, '', '', 7845, '', '', 2927, '', '', '', '', '', '', '', '', '', '', '', '', 23, '', '', '', 1619, '', '', 1247, 3196, '', '', 3144, 4604, '', '', '', '', 5155, '', 32, '', 587, 5219, '', 1471, '', '', '', '', 114, 6866, '', '', '', 5368, '', 2482, '', 7226, '', '', '', 177, '', '', '', 5481, '', '', '', '', 4801, '', 13083, '', 24075, 24076, 32826, '', '', '', '', 2482, '', 6409, 2057, 32, 6131, 6537, 5152, '', 4353, '', '', '', 923, '', '', '', '', '', 1872, '', 17445, '', 7085, 8258, 587, '', '', '', '', '', 7306, '', 7383, 3074, 5837, 5837, 5837, 1758, 7467, '', '', '', '', '', 162, '', '', '', '', '', 3196, '', '', 5068, 4400, 6339, '', 13596, 19013, '', '', '', 25, '', '', '', '', 6034, '', '', 62, 32826, '', '', '', '', 348, '', 2133, 7595, '', 6325, 32, '', '', 1760, '', '', 6034, 2823, '', '', '', '', '', '', '', 8316, 8887, '', '', '', '', 9553, '', 6034, '', '', '', '', '', '', '', 1543, 1543, 1360, '', 6033, '', 8082, '', '', '', '', '', 9785, '', '', '', '', '', '', '', '', '', '', '', 177, '', 114, '', 4353, '', 2025, 161, '', 4739, 11022, 177, 56, 5925, '', 1559, '', '', 2482, 1559, 3967, '', 2482, '', 2747, '', '', '', 8585, '', '', 1559, 12, '', '', '', '', '', 1543, 1543, 1543, 1543, 1543, 1543, 1543, '', '', '', '', '', '', '', 2706, '', 8870, '', '', 9004, '', '', '', 171, '', '', '', 11884, '', '', 1697, '', 923, 1062, 4573, '', 5023, 5023, 12925, '', '', 1043, 1828, 6305, 11157, '', '', '', '', '', '', '', 7988, '', 17, '', 2025, 3776, 6622, '', '', '', 3776, '', '', '', '', 5437, '', '', '', '', '', 1940, '', '', '', 15023, 1247, 15152, '', 15198, 2334, 1192, 5972, 5972, '', '', '', '', '', 10166, '', '', 6409, '', '', '', '', '', '', 177, '', '', '', '', '', 2334, 2334, 1872, '', '', '', 1543, 12979, '', 1872, 2715, '', '', '', '', 6034, '', '', 16637, 16637, '', '', '', '', '', '', 99, '', 981, '', '', '', '', '', 2830, '', '', 6479, '', '', 177, 7988, '', '', 20108, 18350, 18389, 9093, '', 6005, 8353, 18627, '', 8372, 1537, 18869, 16619, 2, 2, 5448, 5448, 1098, 587, '', 32, '', 5837, 19176, '', '', '', 2133, 2133, '', '', 19239, 12371, 30, 12371, '', '', '', 5943, '', '', '', '', '', '', 1760, 5200, 177, '', '', '', '', '', '', 2540, '', '', 20606, 2419, 1043, '', '', '', '', 6305, 20852, '', '', 751, 4801, 10, '', '', 7989, '', 3615, 503, 1940, 8256, 177, 20858, '', '', 14353, 15435, '', 21589, 7034, '', '', 8468, 15214, 4164, '', 22087, '', '', '', '', '', '', '', 22537, 5952, 15820, '', 12326, 3144, '', '', '', 13790, '', '', '', 15820, 4651, 1693, 2531, 1543, '', '', 12, 24064, 24121, '', 6251, '', 7034, 5174, '', '', 11157, '', '', '', 23742, '', '', 2540, '', 6532, '', '', '', '', 11094, '', 177, 1876, 14851, '', 177, 3944, '', '', '', 177, 22087, '', '', '', 12, 11157, '', 17689, '', 26911, '', '', '', 15890, '', 17901, '', '', 177, '', '', '', 27149, '', '', 9004, '', '', '', 25316, '', '', 2747, 20832, 20832, '', '', 27807, '', 291, 20858, 17916, 27838, '', '', 27942, '', 5200, 28069, '', '', 15890, 28266, '', '', 28207, 28207, 13207, 28458, '', 22087, 22087, 22087, 20065, '', '', '', '', '', '', 28604, 986, 25305, 25305, 25305, '', 28482, 28482, '', 10645, '', '', '', 7099, 5437, 5437, 5437, 29199, 29212, 29213, 29387, '', 29400, 29401, 17916, '', 4615, 27807, 10523, '', '', '', '', '', 29852, 2334, '', 12371, 24343, '', '', 17916, '', 4543, 25496, 28019, 27348, '', 30898, 29689, 30994, 30691, 17415, '', '', '', 17916, 17916, '', 17916, 17916, 17916, '', '', 25584, '', 32049, 32049, '', '', 32195, 32280, 5437, 25257, 32195, 29401, 1062, '', '', '', 32398, '', 32528, 32541, 32552, '', 32739, 32739, 32814, 32875, 32195, '', 32279, '', '', 29852, '', 25584, '', '', '', '', 19729, 33321, 19729, 2581, '', 33392, '', 33417, 33417, '', '', 33392, 33392, 33392, '', '', '', 6034, '', '', '', 33376, 33816, 33831, 25369, '', 33891, 27807, 3082, 33949, 34194, '', 2258, 37451, '', '', 7945, 18288, 34984, 34984, 5680, 2739, 13207, '', 35093, 35106, 35093, 35386, '', 35562, '', 35688, 1214, 2133, 2133, '', 2133, '', 35698, 33949, 35748, 5680, '', '', '', 36111, 18863, '', 2808, '', 29736, 8857, '', 17763, '', 36988, 31782, 31782, 27731, 37078, 32264, 37199, 8857, 37313, 37313, 37313, '', '', 37078, 37427, '', 6479, 6479, '', '', 38006, 397, '', 27807, '', 28598, 37621, 8579, 38576, 17916, 31782, '', 38927, 30463, '', '', 1188, 24904, 39100, 2419, 33348, 12320, 12320, 5680, '', 2067, 20923, 20923, 31782, 39526, 4859, 23, 2904, '', 2067, 39624, 31597, 14388, 37595, 25257, 35859, '', 34541, '', '', '', 3004, 40089, '', 31782, '', 4353, '', 40457, 40457, 40362, '', 397, '', '', 3277, '', 41035, '', '', '', 41129, 33040, '', 31782, 20673, 41354, 31782, 1043, '', 41446, 2067, '', 41508, 45189, 40362, 397, 41714, 12, 40362, '', 4428, 42460, 2067, 42564, 2067, 42913, 42921, '', '', '', 29852, 34647, '', '', 1181, 44604, '', 44628, '', 15820, 40362, '', 291, 17686, 2067, '', 2067, '', '', '', 34984, 6628, '', '', '', 45739, 45739, 16526, 2067, 45903, 45903, 41324, '', 45915, 39760, 45974, 45974, 40457, 20692, 46137, 45931, 45931, 33891, '', '', '', 31667, 31667, 40457, '', 31782, 46516, '', '', 39876, '', 2581, '', '', '', '', '', 41714, 13207, '', '']\n"
     ]
    }
   ],
   "source": [
    "print(publisher_id)\n"
   ]
  }
 ],
 "metadata": {
  "kernelspec": {
   "display_name": "Python 3",
   "language": "python",
   "name": "python3"
  },
  "language_info": {
   "codemirror_mode": {
    "name": "ipython",
    "version": 3
   },
   "file_extension": ".py",
   "mimetype": "text/x-python",
   "name": "python",
   "nbconvert_exporter": "python",
   "pygments_lexer": "ipython3",
   "version": "3.8.8"
  }
 },
 "nbformat": 4,
 "nbformat_minor": 5
}
