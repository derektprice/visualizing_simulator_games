{
 "cells": [
  {
   "cell_type": "code",
   "execution_count": 1,
   "id": "305dce0e",
   "metadata": {},
   "outputs": [],
   "source": [
    "import pandas as pd\n",
    "import pickle"
   ]
  },
  {
   "cell_type": "code",
   "execution_count": 2,
   "id": "ee6530ce",
   "metadata": {},
   "outputs": [],
   "source": [
    "with open('../data/platform_to_875.pkl', 'rb') as f1:\n",
    "    scrape1 = pickle.load(f1)\n",
    "with open('../data/platform_875_to_1119.pkl', 'rb') as f2:\n",
    "    scrape2 = pickle.load(f2)\n",
    "with open('../data/platform_1119_to_end.pkl', 'rb') as f3:\n",
    "    scrape3 = pickle.load(f3)"
   ]
  },
  {
   "cell_type": "code",
   "execution_count": 7,
   "id": "643eac8d",
   "metadata": {},
   "outputs": [
    {
     "data": {
      "text/plain": [
       "list"
      ]
     },
     "execution_count": 7,
     "metadata": {},
     "output_type": "execute_result"
    }
   ],
   "source": [
    "type(scrape1)"
   ]
  },
  {
   "cell_type": "code",
   "execution_count": 5,
   "id": "fc0465c6",
   "metadata": {},
   "outputs": [
    {
     "data": {
      "text/plain": [
       "244"
      ]
     },
     "execution_count": 5,
     "metadata": {},
     "output_type": "execute_result"
    }
   ],
   "source": [
    "len(scrape2)"
   ]
  },
  {
   "cell_type": "code",
   "execution_count": 6,
   "id": "8e752842",
   "metadata": {},
   "outputs": [
    {
     "data": {
      "text/plain": [
       "131"
      ]
     },
     "execution_count": 6,
     "metadata": {},
     "output_type": "execute_result"
    }
   ],
   "source": [
    "len(scrape3)"
   ]
  },
  {
   "cell_type": "code",
   "execution_count": 8,
   "id": "6d1b5493",
   "metadata": {},
   "outputs": [],
   "source": [
    "data = []"
   ]
  },
  {
   "cell_type": "code",
   "execution_count": 9,
   "id": "2660a009",
   "metadata": {},
   "outputs": [],
   "source": [
    "data.extend(scrape1)"
   ]
  },
  {
   "cell_type": "code",
   "execution_count": 14,
   "id": "e464a036",
   "metadata": {},
   "outputs": [
    {
     "data": {
      "text/plain": [
       "dict"
      ]
     },
     "execution_count": 14,
     "metadata": {},
     "output_type": "execute_result"
    }
   ],
   "source": [
    "type(data[0])"
   ]
  },
  {
   "cell_type": "code",
   "execution_count": 15,
   "id": "9255ae97",
   "metadata": {},
   "outputs": [],
   "source": [
    "data.extend(scrape2)"
   ]
  },
  {
   "cell_type": "code",
   "execution_count": 18,
   "id": "1acc97e7",
   "metadata": {
    "scrolled": true
   },
   "outputs": [
    {
     "data": {
      "text/plain": [
       "dict"
      ]
     },
     "execution_count": 18,
     "metadata": {},
     "output_type": "execute_result"
    }
   ],
   "source": [
    "type(data[1])"
   ]
  },
  {
   "cell_type": "code",
   "execution_count": 19,
   "id": "bd29fca7",
   "metadata": {},
   "outputs": [],
   "source": [
    "data.extend(scrape3)"
   ]
  },
  {
   "cell_type": "code",
   "execution_count": 21,
   "id": "a8895fdb",
   "metadata": {},
   "outputs": [
    {
     "data": {
      "text/plain": [
       "1250"
      ]
     },
     "execution_count": 21,
     "metadata": {},
     "output_type": "execute_result"
    }
   ],
   "source": [
    "len(data)"
   ]
  },
  {
   "cell_type": "code",
   "execution_count": 22,
   "id": "cfa3be44",
   "metadata": {},
   "outputs": [],
   "source": [
    "f = open(\"../data/full_company_scrape.pkl\",\"wb\")\n",
    "pickle.dump(data,f)\n",
    "f.close()"
   ]
  },
  {
   "cell_type": "markdown",
   "id": "869bf24b",
   "metadata": {},
   "source": [
    "### Ok, now we work with the full file (use full_company_scrape.pkl)"
   ]
  }
 ],
 "metadata": {
  "kernelspec": {
   "display_name": "Python 3",
   "language": "python",
   "name": "python3"
  },
  "language_info": {
   "codemirror_mode": {
    "name": "ipython",
    "version": 3
   },
   "file_extension": ".py",
   "mimetype": "text/x-python",
   "name": "python",
   "nbconvert_exporter": "python",
   "pygments_lexer": "ipython3",
   "version": "3.8.8"
  }
 },
 "nbformat": 4,
 "nbformat_minor": 5
}
