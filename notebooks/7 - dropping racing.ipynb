{
 "cells": [
  {
   "cell_type": "code",
   "execution_count": null,
   "id": "bdf7e11a",
   "metadata": {},
   "outputs": [],
   "source": [
    "import pandas as pd\n",
    "import numpy as np"
   ]
  },
  {
   "cell_type": "code",
   "execution_count": null,
   "id": "27e804f2",
   "metadata": {},
   "outputs": [],
   "source": [
    "#example from https://stackoverflow.com/questions/47914985/drop-a-row-in-a-pandas-dataframe-if-any-column-contains-a-certain-value-in-said\n",
    "\n",
    "# example df\n",
    "\n",
    "#     a   b   c   d   e   f   g   h   i   j\n",
    "# 0  95  79  14  64  97   3   0  49  84   2\n",
    "# 1  52  82  72  40  55  26  21  69   2  35\n",
    "# 2  30  63  27  63  14  23  70  62  83  80\n",
    "# 3  23  90  96  43  75  23  27  47  83  40\n",
    "# 4  82  87  63  37  36  58  88  18  50  29\n",
    "# 5  92  29  93   6  62  85  87  74  21  32\n",
    "# 6  23  64  19  22  50  86  51  93  46   1\n",
    "# 7  56   0   8  46   1  56  82  15  55  45\n",
    "# 8  67  35  83  65  63  58  48  85  75  90\n",
    "# 9  12   7  45  28  33  98  42  93  78  12\n",
    "\n",
    "# let's drop all rows containing at least one 0:\n",
    "\n",
    "# In [10]: df.eq(0)\n",
    "# Out[10]:\n",
    "#        a      b      c      d      e      f      g      h      i      j\n",
    "# 0  False  False  False  False  False  False   True  False  False  False\n",
    "# 1  False  False  False  False  False  False  False  False  False  False\n",
    "# 2  False  False  False  False  False  False  False  False  False  False\n",
    "# 3  False  False  False  False  False  False  False  False  False  False\n",
    "# 4  False  False  False  False  False  False  False  False  False  False\n",
    "# 5  False  False  False  False  False  False  False  False  False  False\n",
    "# 6  False  False  False  False  False  False  False  False  False  False\n",
    "# 7  False   True  False  False  False  False  False  False  False  False\n",
    "# 8  False  False  False  False  False  False  False  False  False  False\n",
    "# 9  False  False  False  False  False  False  False  False  False  False\n",
    "\n",
    "# In [11]: res = df[~df.eq(0).any(1)]\n",
    "\n",
    "# In [12]: res\n",
    "# Out[12]:\n",
    "#     a   b   c   d   e   f   g   h   i   j\n",
    "# 1  52  82  72  40  55  26  21  69   2  35\n",
    "# 2  30  63  27  63  14  23  70  62  83  80\n",
    "# 3  23  90  96  43  75  23  27  47  83  40\n",
    "# 4  82  87  63  37  36  58  88  18  50  29\n",
    "# 5  92  29  93   6  62  85  87  74  21  32\n",
    "# 6  23  64  19  22  50  86  51  93  46   1\n",
    "# 8  67  35  83  65  63  58  48  85  75  90\n",
    "# 9  12   7  45  28  33  98  42  93  78  12"
   ]
  },
  {
   "cell_type": "code",
   "execution_count": null,
   "id": "0c6187e5",
   "metadata": {},
   "outputs": [],
   "source": [
    "df = pd.read_csv(\"../data/all_genres_before_racing_drop_17_Dec_21.csv\")"
   ]
  },
  {
   "cell_type": "code",
   "execution_count": null,
   "id": "66514574",
   "metadata": {
    "scrolled": true
   },
   "outputs": [],
   "source": [
    "df.eq(\"Racing / driving\")"
   ]
  },
  {
   "cell_type": "code",
   "execution_count": null,
   "id": "00e8b2fd",
   "metadata": {},
   "outputs": [],
   "source": [
    "no_racing = df[~df.eq(\"Racing / driving\").any(1)]"
   ]
  },
  {
   "cell_type": "code",
   "execution_count": null,
   "id": "a17dcac8",
   "metadata": {
    "scrolled": true
   },
   "outputs": [],
   "source": [
    "no_racing.to_csv(\"../data/no_racing.csv\")"
   ]
  },
  {
   "cell_type": "code",
   "execution_count": null,
   "id": "d49d6bf3",
   "metadata": {},
   "outputs": [],
   "source": []
  },
  {
   "cell_type": "code",
   "execution_count": null,
   "id": "35677ff6",
   "metadata": {},
   "outputs": [],
   "source": [
    "only_racing = df[df.eq(\"Racing / driving\").any(1)]"
   ]
  },
  {
   "cell_type": "code",
   "execution_count": null,
   "id": "e28ddf3b",
   "metadata": {},
   "outputs": [],
   "source": [
    "only_racing.to_csv(\"../data/only_racing.csv\")"
   ]
  },
  {
   "cell_type": "markdown",
   "id": "7b8922c2",
   "metadata": {},
   "source": [
    "### doing some groupbys for genre"
   ]
  },
  {
   "cell_type": "code",
   "execution_count": null,
   "id": "2f42de95",
   "metadata": {},
   "outputs": [],
   "source": [
    "res = df.groupby([\"genre_name6\"])[\"title\"].nunique().sort_values(ascending=False)\n",
    "res.to_csv(\"../data/groupby_genre6.csv\")"
   ]
  },
  {
   "cell_type": "markdown",
   "id": "642ee9da",
   "metadata": {},
   "source": [
    "### looping through columns to get list of genre tags"
   ]
  },
  {
   "cell_type": "code",
   "execution_count": null,
   "id": "9c5fe417",
   "metadata": {},
   "outputs": [],
   "source": [
    "genre_string_list =[]"
   ]
  },
  {
   "cell_type": "code",
   "execution_count": null,
   "id": "afe6099b",
   "metadata": {},
   "outputs": [],
   "source": [
    "for data in df[\"genre_name7\"]:\n",
    "    if data not in genre_string_list:\n",
    "        genre_string_list.append(data)\n",
    "\n",
    "\n",
    "# for (columnName, columnData) in df.iteritems():\n",
    "#     print(type(columnData.values))\n",
    "#     for string in columnData.values():\n",
    "#         if string not in genre_string_list:\n",
    "#             genre_string_list.append(string)"
   ]
  },
  {
   "cell_type": "code",
   "execution_count": null,
   "id": "e579cb6c",
   "metadata": {},
   "outputs": [],
   "source": [
    "len(genre_string_list)"
   ]
  },
  {
   "cell_type": "code",
   "execution_count": null,
   "id": "75206561",
   "metadata": {},
   "outputs": [],
   "source": [
    "dataframe_lens = []"
   ]
  },
  {
   "cell_type": "code",
   "execution_count": null,
   "id": "995a7bdb",
   "metadata": {},
   "outputs": [],
   "source": [
    "### looping through with eq method\n",
    "\n",
    "for string in genre_string_list:\n",
    "    resdf = df[df.eq(string).any(1)]\n",
    "    dataframe_lens.append(len(resdf))\n",
    "    "
   ]
  },
  {
   "cell_type": "code",
   "execution_count": null,
   "id": "cbbba3b0",
   "metadata": {
    "scrolled": true
   },
   "outputs": [],
   "source": [
    "len(dataframe_lens)"
   ]
  },
  {
   "cell_type": "code",
   "execution_count": null,
   "id": "68979eaf",
   "metadata": {},
   "outputs": [],
   "source": [
    "genres_df = pd.DataFrame()"
   ]
  },
  {
   "cell_type": "code",
   "execution_count": null,
   "id": "111a9397",
   "metadata": {},
   "outputs": [],
   "source": [
    "genres_df[\"genre_name\"] = genre_string_list"
   ]
  },
  {
   "cell_type": "code",
   "execution_count": null,
   "id": "730f7af9",
   "metadata": {},
   "outputs": [],
   "source": [
    "genres_df[\"count_of_genre\"] = dataframe_lens"
   ]
  },
  {
   "cell_type": "code",
   "execution_count": null,
   "id": "20fbeedd",
   "metadata": {},
   "outputs": [],
   "source": [
    "genres_df.to_csv(\"../data/genre_tag_counts.csv\")"
   ]
  }
 ],
 "metadata": {
  "kernelspec": {
   "display_name": "Python 3",
   "language": "python",
   "name": "python3"
  },
  "language_info": {
   "codemirror_mode": {
    "name": "ipython",
    "version": 3
   },
   "file_extension": ".py",
   "mimetype": "text/x-python",
   "name": "python",
   "nbconvert_exporter": "python",
   "pygments_lexer": "ipython3",
   "version": "3.8.8"
  }
 },
 "nbformat": 4,
 "nbformat_minor": 5
}
